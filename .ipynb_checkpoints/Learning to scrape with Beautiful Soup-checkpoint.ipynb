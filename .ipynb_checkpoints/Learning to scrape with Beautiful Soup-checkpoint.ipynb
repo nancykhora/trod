{
 "cells": [
  {
   "cell_type": "markdown",
   "metadata": {},
   "source": [
    "# LEARNING TO SCRAPE\n",
    "\n",
    "Using beautiful soup to scrape the shit out of the internet"
   ]
  },
  {
   "cell_type": "code",
   "execution_count": 1,
   "metadata": {
    "collapsed": true
   },
   "outputs": [],
   "source": [
    "import bs4 as bs #importing beautiful script\n",
    "import urllib.request # to request a url\n",
    "import time\n",
    "import requests"
   ]
  },
  {
   "cell_type": "code",
   "execution_count": 9,
   "metadata": {
    "collapsed": true
   },
   "outputs": [
    {
     "name": "stdout",
     "output_type": "stream",
     "text": [
      "Oh, hello! This is a wonderful page meant to let you practice web scraping. This page was originally created to help people work with the Beautiful Soup 4 library.\n",
      "The following table gives some general information for the following programming languages:\n",
      "I think it's clear that, on a scale of 1-10, python is:\n",
      "Javascript (dynamic data) test:\n",
      "y u bad tho?\n",
      "Whᶐt hαppéns now¿\n",
      "sitemap\n",
      "\n",
      "Cancel  \n",
      "\t\t\t\t\t\tLogin\n",
      "\n",
      "\n",
      "Cancel  \n",
      "\t\t\t\t\t\t\t\tSign Up\n",
      "\n",
      "Contact: Harrison@pythonprogramming.net.\n",
      "Programming is a superpower.\n"
     ]
    }
   ],
   "source": [
    "srp_url = 'https://pythonprogramming.net/parsememcparseface/'\n",
    "src = urllib.request.urlopen(srp_url).read()\n",
    "\n",
    "soup = bs.BeautifulSoup(src,'lxml')\n",
    "\n",
    "for para in soup.find_all('p'):\n",
    "    print(para.text)\n"
   ]
  },
  {
   "cell_type": "markdown",
   "metadata": {},
   "source": [
    "The .string operation is not going to return the children tags in the paragraph. For that use .text => returns everything\n",
    "\n",
    "Or even get_text()"
   ]
  },
  {
   "cell_type": "code",
   "execution_count": 10,
   "metadata": {
    "collapsed": true
   },
   "outputs": [
    {
     "name": "stdout",
     "output_type": "stream",
     "text": [
      "Oh, hello! This is a wonderful page meant to let you practice web scraping. This page was originally created to help people work with the Beautiful Soup 4 library.\n",
      "The following table gives some general information for the following programming languages:\n",
      "I think it's clear that, on a scale of 1-10, python is:\n",
      "Javascript (dynamic data) test:\n",
      "y u bad tho?\n",
      "Whᶐt hαppéns now¿\n",
      "sitemap\n",
      "\n",
      "Cancel  \n",
      "\t\t\t\t\t\tLogin\n",
      "\n",
      "\n",
      "Cancel  \n",
      "\t\t\t\t\t\t\t\tSign Up\n",
      "\n",
      "Contact: Harrison@pythonprogramming.net.\n",
      "Programming is a superpower.\n"
     ]
    }
   ],
   "source": [
    "for para in soup.find_all('p'):\n",
    "    print(para.get_text())"
   ]
  },
  {
   "cell_type": "markdown",
   "metadata": {},
   "source": [
    "How to get the urls"
   ]
  },
  {
   "cell_type": "code",
   "execution_count": 11,
   "metadata": {
    "collapsed": true
   },
   "outputs": [
    {
     "name": "stdout",
     "output_type": "stream",
     "text": [
      "/\n",
      "#\n",
      "/\n",
      "/+=1/\n",
      "/store/python-hoodie/\n",
      "/community/\n",
      "/login/\n",
      "/register/\n",
      "/\n",
      "/+=1/\n",
      "/store/python-hoodie/\n",
      "/community/\n",
      "/login/\n",
      "/register/\n",
      "https://www.crummy.com/software/BeautifulSoup/bs4/doc/\n",
      "/sitemap.xml\n",
      "#\n",
      "#\n",
      "#\n",
      "/support-donate/\n",
      "/consulting/\n",
      "https://www.facebook.com/pythonprogramming.net/\n",
      "https://twitter.com/sentdex\n",
      "https://plus.google.com/+sentdex\n",
      "/about/tos/\n",
      "/about/privacy-policy/\n",
      "https://xkcd.com/353/\n"
     ]
    }
   ],
   "source": [
    "for url in soup.find_all('a'):\n",
    "    print(url.get('href'))"
   ]
  },
  {
   "cell_type": "markdown",
   "metadata": {},
   "source": [
    "Selecting a particular div class"
   ]
  },
  {
   "cell_type": "code",
   "execution_count": 13,
   "metadata": {
    "collapsed": true
   },
   "outputs": [
    {
     "name": "stdout",
     "output_type": "stream",
     "text": [
      "\n",
      "Oh, hello! This is a wonderful page meant to let you practice web scraping. This page was originally created to help people work with the Beautiful Soup 4 library.\n",
      "The following table gives some general information for the following programming languages:\n",
      "\n",
      "Python\n",
      "Pascal\n",
      "Lisp\n",
      "D#\n",
      "Cobol\n",
      "Fortran\n",
      "Haskell\n",
      "\n",
      "\n",
      "\n",
      "Program Name\n",
      "Internet Points\n",
      "Kittens?\n",
      "\n",
      "\n",
      "Python\n",
      "932914021\n",
      "Definitely\n",
      "\n",
      "\n",
      "Pascal\n",
      "532\n",
      "Unlikely\n",
      "\n",
      "\n",
      "Lisp\n",
      "1522\n",
      "Uncertain\n",
      "\n",
      "\n",
      "D#\n",
      "12\n",
      "Possibly\n",
      "\n",
      "\n",
      "Cobol\n",
      "3\n",
      "No.\n",
      "\n",
      "\n",
      "Fortran\n",
      "52124\n",
      "Yes.\n",
      "\n",
      "\n",
      "Haskell\n",
      "24\n",
      "lol.\n",
      "\n",
      "\n",
      "I think it's clear that, on a scale of 1-10, python is:\n",
      "\n",
      "\n",
      "\n",
      "\n",
      "\n",
      "\n",
      "Javascript (dynamic data) test:\n",
      "y u bad tho?\n",
      "\n",
      "     document.getElementById('yesnojs').innerHTML = 'Look at you shinin!';\n",
      "  \n",
      "\n",
      "Beautiful is better than ugly.\n",
      "Explicit is better than implicit.\n",
      "Simple is better than complex.\n",
      "Complex is better than complicated.\n",
      "Flat is better than nested.\n",
      "Sparse is better than dense.\n",
      "Readability counts.\n",
      "Special cases aren't special enough to break the rules.\n",
      "Although practicality beats purity.\n",
      "Errors should never pass silently.\n",
      "Unless explicitly silenced.\n",
      "In the face of ambiguity, refuse the temptation to guess.\n",
      "There should be one-- and preferably only one --obvious way to do it.\n",
      "Although that way may not be obvious at first unless you're Dutch.\n",
      "Now is better than never.\n",
      "Although never is often better than *right* now.\n",
      "If the implementation is hard to explain, it's a bad idea.\n",
      "If the implementation is easy to explain, it may be a good idea.\n",
      "Namespaces are one honking great idea -- let's do more of those!\n",
      "Whᶐt hαppéns now¿\n",
      "sitemap\n",
      "\n"
     ]
    }
   ],
   "source": [
    "for div in soup.find_all('div',class_='body'):\n",
    "    print(div.get_text())"
   ]
  },
  {
   "cell_type": "markdown",
   "metadata": {},
   "source": [
    "### tables "
   ]
  },
  {
   "cell_type": "code",
   "execution_count": 20,
   "metadata": {
    "collapsed": true
   },
   "outputs": [
    {
     "name": "stdout",
     "output_type": "stream",
     "text": [
      "[]\n",
      "['Python', '932914021', 'Definitely']\n",
      "['Pascal', '532', 'Unlikely']\n",
      "['Lisp', '1522', 'Uncertain']\n",
      "['D#', '12', 'Possibly']\n",
      "['Cobol', '3', 'No.']\n",
      "['Fortran', '52124', 'Yes.']\n",
      "['Haskell', '24', 'lol.']\n"
     ]
    }
   ],
   "source": [
    "tbl = soup.table\n",
    "# tbl = soup.find('table')\n",
    "\n",
    "table_rows = tbl.find_all('tr')\n",
    "# print (table_rows)\n",
    "for tr in table_rows:\n",
    "    td = tr.find_all('td')\n",
    "    row = [i.text for i in td]\n",
    "    print (row)"
   ]
  },
  {
   "cell_type": "markdown",
   "metadata": {
    "collapsed": true
   },
   "source": [
    "## Scraping from google"
   ]
  },
  {
   "cell_type": "code",
   "execution_count": 2,
   "metadata": {
    "collapsed": true
   },
   "outputs": [],
   "source": [
    "USER_AGENT = {'User-Agent':'Mozilla/5.0 (Windows NT 10.0; Win64; x64) AppleWebKit/537.36 (KHTML, like Gecko) Chrome/61.0.3163.100 Safari/537.36'}\n",
    "\n",
    " \n",
    "def fetch_results(search_term, number_results, language_code):\n",
    "    assert isinstance(search_term, str), 'Search term must be a string'\n",
    "    assert isinstance(number_results, int), 'Number of results must be an integer'\n",
    "    escaped_search_term = search_term.replace(' ', '+')\n",
    " \n",
    "    google_url = 'https://www.google.com/search?q={}&num={}&hl={}'.format(escaped_search_term, number_results, language_code)\n",
    "    response = requests.get(google_url, headers=USER_AGENT)\n",
    "    response.raise_for_status()\n",
    " \n",
    "    return search_term, response.text\n",
    " \n",
    "# if __name__ == '__main__':\n",
    "#     keyword, html = fetch_results('edmund martin', 100, 'en')\n",
    "#     print(html)"
   ]
  },
  {
   "cell_type": "markdown",
   "metadata": {},
   "source": [
    "## Parse results"
   ]
  },
  {
   "cell_type": "code",
   "execution_count": 4,
   "metadata": {
    "collapsed": true
   },
   "outputs": [
    {
     "name": "stdout",
     "output_type": "stream",
     "text": [
      "What is your destination?goa\n",
      "[{'keyword': 'goa', 'rank': 1, 'title': 'Goa - Wikipedia', 'description': \"Goa /ˈɡoʊ.ə/ ( About this sound listen) is a state on the South Western coast of India within the coastal region known as the Konkan. It is bounded by Maharashtra to the north and Karnataka to the east and south, with the Arabian Sea forming its Western coast. It is India's smallest state by area and the fourth smallest by\\xa0...\", 'link': 'https://en.wikipedia.org/wiki/Goa'}, {'keyword': 'goa', 'rank': 2, 'title': 'Things to do in Goa', 'description': None, 'link': '/destination/map/topsights?q=goa&hl=en&dcr=0&site=search&output=search&dest_mid=/m/01c1nm&sa=X&ved=0ahUKEwjoxJiMiNfZAhVLs48KHTHVCi0Q69EBCDsoADAB#trifp=skpm%3D/m/07q9zt'}, {'keyword': 'goa', 'rank': 3, 'title': 'Things to do in Goa', 'description': None, 'link': '/destination/map/topsights?q=goa&hl=en&dcr=0&site=search&output=search&dest_mid=/m/01c1nm&sa=X&ved=0ahUKEwjoxJiMiNfZAhVLs48KHTHVCi0Q69EBCDsoADAB#trifp=skpm%3D/m/07q9zt'}, {'keyword': 'goa', 'rank': 4, 'title': 'Goa travel - Lonely Planet', 'description': \"Pint-sized Goa is more than beaches and trance parties. A kaleidoscopic blend of Indian and Portuguese cultures, sweetened with sun, sea, sand, seafood and spirituality, there's nowhere in India quite like it. ... Beaches, sun and Vindaloo – Lonely Planet's guide to winter in Goa.\", 'link': 'https://www.lonelyplanet.com/india/goa'}, {'keyword': 'goa', 'rank': 5, 'title': 'Goa Tourism (2018): Best of Goa, India - TripAdvisor', 'description': 'Goa Tourism: TripAdvisor has 4,04953 reviews of Goa Hotels, Attractions, and Restaurants making it your best Goa Tourism resource.', 'link': 'https://www.tripadvisor.in/Tourism-g297604-Goa-Vacations.html'}, {'keyword': 'goa', 'rank': 6, 'title': 'Goa - Wikitravel', 'description': \"Goa, a state on India's West coast, is a former Portuguese colony with a rich history. Spread over 3,700 square kilometres with a population of approximately 1.8 million, Goa is small by Indian standards. It has a unique mix of Indian and Portuguese cultures and architecture that attracts an estimated 2.5 million visitors each\\xa0...\", 'link': 'https://wikitravel.org/en/Goa'}, {'keyword': 'goa', 'rank': 7, 'title': 'Government of Goa | Official Portal', 'description': 'About Goa. Goa, a tiny emerald land on the west coast of India, the 25th state of the Union states of India, was liberated from Portuguese rule in 1961. It was a part of Union Territory of Goa, Daman & Diu till 30th May 1987 when it was carved out of form a separate state. Goa covers an area of 3702 square kilometers and\\xa0...', 'link': 'https://www.goa.gov.in/'}, {'keyword': 'goa', 'rank': 8, 'title': 'Goa Tourism - Beaches', 'description': 'Bambolim beach Bambolim SOUTH GOA. The Bambolim beach is a great place to have a beach picnic and enjoy the quiet and solitude of one of the less frequented beaches in Goa... Map Location. Location. 7 km. From Panaji\\xa0...', 'link': 'http://goa-tourism.com/GTDC-holidays/see-beaches.htm'}, {'keyword': 'goa', 'rank': 9, 'title': 'GTDC shop for booking tours budget hotels Holidays in Goa', 'description': 'GTDC official website book tourist budget hotels in Goa with range of discounts Holiday Packages, water sports activities & tours at affordable rates.', 'link': 'http://goa-tourism.com/'}, {'keyword': 'goa', 'rank': 10, 'title': 'Goa Tourism > Beaches, Travel Guide, Best Beaches, Tours & Packages', 'description': 'Get the best Information about Goa Tourism. Get travel guides and plan your trip to Goa with places to visit, sightseeing, hotels, and reviews by other travellers.', 'link': 'https://www.holidify.com/places/goa/'}]\n",
      "[{'keyword': 'goa', 'rank': 1, 'title': 'Goa - Wikipedia', 'description': \"Goa /ˈɡoʊ.ə/ ( About this sound listen) is a state on the South Western coast of India within the coastal region known as the Konkan. It is bounded by Maharashtra to the north and Karnataka to the east and south, with the Arabian Sea forming its Western coast. It is India's smallest state by area and the fourth smallest by\\xa0...\", 'link': 'https://en.wikipedia.org/wiki/Goa'}, {'keyword': 'goa', 'rank': 2, 'title': 'Things to do in Goa', 'description': None, 'link': '/destination/map/topsights?q=goa&hl=en&dcr=0&site=search&output=search&dest_mid=/m/01c1nm&sa=X&ved=0ahUKEwjoxJiMiNfZAhVLs48KHTHVCi0Q69EBCDsoADAB#trifp=skpm%3D/m/07q9zt'}, {'keyword': 'goa', 'rank': 3, 'title': 'Things to do in Goa', 'description': None, 'link': '/destination/map/topsights?q=goa&hl=en&dcr=0&site=search&output=search&dest_mid=/m/01c1nm&sa=X&ved=0ahUKEwjoxJiMiNfZAhVLs48KHTHVCi0Q69EBCDsoADAB#trifp=skpm%3D/m/07q9zt'}, {'keyword': 'goa', 'rank': 4, 'title': 'Goa travel - Lonely Planet', 'description': \"Pint-sized Goa is more than beaches and trance parties. A kaleidoscopic blend of Indian and Portuguese cultures, sweetened with sun, sea, sand, seafood and spirituality, there's nowhere in India quite like it. ... Beaches, sun and Vindaloo – Lonely Planet's guide to winter in Goa.\", 'link': 'https://www.lonelyplanet.com/india/goa'}, {'keyword': 'goa', 'rank': 5, 'title': 'Goa Tourism (2018): Best of Goa, India - TripAdvisor', 'description': 'Goa Tourism: TripAdvisor has 4,04953 reviews of Goa Hotels, Attractions, and Restaurants making it your best Goa Tourism resource.', 'link': 'https://www.tripadvisor.in/Tourism-g297604-Goa-Vacations.html'}, {'keyword': 'goa', 'rank': 6, 'title': 'Goa - Wikitravel', 'description': \"Goa, a state on India's West coast, is a former Portuguese colony with a rich history. Spread over 3,700 square kilometres with a population of approximately 1.8 million, Goa is small by Indian standards. It has a unique mix of Indian and Portuguese cultures and architecture that attracts an estimated 2.5 million visitors each\\xa0...\", 'link': 'https://wikitravel.org/en/Goa'}, {'keyword': 'goa', 'rank': 7, 'title': 'Government of Goa | Official Portal', 'description': 'About Goa. Goa, a tiny emerald land on the west coast of India, the 25th state of the Union states of India, was liberated from Portuguese rule in 1961. It was a part of Union Territory of Goa, Daman & Diu till 30th May 1987 when it was carved out of form a separate state. Goa covers an area of 3702 square kilometers and\\xa0...', 'link': 'https://www.goa.gov.in/'}, {'keyword': 'goa', 'rank': 8, 'title': 'Goa Tourism - Beaches', 'description': 'Bambolim beach Bambolim SOUTH GOA. The Bambolim beach is a great place to have a beach picnic and enjoy the quiet and solitude of one of the less frequented beaches in Goa... Map Location. Location. 7 km. From Panaji\\xa0...', 'link': 'http://goa-tourism.com/GTDC-holidays/see-beaches.htm'}, {'keyword': 'goa', 'rank': 9, 'title': 'GTDC shop for booking tours budget hotels Holidays in Goa', 'description': 'GTDC official website book tourist budget hotels in Goa with range of discounts Holiday Packages, water sports activities & tours at affordable rates.', 'link': 'http://goa-tourism.com/'}, {'keyword': 'goa', 'rank': 10, 'title': 'Goa Tourism > Beaches, Travel Guide, Best Beaches, Tours & Packages', 'description': 'Get the best Information about Goa Tourism. Get travel guides and plan your trip to Goa with places to visit, sightseeing, hotels, and reviews by other travellers.', 'link': 'https://www.holidify.com/places/goa/'}]\n",
      "[{'keyword': 'goa', 'rank': 1, 'title': 'Goa - Wikipedia', 'description': \"Goa /ˈɡoʊ.ə/ ( About this sound listen) is a state on the South Western coast of India within the coastal region known as the Konkan. It is bounded by Maharashtra to the north and Karnataka to the east and south, with the Arabian Sea forming its Western coast. It is India's smallest state by area and the fourth smallest by\\xa0...\", 'link': 'https://en.wikipedia.org/wiki/Goa'}, {'keyword': 'goa', 'rank': 2, 'title': 'Things to do in Goa', 'description': None, 'link': '/destination/map/topsights?q=goa&hl=en&dcr=0&site=search&output=search&dest_mid=/m/01c1nm&sa=X&ved=0ahUKEwjoxJiMiNfZAhVLs48KHTHVCi0Q69EBCDsoADAB#trifp=skpm%3D/m/07q9zt'}, {'keyword': 'goa', 'rank': 3, 'title': 'Things to do in Goa', 'description': None, 'link': '/destination/map/topsights?q=goa&hl=en&dcr=0&site=search&output=search&dest_mid=/m/01c1nm&sa=X&ved=0ahUKEwjoxJiMiNfZAhVLs48KHTHVCi0Q69EBCDsoADAB#trifp=skpm%3D/m/07q9zt'}, {'keyword': 'goa', 'rank': 4, 'title': 'Goa travel - Lonely Planet', 'description': \"Pint-sized Goa is more than beaches and trance parties. A kaleidoscopic blend of Indian and Portuguese cultures, sweetened with sun, sea, sand, seafood and spirituality, there's nowhere in India quite like it. ... Beaches, sun and Vindaloo – Lonely Planet's guide to winter in Goa.\", 'link': 'https://www.lonelyplanet.com/india/goa'}, {'keyword': 'goa', 'rank': 5, 'title': 'Goa Tourism (2018): Best of Goa, India - TripAdvisor', 'description': 'Goa Tourism: TripAdvisor has 4,04953 reviews of Goa Hotels, Attractions, and Restaurants making it your best Goa Tourism resource.', 'link': 'https://www.tripadvisor.in/Tourism-g297604-Goa-Vacations.html'}, {'keyword': 'goa', 'rank': 6, 'title': 'Goa - Wikitravel', 'description': \"Goa, a state on India's West coast, is a former Portuguese colony with a rich history. Spread over 3,700 square kilometres with a population of approximately 1.8 million, Goa is small by Indian standards. It has a unique mix of Indian and Portuguese cultures and architecture that attracts an estimated 2.5 million visitors each\\xa0...\", 'link': 'https://wikitravel.org/en/Goa'}, {'keyword': 'goa', 'rank': 7, 'title': 'Government of Goa | Official Portal', 'description': 'About Goa. Goa, a tiny emerald land on the west coast of India, the 25th state of the Union states of India, was liberated from Portuguese rule in 1961. It was a part of Union Territory of Goa, Daman & Diu till 30th May 1987 when it was carved out of form a separate state. Goa covers an area of 3702 square kilometers and\\xa0...', 'link': 'https://www.goa.gov.in/'}, {'keyword': 'goa', 'rank': 8, 'title': 'Goa Tourism - Beaches', 'description': 'Bambolim beach Bambolim SOUTH GOA. The Bambolim beach is a great place to have a beach picnic and enjoy the quiet and solitude of one of the less frequented beaches in Goa... Map Location. Location. 7 km. From Panaji\\xa0...', 'link': 'http://goa-tourism.com/GTDC-holidays/see-beaches.htm'}, {'keyword': 'goa', 'rank': 9, 'title': 'GTDC shop for booking tours budget hotels Holidays in Goa', 'description': 'GTDC official website book tourist budget hotels in Goa with range of discounts Holiday Packages, water sports activities & tours at affordable rates.', 'link': 'http://goa-tourism.com/'}, {'keyword': 'goa', 'rank': 10, 'title': 'Goa Tourism > Beaches, Travel Guide, Best Beaches, Tours & Packages', 'description': 'Get the best Information about Goa Tourism. Get travel guides and plan your trip to Goa with places to visit, sightseeing, hotels, and reviews by other travellers.', 'link': 'https://www.holidify.com/places/goa/'}]\n",
      "[{'keyword': 'goa', 'rank': 1, 'title': 'Goa - Wikipedia', 'description': \"Goa /ˈɡoʊ.ə/ ( About this sound listen) is a state on the South Western coast of India within the coastal region known as the Konkan. It is bounded by Maharashtra to the north and Karnataka to the east and south, with the Arabian Sea forming its Western coast. It is India's smallest state by area and the fourth smallest by\\xa0...\", 'link': 'https://en.wikipedia.org/wiki/Goa'}, {'keyword': 'goa', 'rank': 2, 'title': 'Things to do in Goa', 'description': None, 'link': '/destination/map/topsights?q=goa&hl=en&dcr=0&site=search&output=search&dest_mid=/m/01c1nm&sa=X&ved=0ahUKEwjoxJiMiNfZAhVLs48KHTHVCi0Q69EBCDsoADAB#trifp=skpm%3D/m/07q9zt'}, {'keyword': 'goa', 'rank': 3, 'title': 'Things to do in Goa', 'description': None, 'link': '/destination/map/topsights?q=goa&hl=en&dcr=0&site=search&output=search&dest_mid=/m/01c1nm&sa=X&ved=0ahUKEwjoxJiMiNfZAhVLs48KHTHVCi0Q69EBCDsoADAB#trifp=skpm%3D/m/07q9zt'}, {'keyword': 'goa', 'rank': 4, 'title': 'Goa travel - Lonely Planet', 'description': \"Pint-sized Goa is more than beaches and trance parties. A kaleidoscopic blend of Indian and Portuguese cultures, sweetened with sun, sea, sand, seafood and spirituality, there's nowhere in India quite like it. ... Beaches, sun and Vindaloo – Lonely Planet's guide to winter in Goa.\", 'link': 'https://www.lonelyplanet.com/india/goa'}, {'keyword': 'goa', 'rank': 5, 'title': 'Goa Tourism (2018): Best of Goa, India - TripAdvisor', 'description': 'Goa Tourism: TripAdvisor has 4,04953 reviews of Goa Hotels, Attractions, and Restaurants making it your best Goa Tourism resource.', 'link': 'https://www.tripadvisor.in/Tourism-g297604-Goa-Vacations.html'}, {'keyword': 'goa', 'rank': 6, 'title': 'Goa - Wikitravel', 'description': \"Goa, a state on India's West coast, is a former Portuguese colony with a rich history. Spread over 3,700 square kilometres with a population of approximately 1.8 million, Goa is small by Indian standards. It has a unique mix of Indian and Portuguese cultures and architecture that attracts an estimated 2.5 million visitors each\\xa0...\", 'link': 'https://wikitravel.org/en/Goa'}, {'keyword': 'goa', 'rank': 7, 'title': 'Government of Goa | Official Portal', 'description': 'About Goa. Goa, a tiny emerald land on the west coast of India, the 25th state of the Union states of India, was liberated from Portuguese rule in 1961. It was a part of Union Territory of Goa, Daman & Diu till 30th May 1987 when it was carved out of form a separate state. Goa covers an area of 3702 square kilometers and\\xa0...', 'link': 'https://www.goa.gov.in/'}, {'keyword': 'goa', 'rank': 8, 'title': 'Goa Tourism - Beaches', 'description': 'Bambolim beach Bambolim SOUTH GOA. The Bambolim beach is a great place to have a beach picnic and enjoy the quiet and solitude of one of the less frequented beaches in Goa... Map Location. Location. 7 km. From Panaji\\xa0...', 'link': 'http://goa-tourism.com/GTDC-holidays/see-beaches.htm'}, {'keyword': 'goa', 'rank': 9, 'title': 'GTDC shop for booking tours budget hotels Holidays in Goa', 'description': 'GTDC official website book tourist budget hotels in Goa with range of discounts Holiday Packages, water sports activities & tours at affordable rates.', 'link': 'http://goa-tourism.com/'}, {'keyword': 'goa', 'rank': 10, 'title': 'Goa Tourism > Beaches, Travel Guide, Best Beaches, Tours & Packages', 'description': 'Get the best Information about Goa Tourism. Get travel guides and plan your trip to Goa with places to visit, sightseeing, hotels, and reviews by other travellers.', 'link': 'https://www.holidify.com/places/goa/'}]\n",
      "[{'keyword': 'goa', 'rank': 1, 'title': 'Goa - Wikipedia', 'description': \"Goa /ˈɡoʊ.ə/ ( About this sound listen) is a state on the South Western coast of India within the coastal region known as the Konkan. It is bounded by Maharashtra to the north and Karnataka to the east and south, with the Arabian Sea forming its Western coast. It is India's smallest state by area and the fourth smallest by\\xa0...\", 'link': 'https://en.wikipedia.org/wiki/Goa'}, {'keyword': 'goa', 'rank': 2, 'title': 'Things to do in Goa', 'description': None, 'link': '/destination/map/topsights?q=goa&hl=en&dcr=0&site=search&output=search&dest_mid=/m/01c1nm&sa=X&ved=0ahUKEwjoxJiMiNfZAhVLs48KHTHVCi0Q69EBCDsoADAB#trifp=skpm%3D/m/07q9zt'}, {'keyword': 'goa', 'rank': 3, 'title': 'Things to do in Goa', 'description': None, 'link': '/destination/map/topsights?q=goa&hl=en&dcr=0&site=search&output=search&dest_mid=/m/01c1nm&sa=X&ved=0ahUKEwjoxJiMiNfZAhVLs48KHTHVCi0Q69EBCDsoADAB#trifp=skpm%3D/m/07q9zt'}, {'keyword': 'goa', 'rank': 4, 'title': 'Goa travel - Lonely Planet', 'description': \"Pint-sized Goa is more than beaches and trance parties. A kaleidoscopic blend of Indian and Portuguese cultures, sweetened with sun, sea, sand, seafood and spirituality, there's nowhere in India quite like it. ... Beaches, sun and Vindaloo – Lonely Planet's guide to winter in Goa.\", 'link': 'https://www.lonelyplanet.com/india/goa'}, {'keyword': 'goa', 'rank': 5, 'title': 'Goa Tourism (2018): Best of Goa, India - TripAdvisor', 'description': 'Goa Tourism: TripAdvisor has 4,04953 reviews of Goa Hotels, Attractions, and Restaurants making it your best Goa Tourism resource.', 'link': 'https://www.tripadvisor.in/Tourism-g297604-Goa-Vacations.html'}, {'keyword': 'goa', 'rank': 6, 'title': 'Goa - Wikitravel', 'description': \"Goa, a state on India's West coast, is a former Portuguese colony with a rich history. Spread over 3,700 square kilometres with a population of approximately 1.8 million, Goa is small by Indian standards. It has a unique mix of Indian and Portuguese cultures and architecture that attracts an estimated 2.5 million visitors each\\xa0...\", 'link': 'https://wikitravel.org/en/Goa'}, {'keyword': 'goa', 'rank': 7, 'title': 'Government of Goa | Official Portal', 'description': 'About Goa. Goa, a tiny emerald land on the west coast of India, the 25th state of the Union states of India, was liberated from Portuguese rule in 1961. It was a part of Union Territory of Goa, Daman & Diu till 30th May 1987 when it was carved out of form a separate state. Goa covers an area of 3702 square kilometers and\\xa0...', 'link': 'https://www.goa.gov.in/'}, {'keyword': 'goa', 'rank': 8, 'title': 'Goa Tourism - Beaches', 'description': 'Bambolim beach Bambolim SOUTH GOA. The Bambolim beach is a great place to have a beach picnic and enjoy the quiet and solitude of one of the less frequented beaches in Goa... Map Location. Location. 7 km. From Panaji\\xa0...', 'link': 'http://goa-tourism.com/GTDC-holidays/see-beaches.htm'}, {'keyword': 'goa', 'rank': 9, 'title': 'GTDC shop for booking tours budget hotels Holidays in Goa', 'description': 'GTDC official website book tourist budget hotels in Goa with range of discounts Holiday Packages, water sports activities & tours at affordable rates.', 'link': 'http://goa-tourism.com/'}, {'keyword': 'goa', 'rank': 10, 'title': 'Goa Tourism > Beaches, Travel Guide, Best Beaches, Tours & Packages', 'description': 'Get the best Information about Goa Tourism. Get travel guides and plan your trip to Goa with places to visit, sightseeing, hotels, and reviews by other travellers.', 'link': 'https://www.holidify.com/places/goa/'}]\n",
      "[{'keyword': 'goa', 'rank': 1, 'title': 'Goa - Wikipedia', 'description': \"Goa /ˈɡoʊ.ə/ ( About this sound listen) is a state on the South Western coast of India within the coastal region known as the Konkan. It is bounded by Maharashtra to the north and Karnataka to the east and south, with the Arabian Sea forming its Western coast. It is India's smallest state by area and the fourth smallest by\\xa0...\", 'link': 'https://en.wikipedia.org/wiki/Goa'}, {'keyword': 'goa', 'rank': 2, 'title': 'Things to do in Goa', 'description': None, 'link': '/destination/map/topsights?q=goa&hl=en&dcr=0&site=search&output=search&dest_mid=/m/01c1nm&sa=X&ved=0ahUKEwjoxJiMiNfZAhVLs48KHTHVCi0Q69EBCDsoADAB#trifp=skpm%3D/m/07q9zt'}, {'keyword': 'goa', 'rank': 3, 'title': 'Things to do in Goa', 'description': None, 'link': '/destination/map/topsights?q=goa&hl=en&dcr=0&site=search&output=search&dest_mid=/m/01c1nm&sa=X&ved=0ahUKEwjoxJiMiNfZAhVLs48KHTHVCi0Q69EBCDsoADAB#trifp=skpm%3D/m/07q9zt'}, {'keyword': 'goa', 'rank': 4, 'title': 'Goa travel - Lonely Planet', 'description': \"Pint-sized Goa is more than beaches and trance parties. A kaleidoscopic blend of Indian and Portuguese cultures, sweetened with sun, sea, sand, seafood and spirituality, there's nowhere in India quite like it. ... Beaches, sun and Vindaloo – Lonely Planet's guide to winter in Goa.\", 'link': 'https://www.lonelyplanet.com/india/goa'}, {'keyword': 'goa', 'rank': 5, 'title': 'Goa Tourism (2018): Best of Goa, India - TripAdvisor', 'description': 'Goa Tourism: TripAdvisor has 4,04953 reviews of Goa Hotels, Attractions, and Restaurants making it your best Goa Tourism resource.', 'link': 'https://www.tripadvisor.in/Tourism-g297604-Goa-Vacations.html'}, {'keyword': 'goa', 'rank': 6, 'title': 'Goa - Wikitravel', 'description': \"Goa, a state on India's West coast, is a former Portuguese colony with a rich history. Spread over 3,700 square kilometres with a population of approximately 1.8 million, Goa is small by Indian standards. It has a unique mix of Indian and Portuguese cultures and architecture that attracts an estimated 2.5 million visitors each\\xa0...\", 'link': 'https://wikitravel.org/en/Goa'}, {'keyword': 'goa', 'rank': 7, 'title': 'Government of Goa | Official Portal', 'description': 'About Goa. Goa, a tiny emerald land on the west coast of India, the 25th state of the Union states of India, was liberated from Portuguese rule in 1961. It was a part of Union Territory of Goa, Daman & Diu till 30th May 1987 when it was carved out of form a separate state. Goa covers an area of 3702 square kilometers and\\xa0...', 'link': 'https://www.goa.gov.in/'}, {'keyword': 'goa', 'rank': 8, 'title': 'Goa Tourism - Beaches', 'description': 'Bambolim beach Bambolim SOUTH GOA. The Bambolim beach is a great place to have a beach picnic and enjoy the quiet and solitude of one of the less frequented beaches in Goa... Map Location. Location. 7 km. From Panaji\\xa0...', 'link': 'http://goa-tourism.com/GTDC-holidays/see-beaches.htm'}, {'keyword': 'goa', 'rank': 9, 'title': 'GTDC shop for booking tours budget hotels Holidays in Goa', 'description': 'GTDC official website book tourist budget hotels in Goa with range of discounts Holiday Packages, water sports activities & tours at affordable rates.', 'link': 'http://goa-tourism.com/'}, {'keyword': 'goa', 'rank': 10, 'title': 'Goa Tourism > Beaches, Travel Guide, Best Beaches, Tours & Packages', 'description': 'Get the best Information about Goa Tourism. Get travel guides and plan your trip to Goa with places to visit, sightseeing, hotels, and reviews by other travellers.', 'link': 'https://www.holidify.com/places/goa/'}]\n",
      "[{'keyword': 'goa', 'rank': 1, 'title': 'Goa - Wikipedia', 'description': \"Goa /ˈɡoʊ.ə/ ( About this sound listen) is a state on the South Western coast of India within the coastal region known as the Konkan. It is bounded by Maharashtra to the north and Karnataka to the east and south, with the Arabian Sea forming its Western coast. It is India's smallest state by area and the fourth smallest by\\xa0...\", 'link': 'https://en.wikipedia.org/wiki/Goa'}, {'keyword': 'goa', 'rank': 2, 'title': 'Things to do in Goa', 'description': None, 'link': '/destination/map/topsights?q=goa&hl=en&dcr=0&site=search&output=search&dest_mid=/m/01c1nm&sa=X&ved=0ahUKEwjoxJiMiNfZAhVLs48KHTHVCi0Q69EBCDsoADAB#trifp=skpm%3D/m/07q9zt'}, {'keyword': 'goa', 'rank': 3, 'title': 'Things to do in Goa', 'description': None, 'link': '/destination/map/topsights?q=goa&hl=en&dcr=0&site=search&output=search&dest_mid=/m/01c1nm&sa=X&ved=0ahUKEwjoxJiMiNfZAhVLs48KHTHVCi0Q69EBCDsoADAB#trifp=skpm%3D/m/07q9zt'}, {'keyword': 'goa', 'rank': 4, 'title': 'Goa travel - Lonely Planet', 'description': \"Pint-sized Goa is more than beaches and trance parties. A kaleidoscopic blend of Indian and Portuguese cultures, sweetened with sun, sea, sand, seafood and spirituality, there's nowhere in India quite like it. ... Beaches, sun and Vindaloo – Lonely Planet's guide to winter in Goa.\", 'link': 'https://www.lonelyplanet.com/india/goa'}, {'keyword': 'goa', 'rank': 5, 'title': 'Goa Tourism (2018): Best of Goa, India - TripAdvisor', 'description': 'Goa Tourism: TripAdvisor has 4,04953 reviews of Goa Hotels, Attractions, and Restaurants making it your best Goa Tourism resource.', 'link': 'https://www.tripadvisor.in/Tourism-g297604-Goa-Vacations.html'}, {'keyword': 'goa', 'rank': 6, 'title': 'Goa - Wikitravel', 'description': \"Goa, a state on India's West coast, is a former Portuguese colony with a rich history. Spread over 3,700 square kilometres with a population of approximately 1.8 million, Goa is small by Indian standards. It has a unique mix of Indian and Portuguese cultures and architecture that attracts an estimated 2.5 million visitors each\\xa0...\", 'link': 'https://wikitravel.org/en/Goa'}, {'keyword': 'goa', 'rank': 7, 'title': 'Government of Goa | Official Portal', 'description': 'About Goa. Goa, a tiny emerald land on the west coast of India, the 25th state of the Union states of India, was liberated from Portuguese rule in 1961. It was a part of Union Territory of Goa, Daman & Diu till 30th May 1987 when it was carved out of form a separate state. Goa covers an area of 3702 square kilometers and\\xa0...', 'link': 'https://www.goa.gov.in/'}, {'keyword': 'goa', 'rank': 8, 'title': 'Goa Tourism - Beaches', 'description': 'Bambolim beach Bambolim SOUTH GOA. The Bambolim beach is a great place to have a beach picnic and enjoy the quiet and solitude of one of the less frequented beaches in Goa... Map Location. Location. 7 km. From Panaji\\xa0...', 'link': 'http://goa-tourism.com/GTDC-holidays/see-beaches.htm'}, {'keyword': 'goa', 'rank': 9, 'title': 'GTDC shop for booking tours budget hotels Holidays in Goa', 'description': 'GTDC official website book tourist budget hotels in Goa with range of discounts Holiday Packages, water sports activities & tours at affordable rates.', 'link': 'http://goa-tourism.com/'}, {'keyword': 'goa', 'rank': 10, 'title': 'Goa Tourism > Beaches, Travel Guide, Best Beaches, Tours & Packages', 'description': 'Get the best Information about Goa Tourism. Get travel guides and plan your trip to Goa with places to visit, sightseeing, hotels, and reviews by other travellers.', 'link': 'https://www.holidify.com/places/goa/'}]\n",
      "[{'keyword': 'goa', 'rank': 1, 'title': 'Goa - Wikipedia', 'description': \"Goa /ˈɡoʊ.ə/ ( About this sound listen) is a state on the South Western coast of India within the coastal region known as the Konkan. It is bounded by Maharashtra to the north and Karnataka to the east and south, with the Arabian Sea forming its Western coast. It is India's smallest state by area and the fourth smallest by\\xa0...\", 'link': 'https://en.wikipedia.org/wiki/Goa'}, {'keyword': 'goa', 'rank': 2, 'title': 'Things to do in Goa', 'description': None, 'link': '/destination/map/topsights?q=goa&hl=en&dcr=0&site=search&output=search&dest_mid=/m/01c1nm&sa=X&ved=0ahUKEwjoxJiMiNfZAhVLs48KHTHVCi0Q69EBCDsoADAB#trifp=skpm%3D/m/07q9zt'}, {'keyword': 'goa', 'rank': 3, 'title': 'Things to do in Goa', 'description': None, 'link': '/destination/map/topsights?q=goa&hl=en&dcr=0&site=search&output=search&dest_mid=/m/01c1nm&sa=X&ved=0ahUKEwjoxJiMiNfZAhVLs48KHTHVCi0Q69EBCDsoADAB#trifp=skpm%3D/m/07q9zt'}, {'keyword': 'goa', 'rank': 4, 'title': 'Goa travel - Lonely Planet', 'description': \"Pint-sized Goa is more than beaches and trance parties. A kaleidoscopic blend of Indian and Portuguese cultures, sweetened with sun, sea, sand, seafood and spirituality, there's nowhere in India quite like it. ... Beaches, sun and Vindaloo – Lonely Planet's guide to winter in Goa.\", 'link': 'https://www.lonelyplanet.com/india/goa'}, {'keyword': 'goa', 'rank': 5, 'title': 'Goa Tourism (2018): Best of Goa, India - TripAdvisor', 'description': 'Goa Tourism: TripAdvisor has 4,04953 reviews of Goa Hotels, Attractions, and Restaurants making it your best Goa Tourism resource.', 'link': 'https://www.tripadvisor.in/Tourism-g297604-Goa-Vacations.html'}, {'keyword': 'goa', 'rank': 6, 'title': 'Goa - Wikitravel', 'description': \"Goa, a state on India's West coast, is a former Portuguese colony with a rich history. Spread over 3,700 square kilometres with a population of approximately 1.8 million, Goa is small by Indian standards. It has a unique mix of Indian and Portuguese cultures and architecture that attracts an estimated 2.5 million visitors each\\xa0...\", 'link': 'https://wikitravel.org/en/Goa'}, {'keyword': 'goa', 'rank': 7, 'title': 'Government of Goa | Official Portal', 'description': 'About Goa. Goa, a tiny emerald land on the west coast of India, the 25th state of the Union states of India, was liberated from Portuguese rule in 1961. It was a part of Union Territory of Goa, Daman & Diu till 30th May 1987 when it was carved out of form a separate state. Goa covers an area of 3702 square kilometers and\\xa0...', 'link': 'https://www.goa.gov.in/'}, {'keyword': 'goa', 'rank': 8, 'title': 'Goa Tourism - Beaches', 'description': 'Bambolim beach Bambolim SOUTH GOA. The Bambolim beach is a great place to have a beach picnic and enjoy the quiet and solitude of one of the less frequented beaches in Goa... Map Location. Location. 7 km. From Panaji\\xa0...', 'link': 'http://goa-tourism.com/GTDC-holidays/see-beaches.htm'}, {'keyword': 'goa', 'rank': 9, 'title': 'GTDC shop for booking tours budget hotels Holidays in Goa', 'description': 'GTDC official website book tourist budget hotels in Goa with range of discounts Holiday Packages, water sports activities & tours at affordable rates.', 'link': 'http://goa-tourism.com/'}, {'keyword': 'goa', 'rank': 10, 'title': 'Goa Tourism > Beaches, Travel Guide, Best Beaches, Tours & Packages', 'description': 'Get the best Information about Goa Tourism. Get travel guides and plan your trip to Goa with places to visit, sightseeing, hotels, and reviews by other travellers.', 'link': 'https://www.holidify.com/places/goa/'}]\n",
      "[{'keyword': 'goa', 'rank': 1, 'title': 'Goa - Wikipedia', 'description': \"Goa /ˈɡoʊ.ə/ ( About this sound listen) is a state on the South Western coast of India within the coastal region known as the Konkan. It is bounded by Maharashtra to the north and Karnataka to the east and south, with the Arabian Sea forming its Western coast. It is India's smallest state by area and the fourth smallest by\\xa0...\", 'link': 'https://en.wikipedia.org/wiki/Goa'}, {'keyword': 'goa', 'rank': 2, 'title': 'Things to do in Goa', 'description': None, 'link': '/destination/map/topsights?q=goa&hl=en&dcr=0&site=search&output=search&dest_mid=/m/01c1nm&sa=X&ved=0ahUKEwjoxJiMiNfZAhVLs48KHTHVCi0Q69EBCDsoADAB#trifp=skpm%3D/m/07q9zt'}, {'keyword': 'goa', 'rank': 3, 'title': 'Things to do in Goa', 'description': None, 'link': '/destination/map/topsights?q=goa&hl=en&dcr=0&site=search&output=search&dest_mid=/m/01c1nm&sa=X&ved=0ahUKEwjoxJiMiNfZAhVLs48KHTHVCi0Q69EBCDsoADAB#trifp=skpm%3D/m/07q9zt'}, {'keyword': 'goa', 'rank': 4, 'title': 'Goa travel - Lonely Planet', 'description': \"Pint-sized Goa is more than beaches and trance parties. A kaleidoscopic blend of Indian and Portuguese cultures, sweetened with sun, sea, sand, seafood and spirituality, there's nowhere in India quite like it. ... Beaches, sun and Vindaloo – Lonely Planet's guide to winter in Goa.\", 'link': 'https://www.lonelyplanet.com/india/goa'}, {'keyword': 'goa', 'rank': 5, 'title': 'Goa Tourism (2018): Best of Goa, India - TripAdvisor', 'description': 'Goa Tourism: TripAdvisor has 4,04953 reviews of Goa Hotels, Attractions, and Restaurants making it your best Goa Tourism resource.', 'link': 'https://www.tripadvisor.in/Tourism-g297604-Goa-Vacations.html'}, {'keyword': 'goa', 'rank': 6, 'title': 'Goa - Wikitravel', 'description': \"Goa, a state on India's West coast, is a former Portuguese colony with a rich history. Spread over 3,700 square kilometres with a population of approximately 1.8 million, Goa is small by Indian standards. It has a unique mix of Indian and Portuguese cultures and architecture that attracts an estimated 2.5 million visitors each\\xa0...\", 'link': 'https://wikitravel.org/en/Goa'}, {'keyword': 'goa', 'rank': 7, 'title': 'Government of Goa | Official Portal', 'description': 'About Goa. Goa, a tiny emerald land on the west coast of India, the 25th state of the Union states of India, was liberated from Portuguese rule in 1961. It was a part of Union Territory of Goa, Daman & Diu till 30th May 1987 when it was carved out of form a separate state. Goa covers an area of 3702 square kilometers and\\xa0...', 'link': 'https://www.goa.gov.in/'}, {'keyword': 'goa', 'rank': 8, 'title': 'Goa Tourism - Beaches', 'description': 'Bambolim beach Bambolim SOUTH GOA. The Bambolim beach is a great place to have a beach picnic and enjoy the quiet and solitude of one of the less frequented beaches in Goa... Map Location. Location. 7 km. From Panaji\\xa0...', 'link': 'http://goa-tourism.com/GTDC-holidays/see-beaches.htm'}, {'keyword': 'goa', 'rank': 9, 'title': 'GTDC shop for booking tours budget hotels Holidays in Goa', 'description': 'GTDC official website book tourist budget hotels in Goa with range of discounts Holiday Packages, water sports activities & tours at affordable rates.', 'link': 'http://goa-tourism.com/'}, {'keyword': 'goa', 'rank': 10, 'title': 'Goa Tourism > Beaches, Travel Guide, Best Beaches, Tours & Packages', 'description': 'Get the best Information about Goa Tourism. Get travel guides and plan your trip to Goa with places to visit, sightseeing, hotels, and reviews by other travellers.', 'link': 'https://www.holidify.com/places/goa/'}]\n",
      "[{'keyword': 'goa', 'rank': 1, 'title': 'Goa - Wikipedia', 'description': \"Goa /ˈɡoʊ.ə/ ( About this sound listen) is a state on the South Western coast of India within the coastal region known as the Konkan. It is bounded by Maharashtra to the north and Karnataka to the east and south, with the Arabian Sea forming its Western coast. It is India's smallest state by area and the fourth smallest by\\xa0...\", 'link': 'https://en.wikipedia.org/wiki/Goa'}, {'keyword': 'goa', 'rank': 2, 'title': 'Things to do in Goa', 'description': None, 'link': '/destination/map/topsights?q=goa&hl=en&dcr=0&site=search&output=search&dest_mid=/m/01c1nm&sa=X&ved=0ahUKEwjoxJiMiNfZAhVLs48KHTHVCi0Q69EBCDsoADAB#trifp=skpm%3D/m/07q9zt'}, {'keyword': 'goa', 'rank': 3, 'title': 'Things to do in Goa', 'description': None, 'link': '/destination/map/topsights?q=goa&hl=en&dcr=0&site=search&output=search&dest_mid=/m/01c1nm&sa=X&ved=0ahUKEwjoxJiMiNfZAhVLs48KHTHVCi0Q69EBCDsoADAB#trifp=skpm%3D/m/07q9zt'}, {'keyword': 'goa', 'rank': 4, 'title': 'Goa travel - Lonely Planet', 'description': \"Pint-sized Goa is more than beaches and trance parties. A kaleidoscopic blend of Indian and Portuguese cultures, sweetened with sun, sea, sand, seafood and spirituality, there's nowhere in India quite like it. ... Beaches, sun and Vindaloo – Lonely Planet's guide to winter in Goa.\", 'link': 'https://www.lonelyplanet.com/india/goa'}, {'keyword': 'goa', 'rank': 5, 'title': 'Goa Tourism (2018): Best of Goa, India - TripAdvisor', 'description': 'Goa Tourism: TripAdvisor has 4,04953 reviews of Goa Hotels, Attractions, and Restaurants making it your best Goa Tourism resource.', 'link': 'https://www.tripadvisor.in/Tourism-g297604-Goa-Vacations.html'}, {'keyword': 'goa', 'rank': 6, 'title': 'Goa - Wikitravel', 'description': \"Goa, a state on India's West coast, is a former Portuguese colony with a rich history. Spread over 3,700 square kilometres with a population of approximately 1.8 million, Goa is small by Indian standards. It has a unique mix of Indian and Portuguese cultures and architecture that attracts an estimated 2.5 million visitors each\\xa0...\", 'link': 'https://wikitravel.org/en/Goa'}, {'keyword': 'goa', 'rank': 7, 'title': 'Government of Goa | Official Portal', 'description': 'About Goa. Goa, a tiny emerald land on the west coast of India, the 25th state of the Union states of India, was liberated from Portuguese rule in 1961. It was a part of Union Territory of Goa, Daman & Diu till 30th May 1987 when it was carved out of form a separate state. Goa covers an area of 3702 square kilometers and\\xa0...', 'link': 'https://www.goa.gov.in/'}, {'keyword': 'goa', 'rank': 8, 'title': 'Goa Tourism - Beaches', 'description': 'Bambolim beach Bambolim SOUTH GOA. The Bambolim beach is a great place to have a beach picnic and enjoy the quiet and solitude of one of the less frequented beaches in Goa... Map Location. Location. 7 km. From Panaji\\xa0...', 'link': 'http://goa-tourism.com/GTDC-holidays/see-beaches.htm'}, {'keyword': 'goa', 'rank': 9, 'title': 'GTDC shop for booking tours budget hotels Holidays in Goa', 'description': 'GTDC official website book tourist budget hotels in Goa with range of discounts Holiday Packages, water sports activities & tours at affordable rates.', 'link': 'http://goa-tourism.com/'}, {'keyword': 'goa', 'rank': 10, 'title': 'Goa Tourism > Beaches, Travel Guide, Best Beaches, Tours & Packages', 'description': 'Get the best Information about Goa Tourism. Get travel guides and plan your trip to Goa with places to visit, sightseeing, hotels, and reviews by other travellers.', 'link': 'https://www.holidify.com/places/goa/'}]\n"
     ]
    },
    {
     "name": "stdout",
     "output_type": "stream",
     "text": [
      "[{'keyword': 'goa tourism', 'rank': 1, 'title': 'Goa/Popular destinations', 'description': None, 'link': '/destination?q=goa+tourism&hl=en&dcr=0&site=search&output=search&dest_mid=/m/01rjt4&tpd=2018-05-21,2018-05-28&sa=X&ved=0ahUKEwjLlMKNiNfZAhXBLI8KHTypDtoQ69EBCCcoADAA'}, {'keyword': 'goa tourism', 'rank': 2, 'title': 'Goa/Popular destinations', 'description': None, 'link': '/destination?q=goa+tourism&hl=en&dcr=0&site=search&output=search&dest_mid=/m/01rjt4&tpd=2018-05-21,2018-05-28&sa=X&ved=0ahUKEwjLlMKNiNfZAhXBLI8KHTypDtoQ69EBCCcoADAA'}, {'keyword': 'goa tourism', 'rank': 3, 'title': 'Goa Tourism', 'description': 'GTDC official website book tourist budget hotels in Goa with range of discounts Holiday Packages, water sports activities & tours at affordable rates.', 'link': 'http://goa-tourism.com/'}, {'keyword': 'goa tourism', 'rank': 4, 'title': 'Department of Tourism, Government of Goa, India', 'description': 'It is mandatory for all Hotels, Travel Agents, Tour Operators, Tourist Guides, Tourist Taxi Operators and Dealers of notified articles and other persons engaged in tourist activities to register themselves under the Goa Registration of Tourist Trade Act, Registration is to be annually renewed.', 'link': 'http://goatourism.gov.in/'}, {'keyword': 'goa tourism', 'rank': 5, 'title': 'Goa Tourism, Tourist Places Goa, Goa Tourism Packages - MakeMyTrip', 'description': 'Goa Tourism - Information about tourist places in Goa, events & activities, map, attractions in Goa. Book Goa tourism packages at MakeMyTrip.com.', 'link': 'https://www.makemytrip.com/holidays-india/goa-tourism.html'}, {'keyword': 'goa tourism', 'rank': 6, 'title': 'Goa Tourism (2018): Best of Goa, India - TripAdvisor', 'description': 'Goa Tourism: TripAdvisor has 4,04953 reviews of Goa Hotels, Attractions, and Restaurants making it your best Goa Tourism resource.', 'link': 'https://www.tripadvisor.in/Tourism-g297604-Goa-Vacations.html'}, {'keyword': 'goa tourism', 'rank': 7, 'title': '43 Top Tourist Places to Visit in Goa (2018) - Trawell.in', 'description': \"The beach is often represented in promotion of Goa Tourism. Calangute is also called the 'Queen of beaches' in Goa and among the best beaches in Goa. ... Calangute along with Candolim, Baga and Anjuna form part of stretch of beach extending from just outside Panaji city to Fort Aguada.\", 'link': 'https://www.trawell.in/goa'}, {'keyword': 'goa tourism', 'rank': 8, 'title': 'Goa Tourism > Beaches, Travel Guide, Best Beaches, Tours & Packages', 'description': 'Get the best Information about Goa Tourism. Get travel guides and plan your trip to Goa with places to visit, sightseeing, hotels, and reviews by other travellers.', 'link': 'https://www.holidify.com/places/goa/'}, {'keyword': 'goa tourism', 'rank': 9, 'title': 'Tourism in Goa - Wikipedia', 'description': 'The state of Goa, in India, is famous for its beaches and places of worship, and tourism is its primary industry. ... Major tourist attractions include: Bom Jesus Basilica, Fort Aguada, a wax museum on Indian culture and a heritage museum. The Churches and Convents of Goa have been declared a World Heritage Site by UNESCO.', 'link': 'https://en.wikipedia.org/wiki/Tourism_in_Goa'}, {'keyword': 'goa tourism', 'rank': 10, 'title': '\"GOA\" Top 43 Tourist Places | Goa Tourism - YouTube', 'description': 'Goa is a state in western India with coastlines stretching along the Arabian Sea. Its long history as a ...', 'link': 'https://www.youtube.com/watch?v=J_JgRKdjYpY'}, {'keyword': 'goa tourism', 'rank': 11, 'title': 'Goa Tourism Department - Home | Facebook', 'description': 'Goa Tourism Department, Goa, India. 928071 likes · 1550 talking about this · 4264 were here. The Official Goa Tourism page; visit www.goa-tourism.com...', 'link': 'https://www.facebook.com/officialgoatourism/'}]\n",
      "[{'keyword': 'goa tourism', 'rank': 1, 'title': 'Goa/Popular destinations', 'description': None, 'link': '/destination?q=goa+tourism&hl=en&dcr=0&site=search&output=search&dest_mid=/m/01rjt4&tpd=2018-05-21,2018-05-28&sa=X&ved=0ahUKEwjLlMKNiNfZAhXBLI8KHTypDtoQ69EBCCcoADAA'}, {'keyword': 'goa tourism', 'rank': 2, 'title': 'Goa/Popular destinations', 'description': None, 'link': '/destination?q=goa+tourism&hl=en&dcr=0&site=search&output=search&dest_mid=/m/01rjt4&tpd=2018-05-21,2018-05-28&sa=X&ved=0ahUKEwjLlMKNiNfZAhXBLI8KHTypDtoQ69EBCCcoADAA'}, {'keyword': 'goa tourism', 'rank': 3, 'title': 'Goa Tourism', 'description': 'GTDC official website book tourist budget hotels in Goa with range of discounts Holiday Packages, water sports activities & tours at affordable rates.', 'link': 'http://goa-tourism.com/'}, {'keyword': 'goa tourism', 'rank': 4, 'title': 'Department of Tourism, Government of Goa, India', 'description': 'It is mandatory for all Hotels, Travel Agents, Tour Operators, Tourist Guides, Tourist Taxi Operators and Dealers of notified articles and other persons engaged in tourist activities to register themselves under the Goa Registration of Tourist Trade Act, Registration is to be annually renewed.', 'link': 'http://goatourism.gov.in/'}, {'keyword': 'goa tourism', 'rank': 5, 'title': 'Goa Tourism, Tourist Places Goa, Goa Tourism Packages - MakeMyTrip', 'description': 'Goa Tourism - Information about tourist places in Goa, events & activities, map, attractions in Goa. Book Goa tourism packages at MakeMyTrip.com.', 'link': 'https://www.makemytrip.com/holidays-india/goa-tourism.html'}, {'keyword': 'goa tourism', 'rank': 6, 'title': 'Goa Tourism (2018): Best of Goa, India - TripAdvisor', 'description': 'Goa Tourism: TripAdvisor has 4,04953 reviews of Goa Hotels, Attractions, and Restaurants making it your best Goa Tourism resource.', 'link': 'https://www.tripadvisor.in/Tourism-g297604-Goa-Vacations.html'}, {'keyword': 'goa tourism', 'rank': 7, 'title': '43 Top Tourist Places to Visit in Goa (2018) - Trawell.in', 'description': \"The beach is often represented in promotion of Goa Tourism. Calangute is also called the 'Queen of beaches' in Goa and among the best beaches in Goa. ... Calangute along with Candolim, Baga and Anjuna form part of stretch of beach extending from just outside Panaji city to Fort Aguada.\", 'link': 'https://www.trawell.in/goa'}, {'keyword': 'goa tourism', 'rank': 8, 'title': 'Goa Tourism > Beaches, Travel Guide, Best Beaches, Tours & Packages', 'description': 'Get the best Information about Goa Tourism. Get travel guides and plan your trip to Goa with places to visit, sightseeing, hotels, and reviews by other travellers.', 'link': 'https://www.holidify.com/places/goa/'}, {'keyword': 'goa tourism', 'rank': 9, 'title': 'Tourism in Goa - Wikipedia', 'description': 'The state of Goa, in India, is famous for its beaches and places of worship, and tourism is its primary industry. ... Major tourist attractions include: Bom Jesus Basilica, Fort Aguada, a wax museum on Indian culture and a heritage museum. The Churches and Convents of Goa have been declared a World Heritage Site by UNESCO.', 'link': 'https://en.wikipedia.org/wiki/Tourism_in_Goa'}, {'keyword': 'goa tourism', 'rank': 10, 'title': '\"GOA\" Top 43 Tourist Places | Goa Tourism - YouTube', 'description': 'Goa is a state in western India with coastlines stretching along the Arabian Sea. Its long history as a ...', 'link': 'https://www.youtube.com/watch?v=J_JgRKdjYpY'}, {'keyword': 'goa tourism', 'rank': 11, 'title': 'Goa Tourism Department - Home | Facebook', 'description': 'Goa Tourism Department, Goa, India. 928071 likes · 1550 talking about this · 4264 were here. The Official Goa Tourism page; visit www.goa-tourism.com...', 'link': 'https://www.facebook.com/officialgoatourism/'}]\n",
      "[{'keyword': 'goa tourism', 'rank': 1, 'title': 'Goa/Popular destinations', 'description': None, 'link': '/destination?q=goa+tourism&hl=en&dcr=0&site=search&output=search&dest_mid=/m/01rjt4&tpd=2018-05-21,2018-05-28&sa=X&ved=0ahUKEwjLlMKNiNfZAhXBLI8KHTypDtoQ69EBCCcoADAA'}, {'keyword': 'goa tourism', 'rank': 2, 'title': 'Goa/Popular destinations', 'description': None, 'link': '/destination?q=goa+tourism&hl=en&dcr=0&site=search&output=search&dest_mid=/m/01rjt4&tpd=2018-05-21,2018-05-28&sa=X&ved=0ahUKEwjLlMKNiNfZAhXBLI8KHTypDtoQ69EBCCcoADAA'}, {'keyword': 'goa tourism', 'rank': 3, 'title': 'Goa Tourism', 'description': 'GTDC official website book tourist budget hotels in Goa with range of discounts Holiday Packages, water sports activities & tours at affordable rates.', 'link': 'http://goa-tourism.com/'}, {'keyword': 'goa tourism', 'rank': 4, 'title': 'Department of Tourism, Government of Goa, India', 'description': 'It is mandatory for all Hotels, Travel Agents, Tour Operators, Tourist Guides, Tourist Taxi Operators and Dealers of notified articles and other persons engaged in tourist activities to register themselves under the Goa Registration of Tourist Trade Act, Registration is to be annually renewed.', 'link': 'http://goatourism.gov.in/'}, {'keyword': 'goa tourism', 'rank': 5, 'title': 'Goa Tourism, Tourist Places Goa, Goa Tourism Packages - MakeMyTrip', 'description': 'Goa Tourism - Information about tourist places in Goa, events & activities, map, attractions in Goa. Book Goa tourism packages at MakeMyTrip.com.', 'link': 'https://www.makemytrip.com/holidays-india/goa-tourism.html'}, {'keyword': 'goa tourism', 'rank': 6, 'title': 'Goa Tourism (2018): Best of Goa, India - TripAdvisor', 'description': 'Goa Tourism: TripAdvisor has 4,04953 reviews of Goa Hotels, Attractions, and Restaurants making it your best Goa Tourism resource.', 'link': 'https://www.tripadvisor.in/Tourism-g297604-Goa-Vacations.html'}, {'keyword': 'goa tourism', 'rank': 7, 'title': '43 Top Tourist Places to Visit in Goa (2018) - Trawell.in', 'description': \"The beach is often represented in promotion of Goa Tourism. Calangute is also called the 'Queen of beaches' in Goa and among the best beaches in Goa. ... Calangute along with Candolim, Baga and Anjuna form part of stretch of beach extending from just outside Panaji city to Fort Aguada.\", 'link': 'https://www.trawell.in/goa'}, {'keyword': 'goa tourism', 'rank': 8, 'title': 'Goa Tourism > Beaches, Travel Guide, Best Beaches, Tours & Packages', 'description': 'Get the best Information about Goa Tourism. Get travel guides and plan your trip to Goa with places to visit, sightseeing, hotels, and reviews by other travellers.', 'link': 'https://www.holidify.com/places/goa/'}, {'keyword': 'goa tourism', 'rank': 9, 'title': 'Tourism in Goa - Wikipedia', 'description': 'The state of Goa, in India, is famous for its beaches and places of worship, and tourism is its primary industry. ... Major tourist attractions include: Bom Jesus Basilica, Fort Aguada, a wax museum on Indian culture and a heritage museum. The Churches and Convents of Goa have been declared a World Heritage Site by UNESCO.', 'link': 'https://en.wikipedia.org/wiki/Tourism_in_Goa'}, {'keyword': 'goa tourism', 'rank': 10, 'title': '\"GOA\" Top 43 Tourist Places | Goa Tourism - YouTube', 'description': 'Goa is a state in western India with coastlines stretching along the Arabian Sea. Its long history as a ...', 'link': 'https://www.youtube.com/watch?v=J_JgRKdjYpY'}, {'keyword': 'goa tourism', 'rank': 11, 'title': 'Goa Tourism Department - Home | Facebook', 'description': 'Goa Tourism Department, Goa, India. 928071 likes · 1550 talking about this · 4264 were here. The Official Goa Tourism page; visit www.goa-tourism.com...', 'link': 'https://www.facebook.com/officialgoatourism/'}]\n",
      "[{'keyword': 'goa tourism', 'rank': 1, 'title': 'Goa/Popular destinations', 'description': None, 'link': '/destination?q=goa+tourism&hl=en&dcr=0&site=search&output=search&dest_mid=/m/01rjt4&tpd=2018-05-21,2018-05-28&sa=X&ved=0ahUKEwjLlMKNiNfZAhXBLI8KHTypDtoQ69EBCCcoADAA'}, {'keyword': 'goa tourism', 'rank': 2, 'title': 'Goa/Popular destinations', 'description': None, 'link': '/destination?q=goa+tourism&hl=en&dcr=0&site=search&output=search&dest_mid=/m/01rjt4&tpd=2018-05-21,2018-05-28&sa=X&ved=0ahUKEwjLlMKNiNfZAhXBLI8KHTypDtoQ69EBCCcoADAA'}, {'keyword': 'goa tourism', 'rank': 3, 'title': 'Goa Tourism', 'description': 'GTDC official website book tourist budget hotels in Goa with range of discounts Holiday Packages, water sports activities & tours at affordable rates.', 'link': 'http://goa-tourism.com/'}, {'keyword': 'goa tourism', 'rank': 4, 'title': 'Department of Tourism, Government of Goa, India', 'description': 'It is mandatory for all Hotels, Travel Agents, Tour Operators, Tourist Guides, Tourist Taxi Operators and Dealers of notified articles and other persons engaged in tourist activities to register themselves under the Goa Registration of Tourist Trade Act, Registration is to be annually renewed.', 'link': 'http://goatourism.gov.in/'}, {'keyword': 'goa tourism', 'rank': 5, 'title': 'Goa Tourism, Tourist Places Goa, Goa Tourism Packages - MakeMyTrip', 'description': 'Goa Tourism - Information about tourist places in Goa, events & activities, map, attractions in Goa. Book Goa tourism packages at MakeMyTrip.com.', 'link': 'https://www.makemytrip.com/holidays-india/goa-tourism.html'}, {'keyword': 'goa tourism', 'rank': 6, 'title': 'Goa Tourism (2018): Best of Goa, India - TripAdvisor', 'description': 'Goa Tourism: TripAdvisor has 4,04953 reviews of Goa Hotels, Attractions, and Restaurants making it your best Goa Tourism resource.', 'link': 'https://www.tripadvisor.in/Tourism-g297604-Goa-Vacations.html'}, {'keyword': 'goa tourism', 'rank': 7, 'title': '43 Top Tourist Places to Visit in Goa (2018) - Trawell.in', 'description': \"The beach is often represented in promotion of Goa Tourism. Calangute is also called the 'Queen of beaches' in Goa and among the best beaches in Goa. ... Calangute along with Candolim, Baga and Anjuna form part of stretch of beach extending from just outside Panaji city to Fort Aguada.\", 'link': 'https://www.trawell.in/goa'}, {'keyword': 'goa tourism', 'rank': 8, 'title': 'Goa Tourism > Beaches, Travel Guide, Best Beaches, Tours & Packages', 'description': 'Get the best Information about Goa Tourism. Get travel guides and plan your trip to Goa with places to visit, sightseeing, hotels, and reviews by other travellers.', 'link': 'https://www.holidify.com/places/goa/'}, {'keyword': 'goa tourism', 'rank': 9, 'title': 'Tourism in Goa - Wikipedia', 'description': 'The state of Goa, in India, is famous for its beaches and places of worship, and tourism is its primary industry. ... Major tourist attractions include: Bom Jesus Basilica, Fort Aguada, a wax museum on Indian culture and a heritage museum. The Churches and Convents of Goa have been declared a World Heritage Site by UNESCO.', 'link': 'https://en.wikipedia.org/wiki/Tourism_in_Goa'}, {'keyword': 'goa tourism', 'rank': 10, 'title': '\"GOA\" Top 43 Tourist Places | Goa Tourism - YouTube', 'description': 'Goa is a state in western India with coastlines stretching along the Arabian Sea. Its long history as a ...', 'link': 'https://www.youtube.com/watch?v=J_JgRKdjYpY'}, {'keyword': 'goa tourism', 'rank': 11, 'title': 'Goa Tourism Department - Home | Facebook', 'description': 'Goa Tourism Department, Goa, India. 928071 likes · 1550 talking about this · 4264 were here. The Official Goa Tourism page; visit www.goa-tourism.com...', 'link': 'https://www.facebook.com/officialgoatourism/'}]\n",
      "[{'keyword': 'goa tourism', 'rank': 1, 'title': 'Goa/Popular destinations', 'description': None, 'link': '/destination?q=goa+tourism&hl=en&dcr=0&site=search&output=search&dest_mid=/m/01rjt4&tpd=2018-05-21,2018-05-28&sa=X&ved=0ahUKEwjLlMKNiNfZAhXBLI8KHTypDtoQ69EBCCcoADAA'}, {'keyword': 'goa tourism', 'rank': 2, 'title': 'Goa/Popular destinations', 'description': None, 'link': '/destination?q=goa+tourism&hl=en&dcr=0&site=search&output=search&dest_mid=/m/01rjt4&tpd=2018-05-21,2018-05-28&sa=X&ved=0ahUKEwjLlMKNiNfZAhXBLI8KHTypDtoQ69EBCCcoADAA'}, {'keyword': 'goa tourism', 'rank': 3, 'title': 'Goa Tourism', 'description': 'GTDC official website book tourist budget hotels in Goa with range of discounts Holiday Packages, water sports activities & tours at affordable rates.', 'link': 'http://goa-tourism.com/'}, {'keyword': 'goa tourism', 'rank': 4, 'title': 'Department of Tourism, Government of Goa, India', 'description': 'It is mandatory for all Hotels, Travel Agents, Tour Operators, Tourist Guides, Tourist Taxi Operators and Dealers of notified articles and other persons engaged in tourist activities to register themselves under the Goa Registration of Tourist Trade Act, Registration is to be annually renewed.', 'link': 'http://goatourism.gov.in/'}, {'keyword': 'goa tourism', 'rank': 5, 'title': 'Goa Tourism, Tourist Places Goa, Goa Tourism Packages - MakeMyTrip', 'description': 'Goa Tourism - Information about tourist places in Goa, events & activities, map, attractions in Goa. Book Goa tourism packages at MakeMyTrip.com.', 'link': 'https://www.makemytrip.com/holidays-india/goa-tourism.html'}, {'keyword': 'goa tourism', 'rank': 6, 'title': 'Goa Tourism (2018): Best of Goa, India - TripAdvisor', 'description': 'Goa Tourism: TripAdvisor has 4,04953 reviews of Goa Hotels, Attractions, and Restaurants making it your best Goa Tourism resource.', 'link': 'https://www.tripadvisor.in/Tourism-g297604-Goa-Vacations.html'}, {'keyword': 'goa tourism', 'rank': 7, 'title': '43 Top Tourist Places to Visit in Goa (2018) - Trawell.in', 'description': \"The beach is often represented in promotion of Goa Tourism. Calangute is also called the 'Queen of beaches' in Goa and among the best beaches in Goa. ... Calangute along with Candolim, Baga and Anjuna form part of stretch of beach extending from just outside Panaji city to Fort Aguada.\", 'link': 'https://www.trawell.in/goa'}, {'keyword': 'goa tourism', 'rank': 8, 'title': 'Goa Tourism > Beaches, Travel Guide, Best Beaches, Tours & Packages', 'description': 'Get the best Information about Goa Tourism. Get travel guides and plan your trip to Goa with places to visit, sightseeing, hotels, and reviews by other travellers.', 'link': 'https://www.holidify.com/places/goa/'}, {'keyword': 'goa tourism', 'rank': 9, 'title': 'Tourism in Goa - Wikipedia', 'description': 'The state of Goa, in India, is famous for its beaches and places of worship, and tourism is its primary industry. ... Major tourist attractions include: Bom Jesus Basilica, Fort Aguada, a wax museum on Indian culture and a heritage museum. The Churches and Convents of Goa have been declared a World Heritage Site by UNESCO.', 'link': 'https://en.wikipedia.org/wiki/Tourism_in_Goa'}, {'keyword': 'goa tourism', 'rank': 10, 'title': '\"GOA\" Top 43 Tourist Places | Goa Tourism - YouTube', 'description': 'Goa is a state in western India with coastlines stretching along the Arabian Sea. Its long history as a ...', 'link': 'https://www.youtube.com/watch?v=J_JgRKdjYpY'}, {'keyword': 'goa tourism', 'rank': 11, 'title': 'Goa Tourism Department - Home | Facebook', 'description': 'Goa Tourism Department, Goa, India. 928071 likes · 1550 talking about this · 4264 were here. The Official Goa Tourism page; visit www.goa-tourism.com...', 'link': 'https://www.facebook.com/officialgoatourism/'}]\n",
      "[{'keyword': 'goa tourism', 'rank': 1, 'title': 'Goa/Popular destinations', 'description': None, 'link': '/destination?q=goa+tourism&hl=en&dcr=0&site=search&output=search&dest_mid=/m/01rjt4&tpd=2018-05-21,2018-05-28&sa=X&ved=0ahUKEwjLlMKNiNfZAhXBLI8KHTypDtoQ69EBCCcoADAA'}, {'keyword': 'goa tourism', 'rank': 2, 'title': 'Goa/Popular destinations', 'description': None, 'link': '/destination?q=goa+tourism&hl=en&dcr=0&site=search&output=search&dest_mid=/m/01rjt4&tpd=2018-05-21,2018-05-28&sa=X&ved=0ahUKEwjLlMKNiNfZAhXBLI8KHTypDtoQ69EBCCcoADAA'}, {'keyword': 'goa tourism', 'rank': 3, 'title': 'Goa Tourism', 'description': 'GTDC official website book tourist budget hotels in Goa with range of discounts Holiday Packages, water sports activities & tours at affordable rates.', 'link': 'http://goa-tourism.com/'}, {'keyword': 'goa tourism', 'rank': 4, 'title': 'Department of Tourism, Government of Goa, India', 'description': 'It is mandatory for all Hotels, Travel Agents, Tour Operators, Tourist Guides, Tourist Taxi Operators and Dealers of notified articles and other persons engaged in tourist activities to register themselves under the Goa Registration of Tourist Trade Act, Registration is to be annually renewed.', 'link': 'http://goatourism.gov.in/'}, {'keyword': 'goa tourism', 'rank': 5, 'title': 'Goa Tourism, Tourist Places Goa, Goa Tourism Packages - MakeMyTrip', 'description': 'Goa Tourism - Information about tourist places in Goa, events & activities, map, attractions in Goa. Book Goa tourism packages at MakeMyTrip.com.', 'link': 'https://www.makemytrip.com/holidays-india/goa-tourism.html'}, {'keyword': 'goa tourism', 'rank': 6, 'title': 'Goa Tourism (2018): Best of Goa, India - TripAdvisor', 'description': 'Goa Tourism: TripAdvisor has 4,04953 reviews of Goa Hotels, Attractions, and Restaurants making it your best Goa Tourism resource.', 'link': 'https://www.tripadvisor.in/Tourism-g297604-Goa-Vacations.html'}, {'keyword': 'goa tourism', 'rank': 7, 'title': '43 Top Tourist Places to Visit in Goa (2018) - Trawell.in', 'description': \"The beach is often represented in promotion of Goa Tourism. Calangute is also called the 'Queen of beaches' in Goa and among the best beaches in Goa. ... Calangute along with Candolim, Baga and Anjuna form part of stretch of beach extending from just outside Panaji city to Fort Aguada.\", 'link': 'https://www.trawell.in/goa'}, {'keyword': 'goa tourism', 'rank': 8, 'title': 'Goa Tourism > Beaches, Travel Guide, Best Beaches, Tours & Packages', 'description': 'Get the best Information about Goa Tourism. Get travel guides and plan your trip to Goa with places to visit, sightseeing, hotels, and reviews by other travellers.', 'link': 'https://www.holidify.com/places/goa/'}, {'keyword': 'goa tourism', 'rank': 9, 'title': 'Tourism in Goa - Wikipedia', 'description': 'The state of Goa, in India, is famous for its beaches and places of worship, and tourism is its primary industry. ... Major tourist attractions include: Bom Jesus Basilica, Fort Aguada, a wax museum on Indian culture and a heritage museum. The Churches and Convents of Goa have been declared a World Heritage Site by UNESCO.', 'link': 'https://en.wikipedia.org/wiki/Tourism_in_Goa'}, {'keyword': 'goa tourism', 'rank': 10, 'title': '\"GOA\" Top 43 Tourist Places | Goa Tourism - YouTube', 'description': 'Goa is a state in western India with coastlines stretching along the Arabian Sea. Its long history as a ...', 'link': 'https://www.youtube.com/watch?v=J_JgRKdjYpY'}, {'keyword': 'goa tourism', 'rank': 11, 'title': 'Goa Tourism Department - Home | Facebook', 'description': 'Goa Tourism Department, Goa, India. 928071 likes · 1550 talking about this · 4264 were here. The Official Goa Tourism page; visit www.goa-tourism.com...', 'link': 'https://www.facebook.com/officialgoatourism/'}]\n",
      "[{'keyword': 'goa tourism', 'rank': 1, 'title': 'Goa/Popular destinations', 'description': None, 'link': '/destination?q=goa+tourism&hl=en&dcr=0&site=search&output=search&dest_mid=/m/01rjt4&tpd=2018-05-21,2018-05-28&sa=X&ved=0ahUKEwjLlMKNiNfZAhXBLI8KHTypDtoQ69EBCCcoADAA'}, {'keyword': 'goa tourism', 'rank': 2, 'title': 'Goa/Popular destinations', 'description': None, 'link': '/destination?q=goa+tourism&hl=en&dcr=0&site=search&output=search&dest_mid=/m/01rjt4&tpd=2018-05-21,2018-05-28&sa=X&ved=0ahUKEwjLlMKNiNfZAhXBLI8KHTypDtoQ69EBCCcoADAA'}, {'keyword': 'goa tourism', 'rank': 3, 'title': 'Goa Tourism', 'description': 'GTDC official website book tourist budget hotels in Goa with range of discounts Holiday Packages, water sports activities & tours at affordable rates.', 'link': 'http://goa-tourism.com/'}, {'keyword': 'goa tourism', 'rank': 4, 'title': 'Department of Tourism, Government of Goa, India', 'description': 'It is mandatory for all Hotels, Travel Agents, Tour Operators, Tourist Guides, Tourist Taxi Operators and Dealers of notified articles and other persons engaged in tourist activities to register themselves under the Goa Registration of Tourist Trade Act, Registration is to be annually renewed.', 'link': 'http://goatourism.gov.in/'}, {'keyword': 'goa tourism', 'rank': 5, 'title': 'Goa Tourism, Tourist Places Goa, Goa Tourism Packages - MakeMyTrip', 'description': 'Goa Tourism - Information about tourist places in Goa, events & activities, map, attractions in Goa. Book Goa tourism packages at MakeMyTrip.com.', 'link': 'https://www.makemytrip.com/holidays-india/goa-tourism.html'}, {'keyword': 'goa tourism', 'rank': 6, 'title': 'Goa Tourism (2018): Best of Goa, India - TripAdvisor', 'description': 'Goa Tourism: TripAdvisor has 4,04953 reviews of Goa Hotels, Attractions, and Restaurants making it your best Goa Tourism resource.', 'link': 'https://www.tripadvisor.in/Tourism-g297604-Goa-Vacations.html'}, {'keyword': 'goa tourism', 'rank': 7, 'title': '43 Top Tourist Places to Visit in Goa (2018) - Trawell.in', 'description': \"The beach is often represented in promotion of Goa Tourism. Calangute is also called the 'Queen of beaches' in Goa and among the best beaches in Goa. ... Calangute along with Candolim, Baga and Anjuna form part of stretch of beach extending from just outside Panaji city to Fort Aguada.\", 'link': 'https://www.trawell.in/goa'}, {'keyword': 'goa tourism', 'rank': 8, 'title': 'Goa Tourism > Beaches, Travel Guide, Best Beaches, Tours & Packages', 'description': 'Get the best Information about Goa Tourism. Get travel guides and plan your trip to Goa with places to visit, sightseeing, hotels, and reviews by other travellers.', 'link': 'https://www.holidify.com/places/goa/'}, {'keyword': 'goa tourism', 'rank': 9, 'title': 'Tourism in Goa - Wikipedia', 'description': 'The state of Goa, in India, is famous for its beaches and places of worship, and tourism is its primary industry. ... Major tourist attractions include: Bom Jesus Basilica, Fort Aguada, a wax museum on Indian culture and a heritage museum. The Churches and Convents of Goa have been declared a World Heritage Site by UNESCO.', 'link': 'https://en.wikipedia.org/wiki/Tourism_in_Goa'}, {'keyword': 'goa tourism', 'rank': 10, 'title': '\"GOA\" Top 43 Tourist Places | Goa Tourism - YouTube', 'description': 'Goa is a state in western India with coastlines stretching along the Arabian Sea. Its long history as a ...', 'link': 'https://www.youtube.com/watch?v=J_JgRKdjYpY'}, {'keyword': 'goa tourism', 'rank': 11, 'title': 'Goa Tourism Department - Home | Facebook', 'description': 'Goa Tourism Department, Goa, India. 928071 likes · 1550 talking about this · 4264 were here. The Official Goa Tourism page; visit www.goa-tourism.com...', 'link': 'https://www.facebook.com/officialgoatourism/'}]\n",
      "[{'keyword': 'goa tourism', 'rank': 1, 'title': 'Goa/Popular destinations', 'description': None, 'link': '/destination?q=goa+tourism&hl=en&dcr=0&site=search&output=search&dest_mid=/m/01rjt4&tpd=2018-05-21,2018-05-28&sa=X&ved=0ahUKEwjLlMKNiNfZAhXBLI8KHTypDtoQ69EBCCcoADAA'}, {'keyword': 'goa tourism', 'rank': 2, 'title': 'Goa/Popular destinations', 'description': None, 'link': '/destination?q=goa+tourism&hl=en&dcr=0&site=search&output=search&dest_mid=/m/01rjt4&tpd=2018-05-21,2018-05-28&sa=X&ved=0ahUKEwjLlMKNiNfZAhXBLI8KHTypDtoQ69EBCCcoADAA'}, {'keyword': 'goa tourism', 'rank': 3, 'title': 'Goa Tourism', 'description': 'GTDC official website book tourist budget hotels in Goa with range of discounts Holiday Packages, water sports activities & tours at affordable rates.', 'link': 'http://goa-tourism.com/'}, {'keyword': 'goa tourism', 'rank': 4, 'title': 'Department of Tourism, Government of Goa, India', 'description': 'It is mandatory for all Hotels, Travel Agents, Tour Operators, Tourist Guides, Tourist Taxi Operators and Dealers of notified articles and other persons engaged in tourist activities to register themselves under the Goa Registration of Tourist Trade Act, Registration is to be annually renewed.', 'link': 'http://goatourism.gov.in/'}, {'keyword': 'goa tourism', 'rank': 5, 'title': 'Goa Tourism, Tourist Places Goa, Goa Tourism Packages - MakeMyTrip', 'description': 'Goa Tourism - Information about tourist places in Goa, events & activities, map, attractions in Goa. Book Goa tourism packages at MakeMyTrip.com.', 'link': 'https://www.makemytrip.com/holidays-india/goa-tourism.html'}, {'keyword': 'goa tourism', 'rank': 6, 'title': 'Goa Tourism (2018): Best of Goa, India - TripAdvisor', 'description': 'Goa Tourism: TripAdvisor has 4,04953 reviews of Goa Hotels, Attractions, and Restaurants making it your best Goa Tourism resource.', 'link': 'https://www.tripadvisor.in/Tourism-g297604-Goa-Vacations.html'}, {'keyword': 'goa tourism', 'rank': 7, 'title': '43 Top Tourist Places to Visit in Goa (2018) - Trawell.in', 'description': \"The beach is often represented in promotion of Goa Tourism. Calangute is also called the 'Queen of beaches' in Goa and among the best beaches in Goa. ... Calangute along with Candolim, Baga and Anjuna form part of stretch of beach extending from just outside Panaji city to Fort Aguada.\", 'link': 'https://www.trawell.in/goa'}, {'keyword': 'goa tourism', 'rank': 8, 'title': 'Goa Tourism > Beaches, Travel Guide, Best Beaches, Tours & Packages', 'description': 'Get the best Information about Goa Tourism. Get travel guides and plan your trip to Goa with places to visit, sightseeing, hotels, and reviews by other travellers.', 'link': 'https://www.holidify.com/places/goa/'}, {'keyword': 'goa tourism', 'rank': 9, 'title': 'Tourism in Goa - Wikipedia', 'description': 'The state of Goa, in India, is famous for its beaches and places of worship, and tourism is its primary industry. ... Major tourist attractions include: Bom Jesus Basilica, Fort Aguada, a wax museum on Indian culture and a heritage museum. The Churches and Convents of Goa have been declared a World Heritage Site by UNESCO.', 'link': 'https://en.wikipedia.org/wiki/Tourism_in_Goa'}, {'keyword': 'goa tourism', 'rank': 10, 'title': '\"GOA\" Top 43 Tourist Places | Goa Tourism - YouTube', 'description': 'Goa is a state in western India with coastlines stretching along the Arabian Sea. Its long history as a ...', 'link': 'https://www.youtube.com/watch?v=J_JgRKdjYpY'}, {'keyword': 'goa tourism', 'rank': 11, 'title': 'Goa Tourism Department - Home | Facebook', 'description': 'Goa Tourism Department, Goa, India. 928071 likes · 1550 talking about this · 4264 were here. The Official Goa Tourism page; visit www.goa-tourism.com...', 'link': 'https://www.facebook.com/officialgoatourism/'}]\n",
      "[{'keyword': 'goa tourism', 'rank': 1, 'title': 'Goa/Popular destinations', 'description': None, 'link': '/destination?q=goa+tourism&hl=en&dcr=0&site=search&output=search&dest_mid=/m/01rjt4&tpd=2018-05-21,2018-05-28&sa=X&ved=0ahUKEwjLlMKNiNfZAhXBLI8KHTypDtoQ69EBCCcoADAA'}, {'keyword': 'goa tourism', 'rank': 2, 'title': 'Goa/Popular destinations', 'description': None, 'link': '/destination?q=goa+tourism&hl=en&dcr=0&site=search&output=search&dest_mid=/m/01rjt4&tpd=2018-05-21,2018-05-28&sa=X&ved=0ahUKEwjLlMKNiNfZAhXBLI8KHTypDtoQ69EBCCcoADAA'}, {'keyword': 'goa tourism', 'rank': 3, 'title': 'Goa Tourism', 'description': 'GTDC official website book tourist budget hotels in Goa with range of discounts Holiday Packages, water sports activities & tours at affordable rates.', 'link': 'http://goa-tourism.com/'}, {'keyword': 'goa tourism', 'rank': 4, 'title': 'Department of Tourism, Government of Goa, India', 'description': 'It is mandatory for all Hotels, Travel Agents, Tour Operators, Tourist Guides, Tourist Taxi Operators and Dealers of notified articles and other persons engaged in tourist activities to register themselves under the Goa Registration of Tourist Trade Act, Registration is to be annually renewed.', 'link': 'http://goatourism.gov.in/'}, {'keyword': 'goa tourism', 'rank': 5, 'title': 'Goa Tourism, Tourist Places Goa, Goa Tourism Packages - MakeMyTrip', 'description': 'Goa Tourism - Information about tourist places in Goa, events & activities, map, attractions in Goa. Book Goa tourism packages at MakeMyTrip.com.', 'link': 'https://www.makemytrip.com/holidays-india/goa-tourism.html'}, {'keyword': 'goa tourism', 'rank': 6, 'title': 'Goa Tourism (2018): Best of Goa, India - TripAdvisor', 'description': 'Goa Tourism: TripAdvisor has 4,04953 reviews of Goa Hotels, Attractions, and Restaurants making it your best Goa Tourism resource.', 'link': 'https://www.tripadvisor.in/Tourism-g297604-Goa-Vacations.html'}, {'keyword': 'goa tourism', 'rank': 7, 'title': '43 Top Tourist Places to Visit in Goa (2018) - Trawell.in', 'description': \"The beach is often represented in promotion of Goa Tourism. Calangute is also called the 'Queen of beaches' in Goa and among the best beaches in Goa. ... Calangute along with Candolim, Baga and Anjuna form part of stretch of beach extending from just outside Panaji city to Fort Aguada.\", 'link': 'https://www.trawell.in/goa'}, {'keyword': 'goa tourism', 'rank': 8, 'title': 'Goa Tourism > Beaches, Travel Guide, Best Beaches, Tours & Packages', 'description': 'Get the best Information about Goa Tourism. Get travel guides and plan your trip to Goa with places to visit, sightseeing, hotels, and reviews by other travellers.', 'link': 'https://www.holidify.com/places/goa/'}, {'keyword': 'goa tourism', 'rank': 9, 'title': 'Tourism in Goa - Wikipedia', 'description': 'The state of Goa, in India, is famous for its beaches and places of worship, and tourism is its primary industry. ... Major tourist attractions include: Bom Jesus Basilica, Fort Aguada, a wax museum on Indian culture and a heritage museum. The Churches and Convents of Goa have been declared a World Heritage Site by UNESCO.', 'link': 'https://en.wikipedia.org/wiki/Tourism_in_Goa'}, {'keyword': 'goa tourism', 'rank': 10, 'title': '\"GOA\" Top 43 Tourist Places | Goa Tourism - YouTube', 'description': 'Goa is a state in western India with coastlines stretching along the Arabian Sea. Its long history as a ...', 'link': 'https://www.youtube.com/watch?v=J_JgRKdjYpY'}, {'keyword': 'goa tourism', 'rank': 11, 'title': 'Goa Tourism Department - Home | Facebook', 'description': 'Goa Tourism Department, Goa, India. 928071 likes · 1550 talking about this · 4264 were here. The Official Goa Tourism page; visit www.goa-tourism.com...', 'link': 'https://www.facebook.com/officialgoatourism/'}]\n",
      "[{'keyword': 'goa tourism', 'rank': 1, 'title': 'Goa/Popular destinations', 'description': None, 'link': '/destination?q=goa+tourism&hl=en&dcr=0&site=search&output=search&dest_mid=/m/01rjt4&tpd=2018-05-21,2018-05-28&sa=X&ved=0ahUKEwjLlMKNiNfZAhXBLI8KHTypDtoQ69EBCCcoADAA'}, {'keyword': 'goa tourism', 'rank': 2, 'title': 'Goa/Popular destinations', 'description': None, 'link': '/destination?q=goa+tourism&hl=en&dcr=0&site=search&output=search&dest_mid=/m/01rjt4&tpd=2018-05-21,2018-05-28&sa=X&ved=0ahUKEwjLlMKNiNfZAhXBLI8KHTypDtoQ69EBCCcoADAA'}, {'keyword': 'goa tourism', 'rank': 3, 'title': 'Goa Tourism', 'description': 'GTDC official website book tourist budget hotels in Goa with range of discounts Holiday Packages, water sports activities & tours at affordable rates.', 'link': 'http://goa-tourism.com/'}, {'keyword': 'goa tourism', 'rank': 4, 'title': 'Department of Tourism, Government of Goa, India', 'description': 'It is mandatory for all Hotels, Travel Agents, Tour Operators, Tourist Guides, Tourist Taxi Operators and Dealers of notified articles and other persons engaged in tourist activities to register themselves under the Goa Registration of Tourist Trade Act, Registration is to be annually renewed.', 'link': 'http://goatourism.gov.in/'}, {'keyword': 'goa tourism', 'rank': 5, 'title': 'Goa Tourism, Tourist Places Goa, Goa Tourism Packages - MakeMyTrip', 'description': 'Goa Tourism - Information about tourist places in Goa, events & activities, map, attractions in Goa. Book Goa tourism packages at MakeMyTrip.com.', 'link': 'https://www.makemytrip.com/holidays-india/goa-tourism.html'}, {'keyword': 'goa tourism', 'rank': 6, 'title': 'Goa Tourism (2018): Best of Goa, India - TripAdvisor', 'description': 'Goa Tourism: TripAdvisor has 4,04953 reviews of Goa Hotels, Attractions, and Restaurants making it your best Goa Tourism resource.', 'link': 'https://www.tripadvisor.in/Tourism-g297604-Goa-Vacations.html'}, {'keyword': 'goa tourism', 'rank': 7, 'title': '43 Top Tourist Places to Visit in Goa (2018) - Trawell.in', 'description': \"The beach is often represented in promotion of Goa Tourism. Calangute is also called the 'Queen of beaches' in Goa and among the best beaches in Goa. ... Calangute along with Candolim, Baga and Anjuna form part of stretch of beach extending from just outside Panaji city to Fort Aguada.\", 'link': 'https://www.trawell.in/goa'}, {'keyword': 'goa tourism', 'rank': 8, 'title': 'Goa Tourism > Beaches, Travel Guide, Best Beaches, Tours & Packages', 'description': 'Get the best Information about Goa Tourism. Get travel guides and plan your trip to Goa with places to visit, sightseeing, hotels, and reviews by other travellers.', 'link': 'https://www.holidify.com/places/goa/'}, {'keyword': 'goa tourism', 'rank': 9, 'title': 'Tourism in Goa - Wikipedia', 'description': 'The state of Goa, in India, is famous for its beaches and places of worship, and tourism is its primary industry. ... Major tourist attractions include: Bom Jesus Basilica, Fort Aguada, a wax museum on Indian culture and a heritage museum. The Churches and Convents of Goa have been declared a World Heritage Site by UNESCO.', 'link': 'https://en.wikipedia.org/wiki/Tourism_in_Goa'}, {'keyword': 'goa tourism', 'rank': 10, 'title': '\"GOA\" Top 43 Tourist Places | Goa Tourism - YouTube', 'description': 'Goa is a state in western India with coastlines stretching along the Arabian Sea. Its long history as a ...', 'link': 'https://www.youtube.com/watch?v=J_JgRKdjYpY'}, {'keyword': 'goa tourism', 'rank': 11, 'title': 'Goa Tourism Department - Home | Facebook', 'description': 'Goa Tourism Department, Goa, India. 928071 likes · 1550 talking about this · 4264 were here. The Official Goa Tourism page; visit www.goa-tourism.com...', 'link': 'https://www.facebook.com/officialgoatourism/'}]\n",
      "[{'keyword': 'goa tourism', 'rank': 1, 'title': 'Goa/Popular destinations', 'description': None, 'link': '/destination?q=goa+tourism&hl=en&dcr=0&site=search&output=search&dest_mid=/m/01rjt4&tpd=2018-05-21,2018-05-28&sa=X&ved=0ahUKEwjLlMKNiNfZAhXBLI8KHTypDtoQ69EBCCcoADAA'}, {'keyword': 'goa tourism', 'rank': 2, 'title': 'Goa/Popular destinations', 'description': None, 'link': '/destination?q=goa+tourism&hl=en&dcr=0&site=search&output=search&dest_mid=/m/01rjt4&tpd=2018-05-21,2018-05-28&sa=X&ved=0ahUKEwjLlMKNiNfZAhXBLI8KHTypDtoQ69EBCCcoADAA'}, {'keyword': 'goa tourism', 'rank': 3, 'title': 'Goa Tourism', 'description': 'GTDC official website book tourist budget hotels in Goa with range of discounts Holiday Packages, water sports activities & tours at affordable rates.', 'link': 'http://goa-tourism.com/'}, {'keyword': 'goa tourism', 'rank': 4, 'title': 'Department of Tourism, Government of Goa, India', 'description': 'It is mandatory for all Hotels, Travel Agents, Tour Operators, Tourist Guides, Tourist Taxi Operators and Dealers of notified articles and other persons engaged in tourist activities to register themselves under the Goa Registration of Tourist Trade Act, Registration is to be annually renewed.', 'link': 'http://goatourism.gov.in/'}, {'keyword': 'goa tourism', 'rank': 5, 'title': 'Goa Tourism, Tourist Places Goa, Goa Tourism Packages - MakeMyTrip', 'description': 'Goa Tourism - Information about tourist places in Goa, events & activities, map, attractions in Goa. Book Goa tourism packages at MakeMyTrip.com.', 'link': 'https://www.makemytrip.com/holidays-india/goa-tourism.html'}, {'keyword': 'goa tourism', 'rank': 6, 'title': 'Goa Tourism (2018): Best of Goa, India - TripAdvisor', 'description': 'Goa Tourism: TripAdvisor has 4,04953 reviews of Goa Hotels, Attractions, and Restaurants making it your best Goa Tourism resource.', 'link': 'https://www.tripadvisor.in/Tourism-g297604-Goa-Vacations.html'}, {'keyword': 'goa tourism', 'rank': 7, 'title': '43 Top Tourist Places to Visit in Goa (2018) - Trawell.in', 'description': \"The beach is often represented in promotion of Goa Tourism. Calangute is also called the 'Queen of beaches' in Goa and among the best beaches in Goa. ... Calangute along with Candolim, Baga and Anjuna form part of stretch of beach extending from just outside Panaji city to Fort Aguada.\", 'link': 'https://www.trawell.in/goa'}, {'keyword': 'goa tourism', 'rank': 8, 'title': 'Goa Tourism > Beaches, Travel Guide, Best Beaches, Tours & Packages', 'description': 'Get the best Information about Goa Tourism. Get travel guides and plan your trip to Goa with places to visit, sightseeing, hotels, and reviews by other travellers.', 'link': 'https://www.holidify.com/places/goa/'}, {'keyword': 'goa tourism', 'rank': 9, 'title': 'Tourism in Goa - Wikipedia', 'description': 'The state of Goa, in India, is famous for its beaches and places of worship, and tourism is its primary industry. ... Major tourist attractions include: Bom Jesus Basilica, Fort Aguada, a wax museum on Indian culture and a heritage museum. The Churches and Convents of Goa have been declared a World Heritage Site by UNESCO.', 'link': 'https://en.wikipedia.org/wiki/Tourism_in_Goa'}, {'keyword': 'goa tourism', 'rank': 10, 'title': '\"GOA\" Top 43 Tourist Places | Goa Tourism - YouTube', 'description': 'Goa is a state in western India with coastlines stretching along the Arabian Sea. Its long history as a ...', 'link': 'https://www.youtube.com/watch?v=J_JgRKdjYpY'}, {'keyword': 'goa tourism', 'rank': 11, 'title': 'Goa Tourism Department - Home | Facebook', 'description': 'Goa Tourism Department, Goa, India. 928071 likes · 1550 talking about this · 4264 were here. The Official Goa Tourism page; visit www.goa-tourism.com...', 'link': 'https://www.facebook.com/officialgoatourism/'}]\n"
     ]
    }
   ],
   "source": [
    "def parse_results(html, keyword):\n",
    "    soup = bs.BeautifulSoup(html, 'html.parser')\n",
    "\n",
    "    found_results = []\n",
    "    rank = 1\n",
    "    result_block = soup.find_all('div', attrs={'class': 'g'})\n",
    "    for result in result_block:\n",
    "\n",
    "        link = result.find('a', href=True)\n",
    "        title = result.find('h3', attrs={'class': 'r'})\n",
    "        description = result.find('span', attrs={'class': 'st'})\n",
    "        if link and title:\n",
    "            link = link['href']\n",
    "            title = title.get_text()\n",
    "            if description:\n",
    "                description = description.get_text()\n",
    "            if link != '#':\n",
    "                found_results.append({'keyword': keyword, 'rank': rank, 'title': title, 'description': description, 'link':link})\n",
    "#                 print({'keyword': keyword, 'rank': rank, 'title': title, 'description': description})\n",
    "                rank += 1\n",
    "    return(found_results)\n",
    "#     print(found_results)\n",
    "    \n",
    "# parse_results(\"https://www.google.co.in/search?q=beautigulsoup&oq=beautigulsoup\",\"gokart\")\n",
    "\n",
    "\n",
    "def scrape_google(search_term, number_results, language_code):\n",
    "    try:\n",
    "        keyword, html = fetch_results(search_term, number_results, language_code)\n",
    "        results = parse_results(html, keyword)\n",
    "        return results\n",
    "    except AssertionError:\n",
    "        raise Exception(\"Incorrect arguments parsed to function\")\n",
    "    except requests.HTTPError:\n",
    "        raise Exception(\"You appear to have been blocked by Google\")\n",
    "    except requests.RequestException:\n",
    "        raise Exception(\"Appears to be an issue with your connection\")\n",
    "\n",
    "\n",
    "if __name__ == '__main__':\n",
    "#     keywords = ['edmund martin', 'python', 'google scraping']\n",
    "    x = input('What is your destination?')\n",
    "    keywords = [x, x+\" tourism\"]\n",
    "    data = []\n",
    "    for keyword in keywords:\n",
    "        try:\n",
    "            results = scrape_google(keyword, 10, \"en\")\n",
    "            for result in results:\n",
    "                data.append(result)\n",
    "                print(results)\n",
    "        except Exception as e:\n",
    "            print(e)\n",
    "        finally:\n",
    "            time.sleep(1)\n",
    "#     print(data)"
   ]
  },
  {
   "cell_type": "markdown",
   "metadata": {},
   "source": [
    "## imporvement \n",
    "\n",
    "Note: Currently the keywords are just destinations as of now. There needs to be different combinations of keywords that is possible based on the setting\n",
    "\n",
    "laid back - travel tours\n",
    "backpacking - budget\n",
    "adventure - less explored\n",
    "\n",
    "etc."
   ]
  },
  {
   "cell_type": "markdown",
   "metadata": {},
   "source": [
    "## Writing the results to a file"
   ]
  },
  {
   "cell_type": "code",
   "execution_count": 5,
   "metadata": {
    "collapsed": true
   },
   "outputs": [],
   "source": [
    "import pandas as pd\n",
    "\n",
    "my_df = pd.DataFrame(data)\n",
    "\n",
    "my_df.to_csv('my_csv.csv', index=False, header=True) #Header = True adds the header to the file. False doesn't add any."
   ]
  },
  {
   "cell_type": "markdown",
   "metadata": {
    "collapsed": true
   },
   "source": [
    "Once the resutls are written to the file. Need to understand which ones are the best places to see.\n",
    "\n",
    "\n"
   ]
  }
 ],
 "metadata": {
  "kernelspec": {
   "display_name": "Python 3",
   "language": "python",
   "name": "python3"
  },
  "language_info": {
   "codemirror_mode": {
    "name": "ipython",
    "version": 3
   },
   "file_extension": ".py",
   "mimetype": "text/x-python",
   "name": "python",
   "nbconvert_exporter": "python",
   "pygments_lexer": "ipython3",
   "version": "3.6.3"
  }
 },
 "nbformat": 4,
 "nbformat_minor": 2
}

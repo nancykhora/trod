{
 "cells": [
  {
   "cell_type": "markdown",
   "metadata": {},
   "source": [
    "# Building Travel Freedom\n",
    "\n",
    "Learned scraping for other places now need to piece it together"
   ]
  },
  {
   "cell_type": "code",
   "execution_count": 1,
   "metadata": {},
   "outputs": [
    {
     "name": "stdout",
     "output_type": "stream",
     "text": [
      "[nltk_data] Downloading package punkt to\n",
      "[nltk_data]     /Users/ashwinmanghat/nltk_data...\n",
      "[nltk_data]   Package punkt is already up-to-date!\n"
     ]
    },
    {
     "data": {
      "text/plain": [
       "True"
      ]
     },
     "execution_count": 1,
     "metadata": {},
     "output_type": "execute_result"
    }
   ],
   "source": [
    "# importing the neccessary dependancies\n",
    "\n",
    "import bs4 as bs #importing beautiful script\n",
    "import urllib.request # to request a url\n",
    "import time\n",
    "import requests\n",
    "import pandas as pd\n",
    "\n",
    "# might not need these:\n",
    "import nltk\n",
    "nltk.download('punkt')\n"
   ]
  },
  {
   "cell_type": "markdown",
   "metadata": {},
   "source": [
    "## Scrape function\n",
    "\n",
    "fetch_results() - gets the urls of the search results.\n",
    "\n",
    "i/p - keyword, no. of results. and language"
   ]
  },
  {
   "cell_type": "code",
   "execution_count": 2,
   "metadata": {},
   "outputs": [],
   "source": [
    "USER_AGENT = {'User-Agent':'Mozilla/5.0 (Windows NT 10.0; Win64; x64) AppleWebKit/537.36 (KHTML, like Gecko) Chrome/61.0.3163.100 Safari/537.36'}\n",
    "\n",
    "# fetch google search results\n",
    "\n",
    "def fetch_results(search_term, number_results, language_code):\n",
    "    assert isinstance(search_term, str), 'Search term must be a string'\n",
    "    assert isinstance(number_results, int), 'Number of results must be an integer'\n",
    "    escaped_search_term = search_term.replace(' ', '+')\n",
    " \n",
    "    google_url = 'https://www.google.com/search?q={}&num={}&hl={}'.format(escaped_search_term, number_results, language_code)\n",
    "    response = requests.get(google_url, headers=USER_AGENT)\n",
    "    response.raise_for_status()\n",
    " \n",
    "    return search_term, response.text\n",
    " "
   ]
  },
  {
   "cell_type": "markdown",
   "metadata": {},
   "source": [
    "## Parsing the results\n",
    "\n",
    "Parse the results to a table/list based on what data is being pulled out."
   ]
  },
  {
   "cell_type": "code",
   "execution_count": 3,
   "metadata": {},
   "outputs": [],
   "source": [
    "#Parsed results\n",
    "\n",
    "def parse_results(html, keyword):\n",
    "    soup = bs.BeautifulSoup(html, 'html.parser')\n",
    "    found_results = []\n",
    "    rank = 1\n",
    "    result_block = soup.find_all('div', attrs={'class': 'g'})\n",
    "    for result in result_block:\n",
    "\n",
    "        link = result.find('a', href=True)\n",
    "        title = result.find('h3', attrs={'class': 'r'})\n",
    "        description = result.find('span', attrs={'class': 'st'})\n",
    "        if link and title:\n",
    "            link = link['href']\n",
    "            title = title.get_text()\n",
    "            if description:\n",
    "                description = description.get_text()\n",
    "            if link != '#':\n",
    "                found_results.append({'keyword': keyword, 'rank': rank, 'title': title, 'description': description, 'link':link})\n",
    "#                 print({'keyword': keyword, 'rank': rank, 'title': title, 'description': description})\n",
    "                rank += 1\n",
    "                links.append(link)\n",
    "    return(found_results)\n"
   ]
  },
  {
   "cell_type": "markdown",
   "metadata": {},
   "source": [
    "## Main function"
   ]
  },
  {
   "cell_type": "code",
   "execution_count": 4,
   "metadata": {
    "scrolled": true
   },
   "outputs": [
    {
     "name": "stdout",
     "output_type": "stream",
     "text": [
      "What is your destination?vietnam\n",
      "11\n",
      "11\n",
      "11\n",
      "11\n",
      "11\n",
      "11\n",
      "11\n",
      "11\n",
      "11\n",
      "11\n",
      "11\n",
      "12\n",
      "12\n",
      "12\n",
      "12\n",
      "12\n",
      "12\n",
      "12\n",
      "12\n",
      "12\n",
      "12\n",
      "12\n",
      "12\n",
      "12\n",
      "12\n",
      "12\n",
      "12\n",
      "12\n",
      "12\n",
      "12\n",
      "12\n",
      "12\n",
      "12\n",
      "12\n",
      "12\n"
     ]
    }
   ],
   "source": [
    "def scrape_google(search_term, number_results, language_code):\n",
    "    try:\n",
    "        keyword, html = fetch_results(search_term, number_results, language_code)\n",
    "        results = parse_results(html, keyword)\n",
    "        return results\n",
    "    except AssertionError:\n",
    "        raise Exception(\"Incorrect arguments parsed to function\")\n",
    "    except requests.HTTPError:\n",
    "        raise Exception(\"You appear to have been blocked by Google\")\n",
    "    except requests.RequestException:\n",
    "        raise Exception(\"Appears to be an issue with your connection\")\n",
    "\n",
    "\n",
    "if __name__ == '__main__':\n",
    "#     keywords = ['edmund martin', 'python', 'google scraping']\n",
    "    destination = input('What is your destination?')\n",
    "    x = destination\n",
    "    links =[]\n",
    "    keywords = [x+\" tourism\", x+\" travel\", x+\" vaccation\"]\n",
    "    data = []\n",
    "    for keyword in keywords:\n",
    "        try:\n",
    "            results = scrape_google(keyword, 10, \"en\")\n",
    "            for result in results:\n",
    "                data.append(result)\n",
    "                print(len(results))\n",
    "        except Exception as e:\n",
    "            print(e)\n",
    "        finally:\n",
    "            time.sleep(1)"
   ]
  },
  {
   "cell_type": "markdown",
   "metadata": {},
   "source": [
    "## imporvement \n",
    "\n",
    "Note: Currently the keywords are just destinations as of now. There needs to be different combinations of keywords that is possible based on the setting\n",
    "\n",
    "laid back - travel tours\n",
    "backpacking - budget\n",
    "adventure - less explored\n",
    "\n",
    "etc."
   ]
  },
  {
   "cell_type": "markdown",
   "metadata": {},
   "source": [
    "## Filtering the list of links obtained. \n",
    "\n",
    "this should only pass through a list of URLs that are scrapable"
   ]
  },
  {
   "cell_type": "code",
   "execution_count": 5,
   "metadata": {},
   "outputs": [
    {
     "name": "stdout",
     "output_type": "stream",
     "text": [
      "Number of links fetched :  35\n"
     ]
    }
   ],
   "source": [
    "print (\"Number of links fetched : \", len(links)) # all the scraped links\n",
    "# links[2].split('.')[1]"
   ]
  },
  {
   "cell_type": "code",
   "execution_count": 6,
   "metadata": {},
   "outputs": [],
   "source": [
    "def filt_useful(e):\n",
    "    exclude_list= ['youtube', 'dailymotion'] # exlude these websites\n",
    "    p = [x for x in e if x.startswith('http') and x.split('.')[1] not in exclude_list]\n",
    "    return p\n",
    "filtered_links = filt_useful(links)"
   ]
  },
  {
   "cell_type": "markdown",
   "metadata": {},
   "source": [
    "## Function to fetch URLs and return main text\n",
    "\n",
    "from learn to scrape"
   ]
  },
  {
   "cell_type": "code",
   "execution_count": 7,
   "metadata": {},
   "outputs": [],
   "source": [
    "# filters for visible elements dependant on from bs4.element import Comment\n",
    "\n",
    "from bs4.element import Comment\n",
    "\n",
    "def tag_visible(element):\n",
    "    if element.parent.name in ['style', 'script', 'head', 'title', 'meta', '[document]']:\n",
    "        return False\n",
    "    if isinstance(element, Comment):\n",
    "        return False\n",
    "    return True\n",
    "\n",
    "\n",
    "def text_from_html(body):\n",
    "    soup = bs.BeautifulSoup(body, 'html.parser')\n",
    "    texts = soup.findAll(text=True)\n",
    "    visible_texts = filter(tag_visible, texts)  \n",
    "    return \"\\n \".join(t.strip() for t in visible_texts)"
   ]
  },
  {
   "cell_type": "code",
   "execution_count": 16,
   "metadata": {},
   "outputs": [
    {
     "name": "stdout",
     "output_type": "stream",
     "text": [
      "http://www.vietnamtourism.com/\n",
      "https://www.tripadvisor.com/Tourism-g293921-Vietnam-Vacations.html\n",
      "https://www.makemytrip.com/holidays-international/vietnam-tourism.html\n",
      "https://www.holidify.com/country/vietnam/\n",
      "https://www.yatra.com/international-tourism/vietnam\n"
     ]
    }
   ],
   "source": [
    "# headers2,headers3,headers4,headers5, o, t = [],[],[],[],[],[]\n",
    "o = []\n",
    "for i in filtered_links[:5]:\n",
    "    print(i)\n",
    "    r  = requests.get(i,headers=USER_AGENT).text\n",
    "#     r = urllib.request.urlopen(i).read()\n",
    "#     soup = bs.BeautifulSoup(r.text,'lxml')    \n",
    "    a = text_from_html(r)\n",
    "    t = a.split(' ')\n",
    "#     o.append([w for w in t if len(w)>3 and w.istitle()])\n",
    "    o.append(a)\n",
    "\n",
    "    \n",
    "\n",
    "#     t = soup.split(' ')\n",
    "#     o = [w for w in t if len(w)>3 and w.istitle()]\n",
    "#     print (soup)\n",
    "#     for h in soup.find_all('h2'):\n",
    "#         headers2.append(h.text)\n",
    "#     for h in soup.find_all('h3'):\n",
    "#         headers3.append(h.text)\n",
    "#     for h in soup.find_all('h4'):\n",
    "#         headers4.append(h.text)\n",
    "#     for h in soup.find_all('h5'):\n",
    "#         headers5.append(h.text)\n",
    "\n",
    "    \n",
    "    "
   ]
  },
  {
   "cell_type": "code",
   "execution_count": 17,
   "metadata": {},
   "outputs": [
    {
     "data": {
      "text/plain": [
       "[\"\\n \\n \\n \\n \\n \\n \\n \\n \\n \\n \\n Toggle navigation\\n \\n \\n \\n \\n \\n \\n \\n \\n \\n \\n \\n Tiáº¿ng Viá»\\x87t\\n \\n \\n \\n English\\n \\n \\n \\n FranÃ§ais\\n \\n \\n \\n ä¸\\xadæ\\x96\\x87\\n \\n \\n \\n æ\\x97¥æ\\x9c¬èª\\x9e\\n \\n \\n \\n í\\x95\\x9cêµ\\xadì\\x96´\\n \\n \\n \\n Ð\\xa0Ñ\\x83Ñ\\x81Ñ\\x81ÐºÐ¸Ð¹\\n \\n \\n \\n \\n \\n \\n \\n \\n \\n \\n \\n \\n \\n \\n \\n \\n \\n \\n \\n \\n \\n \\n \\n \\n \\n \\n \\n \\n \\n \\n \\n More\\n \\n \\n \\n \\n \\n \\n \\n \\n \\n \\n \\n \\n Ha Noi\\n \\n \\n \\n Da Nang\\n \\n Ho Chi Minh City\\n \\n \\n \\n \\n \\n \\n \\n \\n \\n \\n \\n \\n \\n \\n \\n \\n \\n \\n \\n \\n \\n \\n \\n \\n \\n \\n \\n \\n \\n \\n \\n \\n \\n \\n \\n \\n \\n \\n \\n \\n \\n \\n \\n \\n \\n \\n \\n \\n \\n \\n \\n \\n \\n \\n \\n \\n \\n \\n \\n \\n \\n \\n \\n \\n \\n \\n \\n \\n \\n \\n \\n \\n \\n \\n \\n \\n \\n \\n \\n \\n \\n \\n \\n \\n \\n \\n \\n \\n \\n \\n \\n \\n \\n \\n \\n \\n \\n \\n \\n \\n \\n \\n \\n \\n \\n \\n \\n \\n \\n \\n \\n \\n \\n \\n \\n \\n \\n \\n \\n \\n \\n \\n \\n \\n \\n \\n \\n \\n \\n \\n \\n \\n Northern Midland and Mountainous Region\\n More\\n \\n \\n \\n Red River Delta and North East Coast\\n More\\n \\n \\n \\n North Central\\n More\\n \\n \\n \\n South Central Coast\\n More\\n \\n \\n \\n Central Highlands\\n More\\n \\n \\n \\n South East\\n More\\n \\n \\n \\n Mekong River Delta\\n More\\n \\n \\n \\n \\n \\n \\n Famous destinations\\n \\n \\n \\n \\n \\n \\n \\n \\n \\n \\n Pho Minh Pagoda\\n \\n \\n \\n Pho Minh Pagoda\\n \\n \\n \\n \\n \\n ◊ Architecture\\r\\n\\r\\n\\tThe pagoda built in the noi cong ngoai quoc style where the inner part was built in the form of the Han character å·¥ (Cong) and the outer, the Han character å\\x9b½ (Quoc),…\\n \\n \\n \\n ◊ Architecture\\r\\n\\r\\n\\tThe pagoda built in the noi cong ngoai…\\n \\n \\n \\n \\n \\n \\n \\n \\n \\n \\n \\n \\n \\n \\n \\n Lang Sen Wetland Reserve\\n \\n \\n \\n Lang Sen Wetland Reserve\\n \\n \\n \\n \\n ◊ Flora and Fauna\\r\\n\\r\\n\\tLang Sen area is heavily covered with flora varied to the…\\n \\n \\n \\n ◊ Flora and Fauna\\r\\n\\r\\n\\tLang Sen area is heavily covered…\\n \\n \\n \\n \\n \\n \\n \\n \\n \\n \\n \\n \\n \\n Moc Chau Plateau\\n \\n \\n \\n Moc Chau Plateau\\n \\n \\n \\n \\n The plateau is about 1,000m above sea level and around 80km long and 25km wide.…\\n \\n \\n \\n The plateau is about 1,000m above sea level and around…\\n \\n \\n \\n \\n \\n \\n \\n \\n \\n \\n \\n \\n \\n Lam Kinh Festival\\n \\n \\n \\n Lam Kinh Festival\\n \\n \\n \\n \\n The festival is organized in Lam Kinh, Tho Xuan District, Thanh Hoa Province, where Lam…\\n \\n \\n \\n The festival is organized in Lam Kinh, Tho Xuan District,…\\n \\n \\n \\n \\n \\n \\n \\n \\n \\n \\n \\n \\n \\n Tran Quoc Pagoda\\n \\n \\n \\n Tran Quoc Pagoda\\n \\n \\n \\n \\n It is said that, the pagoda was built under the reign of King Ly Nam…\\n \\n \\n \\n It is said that, the pagoda was built under the…\\n \\n \\n \\n \\n \\n \\n \\n \\n \\n \\n \\n \\n \\n Traditional Festivals\\n \\n \\n \\n Jan / 2018\\n Mar / 2018\\n Mar / 2018\\n Apr / 2018\\n May / 2018\\n Jun / 2018\\n Jul / 2018\\n Aug / 2018\\n Sep / 2018\\n Oct / 2018\\n Nov / 2018\\n Dec / 2018\\n \\n \\n \\n \\n \\n Sat\\n 06\\n Buffalo-Stabbing Festival\\n Gia Lai\\n Lunar calendar: 12/1\\n \\n \\n \\n \\n \\n Mon\\n 19\\n Phat Tich Pagoda Festival\\n Bac Ninh\\n Lunar calendar: 1/4\\n Tue\\n 20\\n Dong Da Festival (Ha Noi)\\n Ha Noi Capital\\n Lunar calendar: 1/5\\n Tue\\n 20\\n Tay Son Festival\\n Binh Dinh\\n Lunar calendar: 1/5\\n Wed\\n 21\\n Huong Pagoda Festival\\n Ha Noi Capital\\n Lunar calendar: 1/6\\n Wed\\n 21\\n Co Loa Festival\\n Ha Noi Capital\\n Lunar calendar: 1/6\\n Wed\\n 21\\n Ha Loi Temple Festival\\n Ha Noi Capital\\n Lunar calendar: 1/6\\n Sat\\n 24\\n The wrestling competitions Festival of…\\n Thua Thien - Hue\\n Lunar calendar: 1/9\\n Sun\\n 25\\n Yen Tu Festival\\n Quang Ninh\\n Lunar calendar: 1/10\\n Wed\\n 28\\n Lim Festival\\n Bac Ninh\\n Lunar calendar: 1/13\\n \\n \\n \\n \\n \\n \\n Previous\\n \\n \\n \\n \\n Next\\n \\n \\n \\n \\n \\n \\n \\n Fri\\n 02\\n Ba Pagoda Festival\\n Binh Duong\\n Lunar calendar: 1/15\\n Mon\\n 05\\n Ba Den Mountain Festival\\n Tay Ninh\\n Lunar calendar: 1/18\\n Mon\\n 19\\n Cua Ong Temple Festival\\n Quang Ninh\\n Lunar calendar: 2/3\\n Thu\\n 22\\n Dong Nhan Temple Festival\\n Ha Noi Capital\\n Lunar calendar: 2/6\\n Mon\\n 26\\n Chu Dong Tu Festival\\n Hung Yen\\n Lunar calendar: 2/10\\n Mon\\n 26\\n Madam Thu Bon Festival\\n Quang Nam\\n Lunar calendar: 2/10\\n \\n \\n \\n \\n \\n \\n Previous\\n \\n \\n \\n \\n Next\\n \\n \\n \\n \\n \\n \\n \\n Wed\\n 04\\n Feast and Commemoration Festival for…\\n Quang Ngai\\n Lunar calendar: 2/19\\n Wed\\n 04\\n Quan Am (Avalokitesvara) Festival on…\\n Da Nang City\\n Lunar calendar: 2/19\\n Wed\\n 18\\n Phu Day Festival\\n Nam Dinh\\n Lunar calendar: 3/3\\n Wed\\n 18\\n Hon Chen Temple Festival\\n Thua Thien - Hue\\n Lunar calendar: 3/3\\n Sat\\n 21\\n Tay Phuong Pagoda Festival\\n Ha Noi Capital\\n Lunar calendar: 3/6\\n Mon\\n 23\\n Bach Dang Festival\\n Quang Ninh\\n Lunar calendar: 3/8\\n Wed\\n 25\\n Hung Temple Festival\\n Phu Tho\\n Lunar calendar: 3/10\\n Wed\\n 25\\n Truong Yen Festival\\n Ninh Binh\\n Lunar calendar: 3/10\\n Mon\\n 30\\n Do Temple Festival\\n Bac Ninh\\n Lunar calendar: 3/15\\n Mon\\n 30\\n Ca Ong (also known as…\\n Da Nang City\\n Lunar calendar: 3/15\\n \\n \\n \\n \\n \\n \\n Previous\\n \\n \\n \\n \\n Next\\n \\n \\n \\n \\n \\n \\n \\n Sat\\n 05\\n Thap Ba Festival\\n Khanh Hoa\\n Lunar calendar: 3/20\\n Tue\\n 08\\n Le Mat Village Festival\\n Ha Noi Capital\\n Lunar calendar: 3/23\\n Wed\\n 09\\n Long Tien Pagoda Festival\\n Quang Ninh\\n Lunar calendar: 3/24\\n Wed\\n 23\\n Giong Festival\\n Ha Noi Capital\\n Lunar calendar: 4/9\\n \\n \\n \\n \\n \\n \\n Previous\\n \\n \\n \\n \\n Next\\n \\n \\n \\n \\n \\n Fri\\n 08\\n Ba Chua Xu Temple Festival\\n An Giang\\n Lunar calendar: 4/25\\n \\n \\n \\n Fri\\n 13\\n Tra Co Festival\\n Quang Ninh\\n Lunar calendar: 5/30\\n Mon\\n 30\\n Quan Lan Festival\\n Quang Ninh\\n Lunar calendar: 6/18\\n \\n \\n \\n Sun\\n 19\\n Dao Xa Festival\\n Phu Tho\\n Lunar calendar: 7/9\\n Sat\\n 25\\n Long Chu Festival\\n Quang Nam\\n Lunar calendar: 7/15\\n \\n \\n \\n \\n \\n Mon\\n 10\\n New rice Festival of the…\\n Binh Phuoc\\n Lunar calendar: 8/1\\n Tue\\n 18\\n Do Son Buffalo Fighting Festival\\n Hai Phong City\\n Lunar calendar: 8/9\\n Mon\\n 24\\n Tran Temple Festival\\n Nam Dinh\\n Lunar calendar: 8/15\\n Sat\\n 29\\n Kiep Bac Temple Festival\\n Hai Duong\\n Lunar calendar: 8/20\\n \\n \\n \\n \\n \\n \\n Previous\\n \\n \\n \\n \\n Next\\n \\n \\n \\n \\n \\n Mon\\n 01\\n Lam Kinh Festival\\n Thanh Hoa\\n Lunar calendar: 8/22\\n Mon\\n 08\\n Dolta Ceremony and Ox Racing…\\n An Giang\\n Lunar calendar: 8/29\\n Sun\\n 21\\n Keo Pagoda Festival\\n Thai Binh\\n Lunar calendar: 9/13\\n \\n \\n \\n Tue\\n 20\\n Ooc-om-bok Festival\\n Soc Trang\\n Lunar calendar: 10/14\\n Sat\\n 24\\n Nguyen Trung Truc Temple Festival\\n An Giang\\n Lunar calendar: 10/18\\n \\n \\n No Event\\n \\n \\n \\n \\n \\n \\n \\n \\n \\n \\n \\n \\n \\n \\n Traditional Festivals\\n \\n \\n \\n \\n \\n Jan\\n 2018\\n Feb\\n 2018\\n Mar\\n 2018\\n Apr\\n 2018\\n May\\n 2018\\n Jun\\n 2018\\n Jul\\n 2018\\n Aug\\n 2018\\n Sep\\n 2018\\n Oct\\n 2018\\n Nov\\n 2018\\n Dec\\n 2018\\n \\n \\n \\n Sat\\n 06\\n Buffalo-Stabbing Festival\\n Gia Lai\\n Lunar calendar: 12/1\\n \\n \\n Mon\\n 19\\n Phat Tich Pagoda Festival\\n Bac Ninh\\n Lunar calendar: 1/4\\n Tue\\n 20\\n Dong Da Festival (Ha Noi)\\n Ha Noi Capital\\n Lunar calendar: 1/5\\n Tue\\n 20\\n Tay Son Festival\\n Binh Dinh\\n Lunar calendar: 1/5\\n Wed\\n 21\\n Huong Pagoda Festival\\n Ha Noi Capital\\n Lunar calendar: 1/6\\n Wed\\n 21\\n Co Loa Festival\\n Ha Noi Capital\\n Lunar calendar: 1/6\\n Wed\\n 21\\n Ha Loi Temple Festival\\n Ha Noi Capital\\n Lunar calendar: 1/6\\n Sat\\n 24\\n The wrestling competitions Festival of Sinh Village\\n Thua Thien - Hue\\n Lunar calendar: 1/9\\n Sun\\n 25\\n Yen Tu Festival\\n Quang Ninh\\n Lunar calendar: 1/10\\n Wed\\n 28\\n Lim Festival\\n Bac Ninh\\n Lunar calendar: 1/13\\n \\n \\n \\n \\n \\n \\n \\n Previous\\n \\n \\n \\n \\n Next\\n \\n \\n \\n \\n Fri\\n 02\\n Ba Pagoda Festival\\n Binh Duong\\n Lunar calendar: 1/15\\n Mon\\n 05\\n Ba Den Mountain Festival\\n Tay Ninh\\n Lunar calendar: 1/18\\n Mon\\n 19\\n Cua Ong Temple Festival\\n Quang Ninh\\n Lunar calendar: 2/3\\n Thu\\n 22\\n Dong Nhan Temple Festival\\n Ha Noi Capital\\n Lunar calendar: 2/6\\n Mon\\n 26\\n Chu Dong Tu Festival\\n Hung Yen\\n Lunar calendar: 2/10\\n Mon\\n 26\\n Madam Thu Bon Festival\\n Quang Nam\\n Lunar calendar: 2/10\\n \\n \\n \\n \\n \\n \\n \\n Previous\\n \\n \\n \\n \\n Next\\n \\n \\n \\n \\n Wed\\n 04\\n Feast and Commemoration Festival for Hoang Sa soldiers\\n Quang Ngai\\n Lunar calendar: 2/19\\n Wed\\n 04\\n Quan Am (Avalokitesvara) Festival on Ngu Hanh Son\\n Da Nang City\\n Lunar calendar: 2/19\\n Wed\\n 18\\n Phu Day Festival\\n Nam Dinh\\n Lunar calendar: 3/3\\n Wed\\n 18\\n Hon Chen Temple Festival\\n Thua Thien - Hue\\n Lunar calendar: 3/3\\n Sat\\n 21\\n Tay Phuong Pagoda Festival\\n Ha Noi Capital\\n Lunar calendar: 3/6\\n Mon\\n 23\\n Bach Dang Festival\\n Quang Ninh\\n Lunar calendar: 3/8\\n Wed\\n 25\\n Hung Temple Festival\\n Phu Tho\\n Lunar calendar: 3/10\\n Wed\\n 25\\n Truong Yen Festival\\n Ninh Binh\\n Lunar calendar: 3/10\\n Mon\\n 30\\n Do Temple Festival\\n Bac Ninh\\n Lunar calendar: 3/15\\n Mon\\n 30\\n Ca Ong (also known as Whale) Festival\\n Da Nang City\\n Lunar calendar: 3/15\\n \\n \\n \\n \\n \\n \\n \\n Previous\\n \\n \\n \\n \\n Next\\n \\n \\n Sat\\n 05\\n Thap Ba Festival\\n Khanh Hoa\\n Lunar calendar: 3/20\\n Tue\\n 08\\n Le Mat Village Festival\\n Ha Noi Capital\\n Lunar calendar: 3/23\\n Wed\\n 09\\n Long Tien Pagoda Festival\\n Quang Ninh\\n Lunar calendar: 3/24\\n Wed\\n 23\\n Giong Festival\\n Ha Noi Capital\\n Lunar calendar: 4/9\\n Fri\\n 08\\n Ba Chua Xu Temple Festival\\n An Giang\\n Lunar calendar: 4/25\\n Fri\\n 13\\n Tra Co Festival\\n Quang Ninh\\n Lunar calendar: 5/30\\n Mon\\n 30\\n Quan Lan Festival\\n Quang Ninh\\n Lunar calendar: 6/18\\n Sun\\n 19\\n Dao Xa Festival\\n Phu Tho\\n Lunar calendar: 7/9\\n Sat\\n 25\\n Long Chu Festival\\n Quang Nam\\n Lunar calendar: 7/15\\n Mon\\n 10\\n New rice Festival of the M'Nong\\n Binh Phuoc\\n Lunar calendar: 8/1\\n Tue\\n 18\\n Do Son Buffalo Fighting Festival\\n Hai Phong City\\n Lunar calendar: 8/9\\n Mon\\n 24\\n Tran Temple Festival\\n Nam Dinh\\n Lunar calendar: 8/15\\n Sat\\n 29\\n Kiep Bac Temple Festival\\n Hai Duong\\n Lunar calendar: 8/20\\n Mon\\n 01\\n Lam Kinh Festival\\n Thanh Hoa\\n Lunar calendar: 8/22\\n Mon\\n 08\\n Dolta Ceremony and Ox Racing Festival\\n An Giang\\n Lunar calendar: 8/29\\n Sun\\n 21\\n Keo Pagoda Festival\\n Thai Binh\\n Lunar calendar: 9/13\\n Tue\\n 20\\n Ooc-om-bok Festival\\n Soc Trang\\n Lunar calendar: 10/14\\n Sat\\n 24\\n Nguyen Trung Truc Temple Festival\\n An Giang\\n Lunar calendar: 10/18\\n \\n \\n \\n \\n \\n \\n \\n Events\\n \\n \\n \\n \\n \\n \\n \\n \\n \\n \\n \\n \\n \\n \\n \\n \\n \\n \\n \\n HOT TITLES\\n \\n \\n \\n \\n \\n \\n NEWS & EVENTS\\n \\n \\n \\n \\n \\n \\n DESTINATIONS\\n \\n \\n \\n \\n \\n \\n WORLD HERITAGE IN VIET NAM\\n \\n \\n \\n \\n \\n \\n HOTELS\\n \\n \\n \\n \\n \\n \\n TOUR OPERATORS\\n \\n \\n \\n \\n \\n \\n TOUR ON OFFER\\n \\n \\n \\n \\n \\n \\n USEFUL INFORMATION\\n \\n \\n \\n \\n \\n \\n E - VISA\\n \\n \\n \\n \\n \\n \\n \\n \\n \\n \\n \\n \\n \\n \\n \\n \\n \\n \\n NEWS & EVENTS\\n \\n \\n \\n \\n \\n \\n NEWS & EVENTS\\n \\n \\n \\n \\n \\n \\n \\n \\n \\n \\n \\n \\n \\n \\n USEFUL INFORMATION\\n \\n \\n \\n \\n \\n \\n USEFUL INFORMATION\\n \\n \\n \\n \\n \\n \\n \\n \\n \\n \\n \\n \\n \\n \\n E - VISA\\n \\n \\n \\n \\n \\n \\n E - VISA\\n \\n \\n \\n \\n \\n \\n \\n \\n \\n \\n \\n \\n \\n \\n DESTINATIONS\\n \\n \\n \\n \\n \\n \\n DESTINATIONS\\n \\n \\n \\n \\n \\n \\n \\n \\n \\n \\n \\n \\n \\n \\n \\n \\n WORLD HERITAGE IN VIET NAM\\n \\n \\n \\n \\n \\n \\n WORLD HERITAGE IN VIET NAM\\n \\n \\n \\n \\n \\n \\n \\n \\n \\n \\n \\n \\n \\n \\n HOTELS\\n \\n \\n \\n \\n \\n \\n HOTELS\\n \\n \\n \\n \\n \\n \\n \\n \\n \\n \\n \\n \\n \\n \\n TOUR OPERATORS\\n \\n \\n \\n \\n \\n \\n TOUR OPERATORS\\n \\n \\n \\n \\n \\n \\n \\n \\n \\n \\n \\n \\n \\n \\n TOURS ON OFFER\\n \\n \\n \\n \\n \\n \\n TOURS ON OFFER\\n \\n \\n \\n \\n \\n \\n \\n \\n \\n \\n \\n \\n \\n \\n \\n \\n \\n \\n \\n \\n \\n \\n \\n \\n \\n \\n \\n \\n Copyright Â© Vietnam National Administration of Tourism\\n \\n Address: 80 Quan Su, Hoan Kiem Dist., Ha Noi\\n \\n \\n \\n \\n \\n \\n \\n \\n Webmaster: Tourism Information Technology Centre\\n \\n Responsible for contents: Phan Thi Thai Ha\\n \\n License number: 85/GP-TTÄ\\x90T date of issue July 02, 2015\\n \\n Online: 236   Visitors in year: 7957928\\n \\n \\n \\n \\n \\n \\n \\n \\n \\n \\n \",\n",
       " \"\\n \\n \\n \\n \\n \\n \\n \\n \\n \\n \\n \\n \\n \\n \\n \\n \\n \\n \\n \\n \\n \\n \\n \\n \\n \\n \\n \\n \\n \\n \\n \\n \\n \\n \\n \\n \\n \\n \\n \\n Vietnam\\n \\n \\n \\n \\n Vietnam Tourism\\n \\n \\n \\n Vietnam Hotels\\n \\n \\n \\n Vietnam Bed and Breakfast\\n \\n \\n \\n Vietnam Vacation Rentals\\n \\n \\n \\n Vietnam Vacation Packages\\n \\n \\n \\n Vietnam Restaurants\\n \\n \\n \\n Things to Do in Vietnam\\n \\n \\n \\n Vietnam Travel Forum\\n \\n \\n \\n Vietnam Photos\\n \\n \\n \\n Vietnam Travel Guide\\n \\n \\n \\n \\n \\n \\n \\n All Vietnam Hotels\\n \\n \\n \\n Vietnam Hotel Deals\\n \\n \\n \\n Last Minute Hotels in Vietnam\\n \\n \\n \\n Popular Vietnam Categories\\n \\n \\n \\n Resorts on the Ocean in Vietnam\\n \\n \\n \\n Family Resorts in Vietnam\\n \\n \\n \\n Vietnam Luxury Beach Resorts\\n \\n \\n \\n Exclusive Resorts in Vietnam\\n \\n \\n \\n All Inclusive Resorts in Vietnam\\n \\n \\n \\n Romantic Resorts in Vietnam\\n \\n \\n \\n Luxury Beach Hotels in Vietnam\\n \\n \\n \\n Luxury Spa Hotels in Vietnam\\n \\n \\n \\n Hotels with Free Wifi in Vietnam\\n \\n \\n \\n Boutique Spa Hotels in Vietnam\\n \\n \\n \\n \\n \\n \\n \\n \\n \\n \\n \\n Vietnam\\n \\n Tip:\\n All of your saved places can be found here in My Trips.\\n \\n Inbox\\n \\n See all\\n \\n Log in\\n to get trip updates and message other travelers.\\n \\n JOIN\\n in\\n Enter a destination\\n Search\\n \\n About Vietnam\\n Hotels\\n Vacation Rentals\\n Flights\\n Restaurants\\n Things to do\\n Travel Forum\\n Airlines\\n Best of 2018\\n Road Trips\\n Help Center\\n Log in\\n \\n Join\\n \\n My trips\\n \\n Recently viewed\\n \\n Bookings\\n \\n Inbox\\n More\\n Help Center\\n \\n \\n \\n \\n Vietnam Tourism: Best of Vietnam\\n \\n \\n \\n \\n Asia\\n \\n \\n Vietnam Tourism\\n \\n \\n \\n \\n \\n \\n \\n \\n \\n \\n \\n \\n \\n \\n \\n \\n \\n \\n \\n \\n \\n \\n \\n \\n \\n \\n \\n \\n \\n \\n \\n 2,424,938\\n reviews and opinions\\n \\n Vietnam\\n \\n \\n \\n \\n \\n \\n \\n \\n (GillianKPerth_WA, Oct 2011)\\n \\n \\n \\n Travelers' top-rated places in Vietnam\\n \\n \\n \\n Top 25 Destinations — the World\\n \\n \\n Hanoi\\n \\n \\n \\n \\n Top 25 Beaches — Asia\\n \\n \\n An Bang Beach\\n \\n \\n \\n \\n \\n \\n \\n \\n \\n \\n \\n \\n \\n \\n Overview\\n \\n \\n \\n Popular Destinations\\n \\n \\n \\n Location\\n \\n \\n \\n More\\n \\n \\n \\n \\n \\n \\n \\n \\n \\n \\n \\n \\n \\n \\n \\n Want to save up to 30% on your Vietnam hotel?\\n \\n We check up to 200 sites for the\\n latest and lowest prices.\\n \\n \\n \\n \\n \\n Shop Hotels\\n \\n \\n \\n \\n \\n \\n \\n \\n \\n \\n \\n \\n \\n \\n \\n \\n \\n \\n \\n \\n \\n \\n \\n \\n \\n \\n \\n \\n \\n \\n \\n \\n \\n \\n \\n \\n \\n \\n See all 3,552 traveler photos\\n \\n \\n \\n \\n \\n \\n \\n \\n \\n \\n Popular Destinations in Vietnam\\n \\n \\n \\n \\n \\n \\n \\n \\n \\n \\n \\n \\n \\n #1\\n \\n Hanoi\\n \\n \\n \\n \\n \\n \\n \\n \\n \\n \\n #2\\n \\n Hoi An\\n \\n \\n \\n \\n \\n \\n \\n \\n \\n \\n #3\\n \\n Ho Chi Minh City\\n \\n \\n \\n \\n \\n \\n \\n \\n \\n \\n #4\\n \\n Da Nang\\n \\n \\n \\n \\n \\n \\n \\n \\n \\n \\n #5\\n \\n Hue\\n \\n \\n \\n \\n \\n \\n \\n \\n \\n \\n #6\\n \\n Nha Trang\\n \\n \\n \\n \\n \\n \\n \\n See more popular destinations in Vietnam\\n \\n \\n \\n \\n \\n \\n \\n \\n \\n \\n \\n \\n \\n \\n \\n \\n \\n \\n \\n \\n \\n \\n \\n \\n Also show\\n \\n \\n \\n \\n \\n \\n \\n \\n Hotels\\n \\n \\n \\n \\n \\n \\n \\n \\n \\n \\n \\n Vacation Rentals\\n \\n \\n \\n \\n \\n \\n \\n \\n \\n \\n \\n Restaurants\\n \\n \\n \\n \\n \\n \\n \\n \\n \\n \\n \\n Things to Do\\n \\n \\n \\n \\n \\n \\n \\n \\n \\n \\n \\n \\n \\n \\n Also show\\n \\n \\n \\n \\n \\n \\n \\n \\n \\n \\n \\n \\n \\n \\n \\n \\n \\n \\n \\n \\n \\n Map\\n Satellite\\n \\n \\n \\n Map updates are paused. Zoom in to see updated info.\\n \\n Reset zoom\\n \\n \\n \\n \\n \\n \\n \\n Updating Map...\\n \\n \\n \\n \\n \\n \\n \\n \\n \\n \\n \\n \\n \\n \\n Check In\\n \\n Check Out\\n \\n \\n \\n There are no pins in your viewport. Try moving the map or changing your filters.\\n \\n \\n Only show hotels with confirmed availability\\n \\n \\n \\n \\n \\n \\n \\n \\n \\n \\n {providername}\\n \\n {price}\\n \\n \\n \\n \\n {providername}\\n \\n {price}\\n \\n \\n \\n \\n \\n {listitems}\\n \\n \\n {sold_out_text}\\n \\n We can't find prices for this accommodation\\n \\n \\n From {rate_price} {rate_periodicity}\\n \\n \\n Return to Map\\n \\n \\n \\n \\n Explore any destination in Vietnam\\n \\n \\n \\n \\n \\n \\n \\n \\n \\n \\n \\n \\n \\n \\n \\n \\n \\n \\n \\n \\n \\n \\n \\n \\n \\n Are You a Vietnam Tourism Organization?\\n \\n \\n Add Photo\\n \\n |\\n \\n Promote Vietnam\\n \\n \\n \\n \\n \\n \\n \\n \\n \\n \\n \\n \\n \\n \\n Interested in Vietnam?\\n \\n Get updates with the latest deals and traveler reviews every week.\\n \\n \\n \\n \\n Sign up\\n \\n \\n \\n You successfully subscribed.\\n \\n Keep a look out for your Vietnam TripWatch.\\n \\n \\n \\n \\n \\n \\n \\n \\n \\n \\n \\n \\n \\n \\n \\n \\n \\n \\n \\n \\n know better\\n book better\\n go better\\n © 2018 TripAdvisor LLC All rights reserved.\\n Terms of Use\\n |\\n Privacy Policy\\n |\\n Site Map\\n * TripAdvisor LLC is not a booking agent and does not charge any service fees to users of our site... (\\n more\\n )\\n TripAdvisor LLC is not responsible for content on external web sites. Taxes, fees not included for deals content.\\n \\n EXPLORE\\n About Us\\n Help Center\\n CURRENCY/REGION\\n ₹\\n INR\\n United States\\n \\n \\n \\n \\n \\n \\n \\n \\n \\n \\n \\n \\n \\n \\n \\n \\n \\n \\n \\n \\n \\n \\n \\n \\n \\n \\n \\n \\n \\n \\n \\n \\n \\n \\n \\n \\n \\n \\n \\n \\n \\n \\n \\n \\n \\n \\n \\n \\n \\n \\n \\n \\n \\n \\n \\n \\n \\n \\n \\n \\n \\n \\n \\n \\n \\n \\n \\n \\n \\n \\n \\n \\n \\n \\n \\n \\n \\n \\n \\n \\n \\n \\n \\n \\n \\n \\n \\n \\n \\n \\n \\n \\n \\n \\n \\n \\n \\n \\n \\n \\n \\n \\n \\n \\n \\n \\n \\n \\n \\n \\n \\n \\n \\n \\n \\n \\n \",\n",
       " '\\n \\n \\n \\n \\n \\n \\n \\n \\n \\n \\n \\n \\n \\n Login\\n My Account\\n INR\\n Refer & Earn\\n Earn Upto\\n Rs\\n 7000\\n Gift Cards\\n Gift an experience\\n 24x7\\n Support\\n Top Currencies\\n INR (\\n Rs.\\n ) : Indian Rupee\\n USD ($): United States Dollar\\n EUR (€): European Union\\n GBP (£): Pound Sterling\\n SGD ($): Singapore Dollar\\n AED (AED): United Arab Emirates Dirham\\n CAD ($): Canadian Dollar\\n All Currencies\\n AED (AED):United Arab Emirates Dirham\\n AUD ($):Australian dollar\\n CAD ($):Canadian Dollar\\n CHF (SFr):Swiss Franc\\n CNY (元):China Yuan Renminbi\\n EUR (€):European Union\\n GBP (£):Pound Sterling\\n HKD ($):Hong Kong Dollar\\n IDR (Rp):Indonesian Rupiahs\\n INR (\\n Rs.\\n ) :Indian Rupee\\n JPY (¥):Japanese yen\\n KRW (₩):South Korean Won\\n LKR (LKR):Sri Lankan Rupee\\n MOP (MOP):Macau Pataca\\n MUR (MUR):Mauritius Rupee\\n MVR (MVR):Maldives Rufiyaa\\n MYR (M$):Malaysian Ringgit\\n NPR (NPR):Nepalese Rupee\\n PHP (PHP):Philippine Pesos\\n SGD ($):Singapore Dollar\\n THB (THB):Thai Baht\\n USD ($):United States Dollar\\n Select a different country:\\n United Arab Emirates\\n United States\\n Flight\\n Hotel\\n Homestays\\n new\\n Holiday\\n Flight + Hotel\\n Bus\\n Cabs\\n new\\n Trains\\n Deals\\n Stories\\n ×\\n Coming soon!\\n Currently, we do not have this feature in MyBusiness. If you want to use this feature, you will have to logout and sign in again using your personal account.\\n OK\\n India, Nepal & Bhutan\\n International Holidays\\n Travel Guide\\n Honeymoon Packages\\n Select by Theme\\n Family Packages (589)\\n Shopping Packages (275)\\n Romantic Packages (242)\\n Adventure Packages (199)\\n Culture Packages (197)\\n 0124-485-9742\\n Vietnam Tourism\\n Home\\n >\\n International Holidays\\n >\\n Vietnam\\n >\\n Vietnam Tourism\\n (3 packages)\\n I AM FROM\\n I WANT TO GO TO\\n \\n \\n \\n Search\\n Vietnam Tourism\\n View all Packages\\n Filters:\\n Budget\\n \\n Any\\n Up To\\n Rs\\n 19,999\\n Rs\\n 20,000 -\\n Rs\\n 29,999\\n Rs\\n 30,000 -\\n Rs\\n 39,999\\n Rs\\n 40,000 -\\n Rs\\n 49,999 (1)\\n Rs\\n 50,000 -\\n Rs\\n 74,999\\n Rs\\n 75,000 -\\n Rs\\n 99,999 (1)\\n Rs\\n 1,00,000 and above (1)\\n Duration\\n \\n Any\\n Up to 3 Nights (1)\\n 4 Nights\\n 5 Nights to 7 Nights (1)\\n 8 Nights to 10 Nights (1)\\n 11 Nights and above\\n Hotels Choice\\n \\n Any\\n Up to 3 Star\\n 4 Star (1)\\n 5 Star (2)\\n Travel Option\\n \\n By Flight (2)\\n By Car\\n By Bus\\n Includes Sightseeing\\n Includes Meals\\n Theme\\n \\n Honeymoon\\n Group\\n Customizable\\n Sort By:\\n Popularity\\n Any\\n Price - Low to High\\n Price - High to Low\\n Duration - Low to High\\n Duration - High to Low\\n Best of Vietnam 5 Nights 6 Days\\n | 6 Days 5 Nights\\n Hanoi (2 Nights) | Ho Chi Minh City (3 Nights)\\n https://imgak.mmtcdn.com/hp-images/new/cities/3736/Saigon-at-nigh_704x385.jpg\\n active\\n https://imgak.mmtcdn.com/hp-images/new/cities/3736/Hanoi_704x385.jpg\\n https://imgak.mmtcdn.com/hp-images/new/cities/3736/Yen-stream-in-Autumn_704x385.jpg\\n https://imgak.mmtcdn.com/hp-images/new/cities/3736/Yen-stream-Hanoi-Vietnam_704x385.jpg\\n https://imgak.mmtcdn.com/hp-images/new/cities/3737/Saigon-City-Hall_704x385.jpg\\n https://imgak.mmtcdn.com/hp-images/new/cities/3737/Ho-Chi-Minh-City-Skyline-in-Vietnam_704x385.jpg\\n https://imgak.mmtcdn.com/hp-images/new/cities/3737/Ho-Chi-Minh-City-skyline-by-night_704x385.jpg\\n view gallery\\n View photos\\n View details\\n Best of Vietnam 5 Nights 6 Days\\n 6 Days 5 Nights\\n Itinerary\\n Day 1\\n Arrival at Hanoi\\n Day 2\\n Hanoi\\n Day 3\\n Departure to Ho Chi Minh City\\n Day 4\\n Ho Chi Minh City\\n Day 5\\n Ho Chi Minh\\n Day 6\\n Departure from Ho Chi Minh\\n Know More\\n Itinerary Details\\n X\\n \\n Sofitel Legend Metropole Hanoi Hotel\\n hanoi\\n (or other similar Hotel)\\n Day 1\\n Arrival at Hanoi\\n Arrive at Hanoi airport, and get transferred to your hotel. Spend the rest of the day at leisure. Stay overnight at the hotel in Hanoi.\\n \\n Sofitel Legend Metropole Hanoi Hotel\\n hanoi\\n (or other similar Hotel)\\n Day 2\\n Hanoi\\n Spend your day as per activities added in the package . For day wise included activities , please refer to Inclusions. In any case , if you want to do different activities than the one Included/not included , Use Customization. In case of any travel planned on this day to other city , we recommend to keep it light in terms of activities.\\n \\n Sedona Suites Ho Chi Minh City\\n Ho Chi Minh City\\n (or other similar Hotel)\\n Day 3\\n Departure to Ho Chi Minh City\\n Today check out from the hotel at Hanoi, and head straight to Airport for your flight to Ho Chi Minh City. On arrival at Ho Chi Minh City, check in to your hotel and have a comfortable stay overnight.\\n \\n Sedona Suites Ho Chi Minh City\\n Ho Chi Minh City\\n (or other similar Hotel)\\n Day 4\\n Ho Chi Minh City\\n Spend your day as per activities added in the package . For day wise included activities , please refer to Inclusions. In any case , if you want to do different activities than the one Included/not included , Use Customization. In case of any travel planned on this day to other city , we recommend to keep it light in terms of activities.\\n \\n Sedona Suites Ho Chi Minh City\\n Ho Chi Minh City\\n (or other similar Hotel)\\n Day 5\\n Ho Chi Minh\\n Spend your day as per activities added in the package . For day wise included activities , please refer to Inclusions. In any case , if you want to do different activities than the one Included/not included , Use Customization. In case of any travel planned on this day to other city , we recommend to keep it light in terms of activities.\\n \\n Checkout\\n Day 6\\n Departure from Ho Chi Minh\\n Check out from hotel and get transferred to Airport for your onwards journey.\\n 1\\n of\\n \\n Inclusions:\\n \\n Hotel\\n \\n Flight\\n View Details\\n \\n Hotel\\n \\n Flight\\n \\n Hotels Available\\n Hanoi :\\n \\n Sofitel Legend Metro...\\n Ho Chi Minh City :\\n \\n Sedona Suites Ho Chi...\\n Know More\\n Hanoi :\\n \\n Asia Star Hotel Hano...\\n Ho Chi Minh City :\\n \\n Family Inn Saigon\\n Hanoi :\\n \\n The Palmy Hotel & Sp...\\n Ho Chi Minh City :\\n \\n A&EM Corner Sai Gon ...\\n View less\\n DEAL\\n Instant discount of up to Rs 25000. Offer valid only on bookings made on MakeMyTrip APP ..\\n Know more\\n Ho Chi Minh City Holiday - 3 N Stay with Flights\\n | 4 Days 3 Nights\\n Ho Chi Minh City (3 Nights)\\n https://imgak.mmtcdn.com/hp-images/new/cities/3737/Saigon-City-Hall_704x385.jpg\\n active\\n https://imgak.mmtcdn.com/hp-images/new/cities/3737/Ho-Chi-Minh-City-Skyline-in-Vietnam_704x385.jpg\\n https://imgak.mmtcdn.com/hp-images/new/cities/3737/Ho-Chi-Minh-City-skyline-by-night_704x385.jpg\\n view gallery\\n View photos\\n View details\\n Ho Chi Minh City Holiday - 3 N Stay with Flights\\n 4 Days 3 Nights\\n Itinerary\\n Day 1\\n Day 2\\n Day 3\\n Day 4\\n Know More\\n Itinerary Details\\n X\\n 1\\n of\\n \\n Inclusions:\\n \\n Hotel\\n \\n Flight\\n View Details\\n \\n Hotel\\n \\n Flight\\n \\n Hotels Available\\n Ho Chi Minh City :\\n \\n Sedona Suites Ho Chi...\\n Ho Chi Minh City :\\n \\n Family Inn Saigon\\n Know More\\n Ho Chi Minh City :\\n \\n Blue River Hotel\\n Ho Chi Minh City :\\n \\n A&EM Corner Sai Gon ...\\n View less\\n DEAL\\n Instant discount of up to Rs 25000. Offer valid only on bookings made on MakeMyTrip APP ..\\n Know more\\n 10 DAYS BALKANS\\n | 10 Days 9 Nights\\n Athens (1 Nights) | The Great Rift Valley (2 Nights) | Sofia (2 Nights)\\n | 2 More...\\n \\n \\n https://imgak.mmtcdn.com/hp-images/new/cities/1060/athens1_704x385.jpg\\n active\\n https://imgak.mmtcdn.com/hp-images/new/cities/1060/Acropolis of Athens (2)_704x385.jpg\\n view gallery\\n View photos\\n View details\\n 10 DAYS BALKANS\\n 10 Days 9 Nights\\n Itinerary\\n Day 1\\n INDIA - ATHNES\\n Day 2\\n ATHENS - THESSALONIKI\\n Day 3\\n THESSALONIKI\\n Day 4\\n THESSALONIKI - SOFIA\\n Day 5\\n SOFIA\\n Day 6\\n SOFIA - BUCHAREST\\n Day 7\\n BUCHAREST\\n Day 8\\n BUCHAREST - (TIMISOARA) - BELGRADE\\n Day 9\\n BELGRADE\\n Day 10\\n BELGRADE - INDIA\\n Know More\\n Itinerary Details\\n X\\n \\n President Hotel Athens\\n athens\\n (or other similar Hotel)\\n Dinner\\n Day 1\\n INDIA - ATHNES\\n Arrival at Athens International Airport “El.Venizelos”. Meet and greet with our representative and transfer to the hotel. Your evening begins with a short panoramic drive through the city center and on the slopes of the sacred hill you will be able to see, admire and take photos of the illuminated Acropolis. Then a pleasant walk through the narrow picturesque streets of Plaka, the old city, will bring you at a Typical Greek Tavern where you will enjoy your dinner following a floor show with live music and Greek Folk Dances in traditional costumes.. Overnight at the hotel.\\n \\n NH Bucharest Hotel\\n sofia\\n (or other similar Hotel)\\n Breakfast\\n Day 2\\n ATHENS - THESSALONIKI\\n After breakfast, you will have an Athens half day city tour with Acropolis museum and Parthenon with SIC coach & Tour Guide. You will start at 8:45am and you will return about 13:30pm. At 17:00 you will have private transfer from Athens hotel to Athens railway station. At 18:18 your train will depart to Thessaloniki. At 23:40 your train will arrive to Thessaloniki and you will have private transfer to your hotel\\n \\n NH Bucharest Hotel\\n sofia\\n (or other similar Hotel)\\n Breakfast\\n Day 3\\n THESSALONIKI\\n After your breakfast you will have free day to explore the city of Thessaloniki.\\n \\n Ramada Sofia Hotel\\n sofia\\n (or other similar Hotel)\\n Breakfast\\n Day 4\\n THESSALONIKI - SOFIA\\n After your breakfast, at 06:00am private transfer to the main rail station. You will depart to Sofia at 06:55am, the\\xa0capital\\xa0and largest city\\xa0of\\xa0Bulgaria. After your arrival to Sofia at 13:45pm there is private transfer to the hotel. Rest of the day at leisure. Overnight in Sofia\\n \\n Ramada Sofia Hotel\\n sofia\\n (or other similar Hotel)\\n Breakfast\\n Day 5\\n SOFIA\\n After breakfast, you will have free day to explore the city. Optional tour a hop on hop off that start and return at 12.00 pm behind the\\xa0 Alexander Nevski cathedral with live commentary in English. Overnight in Sofia.\\nSofia is one of the oldest cities of the Balkans founded by the Thracian tribe Serdi. In 29 A.D. Sofia became the capital of the Roman province of Inner Dacia. For many centuries the city featured an important trading center of the Byzantine and Bulgarian Empire. Under the Ottoman rule Sofia was the center of Rumelia province. It became the capital of the restored Bulgaria in 1879, with a population of only 12,000 inhabitants. Today Sofia is the largest\\xa0city of all southern slavic countries, a population of 1.26 millionpeople.\\n \\n NH Bucharest Hotel\\n bucharest\\n (or other similar Hotel)\\n Breakfast\\n Day 6\\n SOFIA - BUCHAREST\\n After our breakfast, at 9:00am private transfer from Sofia hotel. About 5 hours later you will arrive to Bucharest hotel. Rest of the day at leisure. Overnight in Bucharest.\\n\\xa0\\nBucharest\\xa0is the capital and largest city of\\xa0Romania. It is located in the southeast of the country, on the banks of the Dâmbovița River, less than 60\\xa0km north of the\\xa0Danube River and the\\xa0Bulgarian\\xa0border. Bucharest was first mentioned in documents dating back to 1459. It became the capital of Romania in 1862. Its architecture is a mix of different eras and styles, including neo-classical, interbellum\\xa0(Bauhaus\\xa0and\\xa0art deco), communist-era and modern style architecture. In the period between the two World Wars, the city\\'s elegant architecture together with its sophisticated social elite earned Bucharest the nickname of \"Little Paris\" (Micul Paris). In 2016 the historical city centre was listed as \"endangered\" by the\\xa0World Monuments Watch.\\n \\n NH Bucharest Hotel\\n bucharest\\n (or other similar Hotel)\\n Breakfast\\n Day 7\\n BUCHAREST\\n After breakfast, you will have free day to explore the city. Optional tour a hop on hop off that the first bus leaves from Piata Presei Libere to Piata Unirii at 10:00am and the last bus leaves from Piata Presei Libere to Piata Unirii at 21:00PM. Rest of the day at leisure. Overnight in Bucharest.\\n \\n sofia\\n (or other similar Hotel)\\n Breakfast\\n Day 8\\n BUCHAREST - (TIMISOARA) - BELGRADE\\n After our breakfast, at 09:00am private transfer to the main rail station. You will depart to Timisoara with InterCity at 11:05am. Arrival at 20:21pm. After your arrival to Timisoara meet and greet with our representative and private transfer you to the Belgrade. About 2 hour and 30 minutes later you will arrive to Belgrade hotel. Rest of the day at leisure. Overnight in Belgrade.\\n \\n sofia\\n (or other similar Hotel)\\n Breakfast\\n Day 9\\n BELGRADE\\n After breakfast, you will have free day to explore the city. Optional tour a hop on hop off. The tour lasts 90 minutes and starts and ends at the Nikola Pasic Square.\\xa0First bus at 10:00am and last one at 20:00pm. Overnight in Belgrade.\\n \\n Checkout\\n Breakfast\\n Day 10\\n BELGRADE - INDIA\\n Breakfast at the hotel and then private transfer to the airport for your international flight to India.\\n 1\\n of\\n \\n Inclusions:\\n \\n Hotel\\n \\n Meals\\n \\n Activity\\n View Details\\n \\n Hotel\\n \\n Meals\\n \\n Activity\\n \\n Hotels Available\\n Bucharest :\\n \\n NH Bucharest Hotel\\n Sofia :\\n \\n Ramada Sofia Hotel\\n Know More\\n Athens :\\n \\n President Hotel Athe...\\n View less\\n Call us toll free :\\n 1800-103-8800\\n Vietnam Tourism, Tourist Places Vietnam, Vietnam Tourism Packages\\n Vietnam Tourism Packages\\n A destination with vast history and diversified culture, long coastlines, scenic vistas, mountainous region, and lush forests, Vietnam is located in Southeast Asia.\\n Vietnam, a country in Southeast Asia, is a country filled with scenic natural beauty and serene village like life. The finest beaches and islands, exotic wildlife, and cuisine, absolutely the delicious one, all team up to make the destination truly captivating one. Hence, the gracious and graceful Vietnam tourism is quite a hit amongst travellers across the globe.\\n Geography of Vietnam\\n The nation Vietnam is like a shape of S, and has a total surface area of 128,000 square miles. It shares its borders with South China Sea to the east, Cambodia and Laos to the west and China to the north.\\n Food & Drink in Vietnam\\n The food in Vietnam varies slightly from region to region, each region with its own speciality. Northern Vietnamese cuisine is bland while southern Vietnamese cuisine is spicier.The cuisine of Vietnam mostly has less oil and many vegetables. The main dishes usually are based on rice and soy sauce. Some of the common flavours are sugar, lime, nuoc mam (fish sauce) and Serrano peppers, mint and basil.\\n Vietnam Tourism\\n - Vietnam Tourism Guide, Vietnam Tourism Packages.\\n Weather of Vietnam\\n Vietnam falls in both tropical and temperate zone. Characterized by strong monsoon influences, it gets considerable amount of sun, high amount of rainfall and humidity. Best time to visit Vietnam would be in the months of April, May or October.\\n Language & Communication\\n The official language of Vietnam is Vietnamese, however, majority of the population also speak MonKhmer language.\\n Religion\\n The main religions followed by people of Vietnam are Buddhism, Christianity, Islam, Hao Hao sect and Caodaism.\\n Currency in Vietnam\\n Dong (VND) is the currency of Vietnam.\\n Where to Go in Vietnam\\n Some of the popular tourist sites in Vietnam are aigon (Ho Chi Minh City), Mekong River Delta, Phan Thiet, Cao Dai Great Temple\\xa0, DaLat, Le Petit Par, Pleiku and Kontum, Buon Ma Thuot, Hue, Da Nang, Hoi An, Hanoi, and many others.\\n What to Do in Vietnam\\n Expect a truly new travel experience when in Vietnam. Expect a perfect landscape of rice paddies and wide tree-lined streets, all jammed up. Get ready to smile a lot, people are adorable here! Expect curious to get you in unexpected conversations and even invitations for a cup of a tea. Get ready to find amazing bargains! Get ready to taste a new and unique cuisine. Expect the heat and noise. Get ready to learn about hundred years old daily rituals and traditions. Expect grace and beauty as watch the women dressed in their local attire.\\n Vietnam tourism\\n has infinite unique things to be unfolded and experienced.\\n Vietnam Tourism\\n - Book Vietnam Tourism Packages with wide range of Vietnam tourism Events & activities. Customized\\n Vietnam Tourism Packages\\n , Tour in Vietnam at MakeMyTrip.comVietnam Tourism - Information about tourist places in Vietnam, events & activities, map, attractions in Vietnam. Book Vietnam tourism packages at MakeMyTrip.com\\n Contact Us:\\n Live Chat\\n Send Query\\n Top Domestic Airlines\\n IndiGo Airlines\\n Air India\\n GoAir\\n Indian Airlines\\n Near By Vietnam Locations\\n Ho Chi Minh City Vacation Packages\\n Phnom Penh Vacation Packages\\n Siem Reap Vacation Packages\\n Vietnam Map\\n {\"hanoi\":{\"lat\":\"21.0278\",\"long\":\"105.834\"},\"Ho Chi Minh City\":{\"lat\":\"10.75\",\"long\":\"106.667\"},\"athens\":{\"lat\":\"37.9839\",\"long\":\"23.7294\"},\"sofia\":{\"lat\":\"42.6977\",\"long\":\"23.3219\"},\"bucharest\":{\"lat\":\"44.4268\",\"long\":\"26.1025\"},\"Belgorod\":{\"lat\":\"50.5997\",\"long\":\"36.5983\"}}\\n Recommended Holiday Packages\\n Asian Extravaganza (Land ..\\n 7 D/6 N\\n View Details\\n Bangkok Pattaya - Fully L..\\n 6 D/5 N\\n View Details\\n European Bonanza 2018 (Gr..\\n 14 D/13 N\\n View Details\\n Taj Vivanta Maldives Land..\\n 4 D/3 N\\n View Details\\n Eastern Capitals by Coach..\\n 5 D/4 N\\n View Details\\n Dubai Hot Deal - 4 Nights..\\n 5 D/4 N\\n View Details\\n International Popular Themes at MakeMyTrip :\\n Family Packages\\n Less\\n \\n \\n \\n About MakeMyTrip\\n Products\\n Top Tourist Destinations\\n Theme Packages\\n Top Packages\\n \\n About Us\\n \\n Investor Relations\\n \\n Careers\\n \\n Sitemap\\n \\n Contact Us\\n \\n Privacy Policy\\n \\n User Agreement\\n \\n Branch Offices\\n \\n Visa Information\\n \\n Payment Security\\n \\n FAQs\\n \\n Flights\\n \\n International Flights\\n Hotels\\n \\n International Hotels\\n \\n Holidays in India\\n \\n International Holidays\\n \\n Mobile Apps\\n \\n B2B\\n \\n Switzerland\\nTourism\\n \\n Bali Tourism\\n \\n Malaysia Tourism\\n \\n Egypt Tourism\\n \\n Thailand Tourism\\n \\n Dubai Tourism\\n \\n Sri lanka Tourism\\n \\n Europe Packages\\n \\n Australia Tour\\nPackages\\n \\n South Africa Tour\\nPackages\\n \\n Indonesia Tour\\nPackages\\n \\n New Zealand Tour\\nPackages\\n \\n Egypt Tour\\nPackages\\n \\n International Honeymoon Packages\\n \\n Sri Lanka Beach Packages\\n \\n Mauritius Honeymoon Packages\\n \\n Maldives Honeymoon Packages\\n \\n Sri lanka Honeymoon\\nPackages\\n \\n Europe Honeymoon Packages\\n \\n Bali Honeymoon Packages\\n \\n New Zealand Honeymoon Packages\\n \\n Dubai Honeymoon Packages\\n \\n Disneyland Family Packages\\n \\n Pattaya\\xa0Family Packages\\n \\n Phuket Honeymoon Packages\\n \\n Paris Tour Packages\\n \\n Canada Tour Packages\\n \\n New york Tour Packages\\n \\n USA Tour Packages\\n \\n Hong kong Tour Packages\\n \\n Philippines Tour Packages\\n \\n Greece Packages\\n \\n Bangkok Packages\\n \\n Russia Tour Packages\\n \\n China Tour Packagess\\n \\n Singapore Tour Packages\\n \\n Switzerland\\nTour Packages\\n \\n France Tour\\nPackages\\n \\n Dubai\\nHolidays\\n \\n Sri lanka\\nTour\\n \\n Seychelles\\nPackages\\n \\n Thailand\\nPackages\\n \\n Maldives\\nPackages\\n \\n las vegas\\nPackages\\n \\n \\n Verisign Secure\\n \\n We Accept\\n (more)\\n \\n \\n \\n \\n Members of\\n \\n \\n Ministry of Tourism\\n Govt. of India\\n \\n \\n \\n © 2018\\xa0MakeMyTrip.com. All Rights Reserved.\\n \\n &amp;amp;amp;amp;amp;amp;amp;amp;amp;amp;amp;amp;amp;amp;nbsp;\\n \\n \\n ',\n",
       " '\\n \\n \\n \\n \\n \\n \\n \\n \\n \\n ☰\\n \\n \\n ×\\n \\n \\n \\n \\n \\n \\n \\n \\n \\n \\n \\n \\n \\n \\n \\n Destinations\\n \\n \\n \\n \\n \\n View Weekend Getaways\\n \\n \\n \\n \\n Places Near Delhi\\n \\n Places Near Mumbai\\n \\n Places Near Bangalore\\n \\n Places Near Kolkata\\n \\n Places Near Chennai\\n \\n Places Near Hyderabad\\n \\n Places Near Ahmedabad\\n \\n Places Near Pune\\n \\n \\n Destination By Category\\n \\n \\n \\n Beaches\\n \\n Hill Stations\\n \\n National Parks\\n \\n Road Trips\\n \\n Honeymoon\\n \\n Heritage\\n \\n \\n Destinations By Region\\n \\n \\n \\n All India\\n \\n Goa\\n \\n Kerala\\n \\n Rajasthan\\n \\n Jammu and Kashmir\\n \\n Himachal Pradesh\\n \\n Uttarakhand\\n \\n Meghalaya\\n \\n \\n \\n \\n \\n \\n \\n View All Collections\\n \\n \\n \\n \\n \\n View all Blogs\\n \\n \\n \\n \\n Packages\\n \\n \\n \\n \\n Hotels\\n \\n \\n \\n \\n Login\\n \\n \\n \\n \\n \\n Download FREE Holidify app\\n \\n \\n \\n \\n \\n \\n \\n \\n \\n \\n \\n \\n \\n \\n \\n \\n \\n © Holidify Pvt Ltd.- All Right Reserved\\n \\n \\n \\n \\n \\n \\n \\n \\n \\n \\n \\n \\n \\n \\n \\n \\n \\n \\n \\n \\n \\n \\n Close\\n \\n \\n \\n \\n Weekend\\n \\n \\n \\n \\n Weekend Getaways\\n \\n \\n Places Near Delhi\\n \\n Places Near Mumbai\\n \\n Places Near Bangalore\\n \\n Places Near Kolkata\\n \\n Places Near Chennai\\n \\n Places Near Hyderabad\\n \\n Places Near Ahmedabad\\n \\n Places Near Pune\\n \\n \\n \\n Explore\\n \\n Collections\\n \\n Blog\\n \\n \\n \\n \\n \\n \\n Destinations\\n \\n \\n \\n \\n By Region\\n \\n \\n Goa\\n \\n Kerala\\n \\n Karnataka\\n \\n Rajasthan\\n \\n Maharashtra\\n \\n Himachal Pradesh\\n \\n West Bengal\\n \\n Madhya Pradesh\\n \\n Assam\\n \\n Jammu and Kashmir\\n \\n Gujarat\\n \\n \\n \\n \\n By Category\\n \\n \\n Beaches\\n \\n Hill Stations\\n \\n National Parks\\n \\n Trekking\\n \\n Road Trips\\n \\n Honeymoon\\n \\n Heritage\\n \\n Deserts\\n \\n Rivers & Lakes\\n \\n \\n \\n \\n International\\n \\n \\n Indonesia\\n \\n UAE\\n \\n Oman\\n \\n Singapore\\n \\n Thailand\\n \\n Vietnam\\n \\n \\n \\n \\n \\n \\n \\n \\n \\n \\n \\n \\n \\n \\n Packages\\n \\n Login\\n \\n \\n \\n \\n \\n \\n \\n \\n \\n \\n \\n \\n \\n \\n \\n \\n \\n \\n \\n \\n \\n \\n \\n \\n \\n \\n \\n \\n \\n \\n \\n \\n \\n \\n \\n \\n \\n \\n \\n \\n \\n \\n \\n \\n \\n \\n \\n \\n \\n \\n \\n Home\\n \\n Vietnam Tourism\\n \\n \\n \\n \\n Vietnam\\n \\n Get Customized Package\\n \\n \\n \\n \\n \\n \\n \\n \\n \\n Overview\\n \\n Places To Visit\\n \\n Photos\\n \\n Best Time\\n \\n Packages\\n \\n Visa Policy\\n \\n \\n More\\n \\n \\n How to Reach\\n \\n Getting Around\\n \\n \\n \\n How to Reach\\n \\n Getting Around\\n \\n \\n \\n \\n \\n \\n \"The Country of Natural Beauty and Scenic Vistas\"\\n \\n \\n \\n Vietnam Tourism\\n \\n Vietnam, a country nestled in the southern part of Eastern Asia is known for its peaceful and serene environ. Once haunted by the bloodshed and strife of Vietnam War, today, the streets of the country are buzzing with youthful energy, mopeds zooming through the roads, floating markets and paddy fields adding to its overall charms. Oozing overwhelming natural beauty and rich heritage, the country takes you on a journey of ancient architecture and its vibrant culture.\\n \\n \\n \\n \\n \\n \\n \\n Tourist Places In Vietnam\\n \\n \\n \\n \\n \\n Da Nang\\n \\n \\n \\n \\n Ninh Binh\\n \\n \\n \\n \\n Da Lat\\n \\n \\n \\n \\n \\n Dien Bien Phu\\n \\n \\n \\n \\n Mui Ne\\n \\n \\n \\n \\n Hanoi\\n \\n \\n \\n \\n All Tourist Places In Vietnam\\n \\n \\n \\n \\n \\n \\n \\n \\n \\n Photos of Vietnam\\n \\n \\n \\n \\n \\n \\n \\n \\n \\n \\n \\n \\n \\n \\n \\n \\n \\n \\n \\n \\n \\n \\n \\n \\n \\n \\n \\n \\n \\n \\n \\n \\n \\n \\n \\n \\n + 12 \\n\\t\\t\\t\\t\\t                    photos\\n \\n \\n \\n \\n \\n \\n View All Photos\\n \\n \\n \\n \\n \\n \\n What\\'s Great?\\n \\n Breathtaking natural beauty. Intoxicating energy. Ancient architecture and rich culture. Beautiful Beaches. Delicious food.\\n \\n \\n \\n \\n What\\'s not so Great?\\n \\n Shopkeepers tend to overcharge foreigners. People may trick traveller for price value of Ô15Õ and Ô50Õ thousand Dong. Traffic accidents, especially riding a motorbike.\\n \\n \\n \\n \\n \\n \\n For Whom\\n \\n Nature lovers. History enthusiasts. Architecture buffs. People who enjoy the beaches. Those who are crazy for crafts.\\n \\n \\n \\n Regions in Vietnam\\n \\n Vietnam is a thin and long country spread along the eastern coast of the Indonesian Peninsula for 1600 km. The place is mainly agriculture based with beautiful Red River dominating the Northern part of the country bisecting the city of Hanoi along with Chay and Lo Rivers. The country is adorned with green hilly areas and beautiful Sapa Valley in north while on the east of Hanoi lays Halong Bay sporting more than 3000 gorgeous natural formation of limestone islands projecting out of the South China Sea. The south part of Vietnam features Mekong River along with fertile plain that grows rice, rubber, coffee and tea.\\n \\n \\n \\n Stay options in Vietnam\\n \\n \\n \\n \\n \\n \\n \\n \\n \\n \\n Find Cheap Hotels\\n \\n \\n Hotels in Vietnam are mostly scattered all over the country, however, one will find the several good standard hotels and international chains concentrated around the major cities of Hanoi and Ho Chi Minh offering facilities such as room service, air conditioning, swimming pool, health club and good restaurants. \\rOne will also find many small budget hotels/guest houses or as they are called mini-hotels all across the country. They are usually without air-conditioning and quite often without hot water and with shared bathrooms. \\rFor those who want a taste of true Vietnamese culture and traditional hospitality can opt for homestays, which are increasingly becoming popular among visitors. There are options of staying at the stilt house in northeast with hill tribe family or with farming family in the Mekong Delta.\\n \\n \\n \\n \\n \\n Food in Vietnam\\n \\n Vietnamese food is has its own distinct flavour from as you travel from one region to another. Where the South Vietnamese food is spicy, the North Vietnamese food is blander. However, overall the cuisine involves less oil and more of fresh vegetables. The food is always flavourful with main dished usually based on rice, noodles and soy sauce. There is also a good amount of seafood and meat involved including plenty of fish and shrimps. \\rTo add to the flavour the list of spices and condiments is endless; limes, sugar, tamarind, lemon grass, ginger, fish sauce(nuoc mam), basil, mint, Serrano peppers, coriander, dill, lemon grass are just few of them. One will also find variety of exotic fruits to choose from such as mangosteen, green dragon fruit, pomelo and three-seed cherry. Coffee is a must try with its distinct Vietnamese twist. In general, Vietnamese cuisine is regarded as healthy.\\n \\n \\n \\n Tips for visiting Vietnam\\n \\n 1. Make sure to brush up your haggling skills, as you will be overcharged for purchases almost everywhere. Price may come down more than 50 per cent.\\r2. Be careful with your purse and wallets when entering a busy and crowded area such as market place or tourist attraction. \\r3. As a lone female traveller, avoid walking along at night or taking solo motorbike taxi ride. \\r4. Get ready for heavy traffic jams almost all the time, which gets a little horrid during peak hours. \\r5. If you hired a two-wheeler, be prepared to face the rule-breakers who like to ride in any direction they want. \\r6. Avoid taking any tour packages for they may cost low but will scam you in spending unnecessary money. \\r7. Dress a little conservatively especially while going to temple. Make sure to cover you arms, legs and shoulders. \\r8. Carry your sunglasses, sunscreen, flip-flops and light summer clothes during summer season, as it gets extremely hot during the season.\\r9. Resist any kind of argument and violence while you are there as it is frowned upon.\\n \\n \\n \\n Currency of Vietnam\\n \\n Vietnamese Dong  (VND)\\n \\n \\n Currency in Vietnam can be exchanged at banks, hotels and authorized bureaux de change. However, the banks offer the best rates. The Vietcombank (a government bank), Incombank, Eximbank (a private enterprise) and Saigonbank are some of the main banks that are allowed to handle foreign currency transaction by the government. One will find these centres as well as ATMs only at the major cities or near popular tourist places. It is best to carry cash in case you are planning g visit small towns or villages. The most favoured foreign currency is US Dollar followed by Australian, British, Japanese, Singaporean and Thai currency. A commission is charged for changing money in banks. Avoid any kind of black market currency exchanges.\\n \\n \\n \\n Nightlife in Vietnam\\n \\n The nightlife in Vietnam is mainly restricted to major cities such as Hanoi and Ho Chi Minh City. HanoiÕs nightlife is comparatively quieter and completely slows down after 10:00 pm whereas Ho Chi Minh City is clustered with bars, clubs, pubs and some very high-end venues most of them concentrated around District 1. In Hanoi, one will find nightlife in the Old Quarter and Hoan Kiem Lake.\\rIn small cities, one can enjoy the afterhours at either small bars, hotels or some good caf?, especially in central Vietnam. Live music is usually from Philippines and Thailand performing at international hotels.\\n \\n \\n \\n Shopping in Vietnam\\n \\n Vietnam offers a great shopping experience for its visitors. With its rich culture of art and craft, the country is known for its impressive markets especially in larger metropolises like Ho Chi Minh City and Hanoi. Textiles, tapestries, jewellery, metalwork, lacquerware and ceramics are some of the main items to look out for. There are also some regional specials such as woodcarvings, tapestries, the ceramics, the jewellery and metalware. Bargaining in the country is widely accepted and is quite a norm; however, make sure to be polite. There are several souvenir shops to be found in major towns and cities with either fixed price or giving very\\xa0less discounts.\\n Read more about Shopping in Vietnam\\n \\n \\n \\n Festivals of Vietnam\\n \\n Vietnam is country of many festivals, which gives its visitors a chance to take a glance into its vibrant culture. There is plethora of Vietnamese festivals throughout the year according to its Vietnamese Lunar Calendar. Tet Festival is one of the most popular festivals of the country celebrated with great zest throughout the country. The Lim festival, National Day and Tet Trung Thu or Mid-autumn Festival are the other major festivals of Vietnam. The perfume Pagoda Festival, Cau Ngu festival, Nui Ba Festival, The Mam Ngu Qua and Do Son Buffalo Fighting Festival are among other important festivals of the country.\\n Read more about\\n Festivals in Vietnam\\n \\n \\n \\n History of Vietnam\\n \\n Vietnam is entrenched with a fascinating history with its earliest dynasty recorded to be the Hung kings, which was said to be ruling the area during Bronze Age. The seat of power was then passed on to the Indian kingdom of Funan closely followed by the Hindu kingdom of Champa. Soon after, the Chinese Han Empire annexed the country during the first millennium B.C. and was expelled from the country in 939 A.D after Vietnamese had a major victory over them the Bach Dang River. Later being ruled by a succession of kings and invasion by French and Spanish forces, the country went through a rebellion under the leadership of Ho Chih Minh, who declared its independence in 1945.\\n Read more about\\n History of Vietnam\\n \\n \\n \\n Hygiene in Vietnam\\n \\n Cleanliness and hygiene is usually maintained throughout Vietnam. However, it is recommended to boil water first before drinking or brushing teeth. Bottled water is easily available and quite cheep, but make sure that seal is unbroken. Also, prefer to eat well-cooked meat, fish, vegetables and peeled fruits. \\rMedical and health facilities in Hanoi and Ho Chi Minh City are excellent and one can find health care centre in all provinces. However, facilities are limited and so is the supply of medicines. One must take vaccination against Diphtheria, Hepatitis A and Typhoid. Vaccination against tuberculosis and hepatitis B are also advised. Carry first aid box and mosquito repellent as Dengue fever continues to be a problem.\\n \\n \\n \\n Customs of Vietnam\\n \\n Vietnam is a place of cultures and traditions and thus it is important even for tourists to take care of them. There are no handshakes or any physical contact between opposite genders in the city while greeting each other, only a slight bow indicated the greeting. Pointing towards anyone with a foot is considered disrespectful, as foot is believed to be lowly and dirty. Head is considered spiritually significant and thus it is inappropriate to touch that part of the body.\\rAlso, do not leave your chopsticks in the dish when you are done with your meal, it considered insulting. Although slurping loud while eating rice or noodles is sign that you enjoyed your food and it pleases the chef. \\rMake sure to dress properly while visiting a temple, cover your arms, legs and shoulders and remove footwear before entering a temple and any house. The dressing style in Hanoi and Vietnam is quite liberal. Another advice is to keep ones temper in check as displaying anger is regarded as rude. Tipping is usually practiced at big restaurants and hotels but is not mandatory.\\n \\n \\n \\n \\n \\n \\n \\n \\n \\n \\n \\n \\n \\n \\n About Vietnam Tourism\\n \\n \\n \\n \\n \\n \\n \\n \\n Continent:\\n Asia\\n \\n \\n \\n \\n \\n \\n \\n Region:\\n South East Asia\\n \\n \\n \\n \\n \\n \\n \\n Ideal Duration:\\n 10 - 12 days\\n \\n \\n \\n \\n \\n \\n \\n Best time:\\n Throughout the year\\n (Read More)\\n \\n \\n \\n \\n \\n \\n \\n \\n Currency:\\n Vietnamese Dong (VND)\\n \\n \\n \\n \\n \\n \\n \\n Budget:\\n Very Cheap\\n \\n \\n Get Customized Package\\n \\n Get Customized Package\\n \\n \\n \\n \\n \\n \\n \\n \\n \\n \\n \\n Nearby Countries\\n \\n \\n \\n \\n \\n \\n \\n \\n Places To Visit\\n \\n \\n \\n \\n \\n \\n \\n Thailand\\n \\n \\n Places To Visit\\n \\n \\n \\n \\n \\n \\n \\n Laos\\n \\n \\n Places To Visit\\n \\n \\n \\n \\n \\n \\n \\n Hong Kong\\n \\n \\n Places To Visit\\n \\n \\n \\n \\n \\n \\n \\n Malaysia\\n \\n \\n Places To Visit\\n \\n \\n \\n \\n \\n \\n \\n Philippines\\n \\n \\n Places To Visit\\n \\n \\n \\n \\n \\n \\n \\n \\n \\n Plan Your Trip\\n \\n \\n \\n \\n \\n \\n \\n \\n \\n \\n \\n \\n \\n \\n \\n India\\n \\n USA\\n \\n Bangladesh\\n \\n United Arab Emirates\\n \\n England (United Kingdom)\\n \\n Saudi Arabia\\n \\n Qatar\\n \\n Singapore\\n \\n Canada\\n \\n Kuwait\\n \\n Thailand\\n \\n Australia\\n \\n Malaysia\\n \\n Nepal\\n \\n Netherlands\\n \\n Oman\\n \\n Germany\\n \\n France\\n \\n Israel\\n \\n Romania\\n \\n Russia\\n \\n Afghanistan\\n \\n Albania\\n \\n Algeria\\n \\n American Samoa\\n \\n Andorra\\n \\n Angola\\n \\n Anguilla\\n \\n Antarctica\\n \\n Antigua & Barbuda\\n \\n Argentina\\n \\n Armenia\\n \\n Aruba, Bonaire & Curacao\\n \\n Austria\\n \\n Azerbaijan\\n \\n Bahrain\\n \\n Barbados\\n \\n Belarus\\n \\n Belgium\\n \\n Belize\\n \\n Benin\\n \\n Bermuda\\n \\n Bhutan\\n \\n Bolivia\\n \\n Bosnia & Hercegovina\\n \\n Botswana\\n \\n Brazil\\n \\n British Virgin Islands\\n \\n Brunei Darussalam\\n \\n Bulgaria\\n \\n Burkina Faso\\n \\n Burundi\\n \\n Cambodia\\n \\n Cameroon\\n \\n Canary Islands\\n \\n Cape Verde\\n \\n Cayman Islands\\n \\n Central African Republic\\n \\n Chad\\n \\n Chile\\n \\n China\\n \\n Colombia\\n \\n Comoros\\n \\n Congo\\n \\n Costa Rica\\n \\n Ivory Coast (Cote d\\'Ivoire)\\n \\n Croatia\\n \\n Cuba\\n \\n Cyprus\\n \\n Czech Republic\\n \\n Democratic Republic of Congo\\n \\n Denmark\\n \\n Djibouti\\n \\n Dominica\\n \\n Dominican Republic\\n \\n East Timor\\n \\n Ecuador\\n \\n Egypt\\n \\n El Salvador\\n \\n Equatorial Guinea\\n \\n Eritrea\\n \\n Estonia\\n \\n Ethiopia\\n \\n Faroe Islands\\n \\n Federated States of Micronesia\\n \\n Fiji\\n \\n Finland\\n \\n Gabon\\n \\n Georgia\\n \\n Ghana\\n \\n Greece\\n \\n Greenland\\n \\n Grenada\\n \\n Guadeloupe\\n \\n Guam\\n \\n Guatemala\\n \\n Guinea\\n \\n Guinea-Bissau\\n \\n Haiti\\n \\n Honduras\\n \\n Hungary\\n \\n Iceland\\n \\n Indonesia\\n \\n Iran\\n \\n Iraq\\n \\n Ireland\\n \\n Italy\\n \\n Jamaica\\n \\n Japan\\n \\n Jordan\\n \\n Kazakhstan\\n \\n Kenya\\n \\n Kiribati\\n \\n Kyrgyzstan\\n \\n Laos\\n \\n Latvia\\n \\n Lebanon\\n \\n Lesotho\\n \\n Liberia\\n \\n Libya\\n \\n Lithuania\\n \\n Luxembourg\\n \\n Macedonia\\n \\n Madagascar\\n \\n Malawi\\n \\n Maldives\\n \\n Mali\\n \\n Malta\\n \\n Marshall Islands\\n \\n Martinique\\n \\n Mauritania\\n \\n Mauritius\\n \\n Mexico\\n \\n Moldova\\n \\n Mongolia\\n \\n Montenegro\\n \\n Montserrat\\n \\n Morocco\\n \\n Mozambique\\n \\n Myanmar/Burma\\n \\n Namibia\\n \\n Nauru\\n \\n New Caledonia\\n \\n New Zealand\\n \\n Nicaragua\\n \\n Niger\\n \\n Nigeria\\n \\n Niue\\n \\n North Korea\\n \\n Northern Mariana Islands\\n \\n Norway\\n \\n Pakistan\\n \\n Palau\\n \\n Panama\\n \\n Papua New Guinea\\n \\n Paraguay\\n \\n Peru\\n \\n Philippines\\n \\n Pitcairn Island\\n \\n Poland\\n \\n Portugal\\n \\n Puerto Rico\\n \\n Cook Islands\\n \\n Reunion\\n \\n Rwanda\\n \\n Saba\\n \\n Samoa\\n \\n Sao Tome & Principe\\n \\n Scotland (United Kingdom)\\n \\n Senegal\\n \\n Serbia\\n \\n Seychelles\\n \\n Sierra Leone\\n \\n Sint Eustatius\\n \\n Slovakia\\n \\n Slovenia\\n \\n Solomon Islands\\n \\n Somaliland, Puntland & Somalia\\n \\n South Africa\\n \\n South Korea\\n \\n Spain\\n \\n Sri Lanka\\n \\n St Kitts & Nevis\\n \\n St Lucia\\n \\n St Vincent & the Grenadines\\n \\n St-Barthelemy\\n \\n St-Martin/Sint Maarten\\n \\n Sudan\\n \\n Swaziland\\n \\n Sweden\\n \\n Switzerland\\n \\n Syria\\n \\n Tahiti & French Polynesia\\n \\n Taiwan\\n \\n Tajikistan\\n \\n Tanzania\\n \\n Bahamas\\n \\n Channel Islands\\n \\n Gambia\\n \\n Guianas\\n \\n Togo\\n \\n Tokelau\\n \\n Tonga\\n \\n Trinidad & Tobago\\n \\n Tunisia\\n \\n Turkey\\n \\n Turkmenistan\\n \\n Turks & Caicos\\n \\n Tuvalu\\n \\n Uganda\\n \\n Ukraine\\n \\n Uruguay\\n \\n US Virgin Islands\\n \\n Uzbekistan\\n \\n Vanuatu\\n \\n Venezuela\\n \\n Vietnam\\n \\n Wales (United Kingdom)\\n \\n Wallis & Futuna\\n \\n Yemen\\n \\n Zambia\\n \\n Zimbabwe\\n \\n Liechtenstein\\n \\n Vatican City\\n \\n \\n \\n \\n \\n Get Free Quotes\\n \\n \\n \\n \\n \\n \\n \\n \\n \\n \\n \\n \\n \\n \\n \\n \\n \\n \\n \\n \\n \\n \\n \\n \\n \\n Home\\n \\n Vietnam\\n \\n Vietnam Tourism Overview\\n \\n \\n \\n \\n \\n \\n \\n \\n \\n \\n \\n \\n \\n \\n 3000+ Travel Agents Across The World\\n \\n \\n \\n \\n \\n \\n \\n \\n Get Amazing Deals On Packages\\n \\n \\n \\n \\n \\n \\n \\n \\n Get Plans From Destination Experts\\n \\n \\n \\n \\n Over 25 Million+ Happy Holidify Users\\n \\n \\n \\n \\n \\n \\n \\n ×\\n \\n \\n Get Customized Travel Packages\\n \\n Compare quotes from upto 3 travel agents for free\\n \\n \\n \\n \\n \\n \\n Name\\n \\n \\n \\n \\n \\n \\n \\n (+91)\\n \\n \\n \\n \\n \\n India (+91)\\n \\n \\n \\n USA (+1)\\n \\n \\n \\n Bangladesh (+880)\\n \\n \\n \\n United Arab Emirates (+971)\\n \\n \\n \\n England (United Kingdom) (+44)\\n \\n \\n \\n Saudi Arabia (+966)\\n \\n \\n \\n Qatar (+974)\\n \\n \\n \\n Singapore (+65)\\n \\n \\n \\n Canada (+1)\\n \\n \\n \\n Kuwait (+965)\\n \\n \\n \\n Thailand (+66)\\n \\n \\n \\n Australia (+61)\\n \\n \\n \\n Malaysia (+60)\\n \\n \\n \\n Nepal (+977)\\n \\n \\n \\n Netherlands (+31)\\n \\n \\n \\n Oman (+968)\\n \\n \\n \\n Germany (+49)\\n \\n \\n \\n France (+33)\\n \\n \\n \\n Israel (+972)\\n \\n \\n \\n Romania (+40)\\n \\n \\n \\n Russia (+7)\\n \\n \\n \\n Afghanistan (+93)\\n \\n \\n \\n Albania (+355)\\n \\n \\n \\n Algeria (+213)\\n \\n \\n \\n American Samoa (+1-684)\\n \\n \\n \\n Andorra (+376)\\n \\n \\n \\n Angola (+244)\\n \\n \\n \\n Anguilla (+1-264)\\n \\n \\n \\n Antarctica (+672)\\n \\n \\n \\n Antigua & Barbuda (+1-268)\\n \\n \\n \\n Argentina (+54)\\n \\n \\n \\n Armenia (+374)\\n \\n \\n \\n Austria (+43)\\n \\n \\n \\n Azerbaijan (+994)\\n \\n \\n \\n Bahrain (+973)\\n \\n \\n \\n Barbados (+1-246)\\n \\n \\n \\n Belarus (+375)\\n \\n \\n \\n Belgium (+32)\\n \\n \\n \\n Belize (+501)\\n \\n \\n \\n Benin (+229)\\n \\n \\n \\n Bermuda (+1-441)\\n \\n \\n \\n Bhutan (+975)\\n \\n \\n \\n Botswana (+267)\\n \\n \\n \\n Brazil (+55)\\n \\n \\n \\n Bulgaria (+359)\\n \\n \\n \\n Burkina Faso (+226)\\n \\n \\n \\n Burundi (+257)\\n \\n \\n \\n Cambodia (+855)\\n \\n \\n \\n Cameroon (+237)\\n \\n \\n \\n Cape Verde (+238)\\n \\n \\n \\n Cayman Islands (+1-345)\\n \\n \\n \\n Central African Republic (+236)\\n \\n \\n \\n Chad (+235)\\n \\n \\n \\n Chile (+56)\\n \\n \\n \\n China (+86)\\n \\n \\n \\n Colombia (+57)\\n \\n \\n \\n Comoros (+269)\\n \\n \\n \\n Costa Rica (+506)\\n \\n \\n \\n Croatia (+385)\\n \\n \\n \\n Cuba (+53)\\n \\n \\n \\n Cyprus (+357)\\n \\n \\n \\n Czech Republic (+420)\\n \\n \\n \\n Denmark (+45)\\n \\n \\n \\n Djibouti (+253)\\n \\n \\n \\n Dominica (+1-767)\\n \\n \\n \\n Dominican Republic (+1-809, 1-829, 1-849)\\n \\n \\n \\n Ecuador (+593)\\n \\n \\n \\n Egypt (+20)\\n \\n \\n \\n El Salvador (+503)\\n \\n \\n \\n Equatorial Guinea (+240)\\n \\n \\n \\n Eritrea (+291)\\n \\n \\n \\n Estonia (+372)\\n \\n \\n \\n Ethiopia (+251)\\n \\n \\n \\n Faroe Islands (+298)\\n \\n \\n \\n Fiji (+679)\\n \\n \\n \\n Finland (+358)\\n \\n \\n \\n Gabon (+241)\\n \\n \\n \\n Georgia (+995)\\n \\n \\n \\n Ghana (+233)\\n \\n \\n \\n Greece (+30)\\n \\n \\n \\n Greenland (+299)\\n \\n \\n \\n Grenada (+1-473)\\n \\n \\n \\n Guam (+1-671)\\n \\n \\n \\n Guatemala (+502)\\n \\n \\n \\n Guinea (+224)\\n \\n \\n \\n Guinea-Bissau (+245)\\n \\n \\n \\n Haiti (+509)\\n \\n \\n \\n Honduras (+504)\\n \\n \\n \\n Hungary (+36)\\n \\n \\n \\n Iceland (+354)\\n \\n \\n \\n Indonesia (+62)\\n \\n \\n \\n Iran (+98)\\n \\n \\n \\n Iraq (+964)\\n \\n \\n \\n Ireland (+353)\\n \\n \\n \\n Italy (+39)\\n \\n \\n \\n Jamaica (+1-876)\\n \\n \\n \\n Japan (+81)\\n \\n \\n \\n Jordan (+962)\\n \\n \\n \\n Kazakhstan (+7)\\n \\n \\n \\n Kenya (+254)\\n \\n \\n \\n Kiribati (+686)\\n \\n \\n \\n Kyrgyzstan (+996)\\n \\n \\n \\n Latvia (+371)\\n \\n \\n \\n Lebanon (+961)\\n \\n \\n \\n Lesotho (+266)\\n \\n \\n \\n Liberia (+231)\\n \\n \\n \\n Libya (+218)\\n \\n \\n \\n Lithuania (+370)\\n \\n \\n \\n Luxembourg (+352)\\n \\n \\n \\n Madagascar (+261)\\n \\n \\n \\n Malawi (+265)\\n \\n \\n \\n Maldives (+960)\\n \\n \\n \\n Mali (+223)\\n \\n \\n \\n Malta (+356)\\n \\n \\n \\n Marshall Islands (+692)\\n \\n \\n \\n Mauritania (+222)\\n \\n \\n \\n Mauritius (+230)\\n \\n \\n \\n Mexico (+52)\\n \\n \\n \\n Mongolia (+976)\\n \\n \\n \\n Montenegro (+382)\\n \\n \\n \\n Montserrat (+1-664)\\n \\n \\n \\n Morocco (+212)\\n \\n \\n \\n Mozambique (+258)\\n \\n \\n \\n Namibia (+264)\\n \\n \\n \\n Nauru (+674)\\n \\n \\n \\n New Caledonia (+687)\\n \\n \\n \\n New Zealand (+64)\\n \\n \\n \\n Nicaragua (+505)\\n \\n \\n \\n Niger (+227)\\n \\n \\n \\n Nigeria (+234)\\n \\n \\n \\n Niue (+683)\\n \\n \\n \\n Northern Mariana Islands (+1-670)\\n \\n \\n \\n Norway (+47)\\n \\n \\n \\n Pakistan (+92)\\n \\n \\n \\n Palau (+680)\\n \\n \\n \\n Panama (+507)\\n \\n \\n \\n Papua New Guinea (+675)\\n \\n \\n \\n Paraguay (+595)\\n \\n \\n \\n Peru (+51)\\n \\n \\n \\n Philippines (+63)\\n \\n \\n \\n Poland (+48)\\n \\n \\n \\n Portugal (+351)\\n \\n \\n \\n Puerto Rico (+1-787, 1-939)\\n \\n \\n \\n Cook Islands (+682)\\n \\n \\n \\n Rwanda (+250)\\n \\n \\n \\n Samoa (+685)\\n \\n \\n \\n Sao Tome & Principe (+239)\\n \\n \\n \\n Senegal (+221)\\n \\n \\n \\n Serbia (+381)\\n \\n \\n \\n Seychelles (+248)\\n \\n \\n \\n Sierra Leone (+232)\\n \\n \\n \\n Slovakia (+421)\\n \\n \\n \\n Slovenia (+386)\\n \\n \\n \\n Solomon Islands (+677)\\n \\n \\n \\n South Africa (+27)\\n \\n \\n \\n South Korea (+82)\\n \\n \\n \\n Spain (+34)\\n \\n \\n \\n Sri Lanka (+94)\\n \\n \\n \\n Sudan (+249)\\n \\n \\n \\n Swaziland (+268)\\n \\n \\n \\n Sweden (+46)\\n \\n \\n \\n Switzerland (+41)\\n \\n \\n \\n Tajikistan (+992)\\n \\n \\n \\n Tanzania (+255)\\n \\n \\n \\n Bahamas (+1-242)\\n \\n \\n \\n Gambia (+220)\\n \\n \\n \\n Togo (+228)\\n \\n \\n \\n Tokelau (+690)\\n \\n \\n \\n Tonga (+676)\\n \\n \\n \\n Trinidad & Tobago (+1-868)\\n \\n \\n \\n Tunisia (+216)\\n \\n \\n \\n Turkey (+90)\\n \\n \\n \\n Turkmenistan (+993)\\n \\n \\n \\n Tuvalu (+688)\\n \\n \\n \\n Uganda (+256)\\n \\n \\n \\n Ukraine (+380)\\n \\n \\n \\n Uruguay (+598)\\n \\n \\n \\n Uzbekistan (+998)\\n \\n \\n \\n Vanuatu (+678)\\n \\n \\n \\n Venezuela (+58)\\n \\n \\n \\n Vietnam (+84)\\n \\n \\n \\n Wallis & Futuna (+681)\\n \\n \\n \\n Yemen (+967)\\n \\n \\n \\n Zambia (+260)\\n \\n \\n \\n Zimbabwe (+263)\\n \\n \\n \\n Liechtenstein (+423)\\n \\n \\n \\n \\n \\n Phone Number\\n \\n \\n \\n \\n \\n \\n Email ID\\n \\n \\n \\n \\n \\n Departure Date\\n \\n \\n \\n \\n \\n \\n Get FREE Quotes\\n \\n \\n \\n \\n We value your privacy. Your details are safe with us.\\n \\n \\n \\n \\n \\n \\n \\n \\n \\n \\n \\n \\n ×\\n \\n \\n Filter By\\n \\n Reset All\\n \\n \\n \\n Price per Night\\n \\n \\n \\n Upto ₹3,901\\n \\n ₹3,901 - ₹7,900\\n \\n ₹7,901 - ₹11,000\\n \\n ₹11,001 - ₹15,000\\n \\n ₹15,000+\\n \\n \\n \\n Hotel Star Rating\\n \\n \\n 5\\n \\n 4\\n \\n 3\\n \\n 2\\n \\n 1\\n \\n \\n Guest Rating\\n (out of 10)\\n \\n \\n 9+\\n Wonderful\\n \\n 7+\\n Excellent\\n \\n 4+\\n Good\\n \\n \\n \\n Apply Filter\\n \\n \\n \\n \\n \\n \\n \\n \\n \\n \\n \\n \\n \\n ×\\n \\n \\n Filter By\\n \\n Reset All\\n \\n \\n \\n Duration\\n \\n \\n \\n Upto 4 days\\n \\n 5-9 days\\n \\n 10-15 days\\n \\n 16-25 days\\n \\n Over 25 days\\n \\n \\n \\n Price Range\\n \\n \\n \\n Upto ₹10,000\\n \\n ₹10,001 - ₹20,000\\n \\n ₹20,001 - ₹50,000\\n \\n ₹50,000+\\n \\n \\n \\n \\n Apply Filter\\n \\n \\n \\n \\n \\n \\n \\n \\n \\n \\n \\n \\n \\n \\n ×\\n \\n \\n Sort By\\n \\n \\n \\n \\n Popularity\\n \\n Lowest Price First\\n \\n Highest Price First\\n \\n Review Score\\n \\n Distance from city centre\\n \\n \\n \\n \\n \\n \\n \\n \\n \\n \\n \\n \\n \\n ×\\n \\n \\n Sort By\\n \\n \\n \\n \\n Price (Low to High)\\n \\n Price (High to Low)\\n \\n Duration (Low to High)\\n \\n Duration (High to Low)\\n \\n \\n \\n \\n \\n \\n \\n \\n \\n \\n \\n \\n ×\\n \\n Login to Personalize\\n \\n \\n \\n Login for a personalized experience\\n \\n \\n Login with Facebook\\n \\n \\n \\n \\n Login with Google\\n \\n \\n We never post anything without your permission\\n \\n \\n \\n \\n \\n \\n \\n \\n \\n \\n Logged in succesfully, refreshing page...\\n \\n \\n \\n \\n \\n \\n \\n Advertisement\\n \\n \\n \\n \\n \\n \\n \\n \\n \\n \\n \\n FOLLOW US\\n \\n \\n \\n \\n \\n \\n \\n \\n \\n App download\\n \\n About Us\\n \\n \\n \\n \\n \\n \\n \\n \\n Privacy Policy\\n \\n Terms of Use\\n \\n \\n \\n \\n \\n © Holidify Pvt Ltd.- All\\n\\t\\t\\tRight Reserved\\n \\n \\n \\n \\n \\n \\n \\n See Hotels\\n \\n \\n \\n Book Package\\n \\n \\n \\n \\n \\n \\n \\n \\n \\n ×\\n \\n Share This\\n \\n \\n \\n \\n \\n SHARE\\n \\n \\n \\n \\n \\n TELL FRIENDS\\n \\n \\n \\n \\n \\n TWEET\\n \\n \\n \\n \\n \\n \\n \\n \\n \\n \\n \\n \\n \\n \\n \\n \\n \\n \\n \\n \\n \\n \\n \\n \\n ',\n",
       " \"\\n \\n \\n \\n \\n \\n \\n \\n \\n \\n Search Flights\\n X\\n \\n \\n \\n \\n \\n \\n \\n \\n \\n \\n \\n \\n \\n \\n \\n \\n \\n \\n \\n \\n \\n FLIGHT\\n \\n HOTEL\\n \\n FLIGHT+HOTEL\\n \\n HOMESTAYS\\n \\n HOLIDAYS\\n \\n ACTIVITIES\\n \\n BUS\\n \\n TRAIN\\n \\n EXPLORE\\n \\n \\n \\n \\n \\n \\n \\n \\n \\n \\n \\n \\n \\n \\n \\n \\n FLIGHT\\n \\n HOTEL\\n \\n FLIGHT+HOTEL\\n \\n HOMESTAYS\\n \\n HOLIDAYS\\n \\n ACTIVITIES\\n \\n BUS\\n \\n TRAIN\\n \\n EXPLORE\\n \\n \\n \\n \\n \\n \\n \\n \\n \\n \\n \\n \\n A Country Guide To\\n vietnam\\n \\n \\n \\n \\n \\n \\n \\n \\n \\n \\n \\n \\n \\n hanoi Holiday Packages\\n \\n \\n \\n \\n \\n \\n \\n \\n \\n \\n \\n 4 Nights, 5 Days\\n \\n \\n \\n RATE PER PERSON ON TWIN SHARING\\n \\n \\n \\n \\n \\n \\n paris Holiday Packages\\n \\n Starting from\\n Rs.\\n 1,04,990\\n \\n \\n \\n \\n \\n \\n \\n \\n \\n \\n 6 Nights, 7 Days\\n \\n \\n \\n RATE PER PERSON ON TWIN SHARING\\n \\n \\n \\n \\n \\n \\n amsterdam Holiday Packages\\n \\n Starting from\\n Rs.\\n 2,04,990\\n \\n \\n \\n \\n \\n \\n \\n \\n \\n \\n 15 Nights, 16 Days\\n \\n \\n \\n RATE PER PERSON ON TWIN SHARING\\n \\n \\n \\n \\n \\n \\n dubai Holiday Packages\\n \\n Starting from\\n Rs.\\n 34,990\\n \\n \\n \\n \\n \\n \\n \\n \\n \\n \\n 4 Nights, 5 Days\\n \\n \\n \\n RATE PER PERSON ON TWIN SHARING\\n \\n \\n \\n \\n \\n \\n \\n \\n \\n \\n \\n \\n \\n \\n \\n \\n \\n \\n About\\n vietnam\\n \\n Cities in\\n vietnam\\n \\n Travel Talk\\n \\n Plan Your Travel\\n \\n GET A CALLBACK\\n \\n \\n \\n \\n \\n Home\\n \\n international tourism\\n \\n asia\\n \\n vietnam\\n \\n \\n \\n \\n \\n \\n \\n \\n \\n Reset All\\n \\n \\n \\n About vietnam\\n \\n \\n Vietnam is a Republican country in Southeast Asia, bordered by China in the north, Laos to the northwest, and Cambodia to the southwest. It covers an area of about 329,560 sq km. A country of beautiful beaches and rivers, it provides an eclectic mix of fast paced city life, as well as scenic and serene beach and river getaways.\\n Hanoi -the capital city is known for its architecture, Sapa for mountainous landscapes and its variety of climatic conditions throughout the year. Another city famous for its architecture and history is Hoi An. Ho Chi Minh is a bustling economic city also boasting many museums, while Nha Trang is renowned for providing a luxurious beach resort feel to help you unwind and relax amongst some of the most picturesque beaches in the world. Amongst the various attractions, kayaking in Ha Long Bay, with its beautiful islands and caves is popular as a water sports destination.\\n If the common tourist attractions do not catch your fancy, head out to Vietnam's quiet and lesser frequented island of Phu Quoc, which is replete with an idyllic and isolated atmosphere.\\n The cuisine of Vietnam will tingle your senses, as much as it will flatter your taste buds, owing to the fragrance of fresh herbs, spices, and seafood that are used in the preparation. Vietnamese food is regarded as one of the healthiest cuisines worldwide. It comprises mainly of rice and fish. Meat dishes like bo kho, bo la lot and  pho and bun cha are some of the dishes you would want to try during your visit. Vietnamese culture and traditions are often spellbinding and are best experienced by engaging with the local community.\\n Preferred mode to explore the country could be hiking or biking from Ha Long Bay in the north, and going across to Hanoi, all the way down to Hao Chi Minh city in the south, crossing the cities of Hue and Ho An. This way, you would be able to enjoy the country in its entirety.\\n \\n \\n \\n \\n \\n vietnam Info\\n \\n \\n \\n Currency:\\n Vietnamese dong\\n \\n \\n Population:\\n 89.71 million\\n \\n \\n Time Zone:\\n GMT +07:00\\n \\n \\n Area:\\n 331210 km\\n 2\\n \\n \\n Capital:\\n Hanoi\\n \\n \\n Official Language:\\n Vietnamese\\n \\n \\n Capital's calling code:\\n +84-4\\n \\n \\n \\n \\n \\n \\n \\n \\n \\n Cities In vietnam\\n \\n \\n \\n \\n \\n \\n hanoi\\n \\n \\n \\n \\n \\n \\n \\n \\n \\n \\n Travel Talk\\n \\n Sharing travel experiences - one story at a time\\n \\n \\n \\n \\n \\n \\n \\n \\n \\n \\n \\n \\n \\n 5 Hidden Gems Of Southeast Asia To Explore On Your Next Sojourn\\n \\n \\n Visit these offbeat places in Southeast Asia before they turn into a tourist destination\\n \\n \\n \\n \\n Pallak Bhatnagar\\n \\n yatra expert\\n \\n \\n \\n \\n \\n 06 Feb 2018 \\n\\t\\t\\t\\t\\t\\t\\t\\t\\t\\t\\t\\t\\t\\t\\t\\xa0|\\xa02-minute read\\n \\n 1 Shares\\n \\n \\n \\n \\n \\n \\n \\n \\n \\n \\n \\n 6 Destinations To Ring In The New Year With Your Family\\n \\n \\n Head to one of these amazing destinations for an awesome new year vacation with your family!\\n \\n \\n \\n \\n Anwesha Mittra\\n \\n yatra expert\\n \\n \\n \\n \\n \\n 30 Nov 2017 \\n\\t\\t\\t\\t\\t\\t\\t\\t\\t\\t\\t\\t\\t\\t\\t\\xa0|\\xa03-minute read\\n \\n 2 Shares\\n \\n \\n \\n \\n \\n \\n \\n \\n \\n \\n \\n Ho Chi Minh: A Swanky 21st Century City Deeply Rooted In Tradition\\n \\n \\n Here are the 5 ways to unraveling the exotic city of Ho Chi Minh!\\n \\n \\n \\n \\n Anwesha Mittra\\n \\n yatra expert\\n \\n \\n \\n \\n \\n 07 Feb 2017 \\n\\t\\t\\t\\t\\t\\t\\t\\t\\t\\t\\t\\t\\t\\t\\t\\xa0|\\xa02-minute read\\n \\n 1 Shares\\n \\n \\n \\n \\n \\n \\n \\n \\n \\n \\n \\n \\n \\n \\n \\n Read all stories\\n \\n \\n \\n \\n \\n \\n Plan your next travel\\n \\n \\n \\n Holiday Packages In vietnam\\n \\n \\n \\n \\n \\n \\n \\n \\n \\n Indulgence of Vietnam & Cambodia\\n \\n 6 Nights, 7 Days\\n \\n \\n \\n \\n Starting From\\n \\n \\n Rs.\\n 52,990\\n \\n \\n \\n View Details\\n \\n \\n Per Person on twin sharing\\n \\n \\n \\n \\n \\n \\n \\n \\n \\n \\n Venetian Delight\\n \\n 3 Nights, 4 Days\\n \\n \\n \\n \\n Starting From\\n \\n \\n Rs.\\n 68,990\\n \\n \\n \\n View Details\\n \\n \\n Per Person on twin sharing\\n \\n \\n \\n \\n \\n \\n \\n \\n \\n \\n Jewels of Vietnam\\n \\n 4 Nights, 5 Days\\n \\n \\n \\n \\n \\n \\n View Details\\n \\n \\n Per Person on twin sharing\\n \\n \\n \\n \\n \\n \\n View all packages\\n \\n \\n \\n Holiday Themes In vietnam\\n \\n \\n \\n \\n \\n \\n \\n \\n \\n Family Holidays\\n \\n 6 Nights, 7 Days\\n \\n \\n \\n \\n Starting From\\n \\n \\n Rs.\\n 52,990\\n \\n \\n \\n View Details\\n \\n \\n Per Person on twin sharing\\n \\n \\n \\n \\n \\n \\n \\n \\n \\n \\n Beach Holidays\\n \\n 4 Nights, 5 Days\\n \\n \\n \\n \\n \\n \\n View Details\\n \\n \\n Per Person on twin sharing\\n \\n \\n \\n \\n \\n \\n \\n \\n \\n \\n Honeymoon Holidays\\n \\n 9 Nights, 10 Days\\n \\n \\n \\n \\n \\n \\n View Details\\n \\n \\n Per Person on twin sharing\\n \\n \\n \\n \\n \\n \\n View all themes\\n \\n \\n \\n Popular International Destinations\\n \\n \\n \\n \\n \\n \\n \\n \\n \\n dubai\\n \\n 4 Nights, 5 Days\\n \\n \\n \\n \\n Starting From\\n \\n \\n Rs.\\n 9,900\\n \\n \\n \\n View Details\\n \\n \\n Per Person on twin sharing\\n \\n \\n \\n \\n \\n \\n \\n \\n \\n \\n maldives\\n \\n 3 Nights, 4 Days\\n \\n \\n \\n \\n Starting From\\n \\n \\n Rs.\\n 13,900\\n \\n \\n \\n View Details\\n \\n \\n Per Person on twin sharing\\n \\n \\n \\n \\n \\n \\n \\n \\n \\n \\n singapore\\n \\n 3 Nights, 4 Days\\n \\n \\n \\n \\n Starting From\\n \\n \\n Rs.\\n 28,990\\n \\n \\n \\n View Details\\n \\n \\n Per Person on twin sharing\\n \\n \\n \\n \\n \\n \\n View all destinations\\n \\n \\n \\n \\n \\n Popular International Countries\\n \\n \\n \\n \\n \\n \\n \\n \\n \\n thailand\\n \\n \\n \\n \\n \\n Thailand is a gorgeous country located at the cent...\\n \\n \\n \\n View Guide\\n \\n \\n \\n \\n \\n \\n \\n \\n \\n \\n \\n \\n united kingdom\\n \\n \\n \\n \\n \\n Lying in northwestern Europe, is the island nation...\\n \\n \\n \\n View Guide\\n \\n \\n \\n \\n \\n \\n \\n \\n \\n \\n \\n \\n UAE\\n \\n \\n \\n \\n \\n A federation of seven emirates United Arab Emirate...\\n \\n \\n \\n View Guide\\n \\n \\n \\n \\n \\n \\n \\n \\n View all countries\\n \\n \\n \\n Top International  Airlines\\n \\n \\n \\n \\n Emirates\\n \\n Search\\n \\n Air India Express Airlines\\n \\n Search\\n \\n British Airways\\n \\n Search\\n \\n Singapore Airlines\\n \\n Search\\n \\n Lufthansa\\n \\n Search\\n \\n Thai Airways\\n \\n Search\\n \\n \\n View all airlines\\n \\n \\n \\n \\n \\n Looking for something else?\\n \\n \\n \\n Personalised help from our holiday expert wide choice of holiday packages\\n \\n \\n \\n +\\n \\n \\n \\n \\n \\n \\n \\n \\n *Select current location\\n \\n Abhiramapuram\\n \\n Adilabad\\n \\n Agartala\\n \\n Agra\\n \\n Ahmedabad\\n \\n Ahmednagar\\n \\n Aizawl\\n \\n Ajmer\\n \\n Akola\\n \\n Alandi\\n \\n Alibaug\\n \\n Aligarh\\n \\n Alipura\\n \\n Allahabad\\n \\n Alleppey\\n \\n Almora\\n \\n Alsisar\\n \\n Alwar\\n \\n Amarkantak\\n \\n Ambaji\\n \\n Ambala\\n \\n Ambikapur\\n \\n Amboli\\n \\n Amla\\n \\n Amravati\\n \\n Amritsar\\n \\n Anakapalle\\n \\n Anand\\n \\n Anantapur\\n \\n Andaman\\n \\n Ankleshwar\\n \\n Ankola\\n \\n Anuradhapura\\n \\n Araku\\n \\n Aronda\\n \\n Ashtamudi\\n \\n Athirapally\\n \\n Attapadi\\n \\n Attappadi\\n \\n Auli\\n \\n Aurangabad\\n \\n Ayodhya\\n \\n Azamgarh\\n \\n B R Hills\\n \\n B r hills\\n \\n Badami\\n \\n Baddi\\n \\n Badrinath\\n \\n Bagar\\n \\n Bahadurgarh\\n \\n Bahraich\\n \\n Baje\\n \\n Bakkhali\\n \\n Balaghat\\n \\n Balangir\\n \\n Balasinor\\n \\n Balasore\\n \\n Ballabhgarh\\n \\n Balrampur\\n \\n Bambora\\n \\n Bandhavgarh\\n \\n Bandipur\\n \\n Bangalore\\n \\n Bankura\\n \\n Banswara\\n \\n Baran\\n \\n Barbil\\n \\n Bareilly\\n \\n Bargi\\n \\n Barkot\\n \\n Barmer\\n \\n Barnala\\n \\n Basar\\n \\n Bathinda\\n \\n Begusarai\\n \\n Behrampore\\n \\n Behror\\n \\n Bekal\\n \\n Belgaum\\n \\n Bellary\\n \\n Belur Halebedu\\n \\n Bengaluru\\n \\n Berhampur\\n \\n Betalghat\\n \\n Betul\\n \\n Bhadra\\n \\n Bhadrak\\n \\n Bhandardara\\n \\n Bharatpur\\n \\n Bharmour\\n \\n Bharuch\\n \\n Bhatinda\\n \\n Bhavangadh\\n \\n Bhavnagar\\n \\n Bhedaghat\\n \\n Bhilai\\n \\n Bhilwara\\n \\n Bhimbetka\\n \\n Bhimtal\\n \\n Bhitarkanika\\n \\n Bhiwadi\\n \\n Bhopal\\n \\n Bhowali\\n \\n Bhubaneshwar\\n \\n Bhubaneswar\\n \\n Bhuj\\n \\n Biaora\\n \\n Bijapur\\n \\n Bikaner\\n \\n Bilaspur\\n \\n Binsar\\n \\n Bir\\n \\n Bir Himachal\\n \\n Bishnupur\\n \\n Bodhgaya\\n \\n Bokaro\\n \\n Bolpur\\n \\n Bomdila\\n \\n Bordi\\n \\n Bundelkhand\\n \\n Bundi\\n \\n Burdwan\\n \\n Burhanpur\\n \\n Calicut\\n \\n Canannore\\n \\n Chail\\n \\n Chalsa\\n \\n Chamarajanagar\\n \\n Chamba\\n \\n Chamba Hp\\n \\n Chamba himachal\\n \\n Chamba uttaranchal\\n \\n Chambal\\n \\n Chamunda\\n \\n Chanderi\\n \\n Chandigarh\\n \\n Chaukori\\n \\n Chengalpet\\n \\n Chennai\\n \\n Chettinad\\n \\n Chhaturpur\\n \\n Chhota Udepur\\n \\n Chidambaram\\n \\n Chikmagalur\\n \\n Chintpurni\\n \\n Chiplun\\n \\n Chitrakoot\\n \\n Chittoor\\n \\n Chittorgarh\\n \\n Choral\\n \\n Churu\\n \\n Cochin\\n \\n Coimbatore\\n \\n Conoor\\n \\n Coorg\\n \\n Corbett\\n \\n Corbett National Park\\n \\n Courtallam\\n \\n Cuddalore\\n \\n Cuttack\\n \\n Dabhosa\\n \\n Dahej\\n \\n Dalhousie\\n \\n Daman\\n \\n Dambulla\\n \\n Dandeli\\n \\n Dapoli\\n \\n Darjeeling\\n \\n Dasada\\n \\n Datia\\n \\n Dausa\\n \\n Davanagere\\n \\n Dechu\\n \\n Dehradun\\n \\n Delawadi\\n \\n Deoghar\\n \\n Deoria\\n \\n Dewas\\n \\n Dhanaulti\\n \\n Dhanbadh\\n \\n Dhankuta\\n \\n Dharamshala\\n \\n Dharan\\n \\n Dharmapuri\\n \\n Dharmastala\\n \\n Dharwad\\n \\n Dholpur\\n \\n Dhordo\\n \\n Dhule\\n \\n Dhulikhel\\n \\n Dibrugarh\\n \\n Digboi\\n \\n Digha\\n \\n Diglipur\\n \\n Dimapur\\n \\n Dindigul\\n \\n Diu\\n \\n Dive Agar\\n \\n Dooars\\n \\n Dughera\\n \\n Dumna\\n \\n Dungarpur\\n \\n Durgapur\\n \\n Durshet\\n \\n Dwarka\\n \\n East Coast Road\\n \\n Elappara\\n \\n Ernakulam\\n \\n Erode\\n \\n Faizabad\\n \\n Falakata\\n \\n Falta\\n \\n Faridabad\\n \\n Firozabad\\n \\n Gajraula\\n \\n Gandhidham\\n \\n Gandhinagar\\n \\n Gangavathi\\n \\n Gangotri\\n \\n Gangtok\\n \\n Ganpatipule\\n \\n Garhmukteshwar\\n \\n Garhwal\\n \\n Gaya\\n \\n Gethia\\n \\n Ghanerao\\n \\n Ghaziabad\\n \\n Gir\\n \\n Giridih\\n \\n Goa\\n \\n Gokarna\\n \\n Gokharna\\n \\n Golaghat\\n \\n Gondal\\n \\n Gopalpur\\n \\n Goplapur\\n \\n Gorakhpur\\n \\n Greater Noida\\n \\n Guhagar\\n \\n Gulmarg\\n \\n Gundlupet\\n \\n Guntur\\n \\n Gurdaspur\\n \\n Gurugram\\n \\n Guruvayoor\\n \\n Guwahati\\n \\n Gwalior\\n \\n Gyalshing\\n \\n Haflong\\n \\n Halali\\n \\n Haldwani\\n \\n Halebidu\\n \\n Hampi\\n \\n Hansi\\n \\n Hanumangarh\\n \\n Hapur\\n \\n Haridwar\\n \\n Hassan\\n \\n Havelock\\n \\n Hazaribagh\\n \\n Hikkaduwa\\n \\n Himatnagar\\n \\n Hisar\\n \\n Hodal\\n \\n Hogenakkal\\n \\n Hoshiarpur\\n \\n Hospet\\n \\n Hosur\\n \\n Hubli\\n \\n Hyderabad\\n \\n Idukki\\n \\n Igatpuri\\n \\n Imphal\\n \\n Indore\\n \\n Itanagar\\n \\n Jabalpur\\n \\n Jaipur\\n \\n Jaisalmer\\n \\n Jaisamand\\n \\n Jaisamand Rajasthan\\n \\n Jalandhar\\n \\n Jalgaon\\n \\n Jalor\\n \\n Jambughoda\\n \\n Jambugodha\\n \\n Jammu\\n \\n Jamnagar\\n \\n Jamshedpur\\n \\n Jawhar\\n \\n Jeolikot\\n \\n Jhabua\\n \\n Jhalda\\n \\n Jhansi\\n \\n Jharsuguda\\n \\n Jhunjhunu\\n \\n Jodhpur\\n \\n Jogbani\\n \\n Jojawar\\n \\n Jorhat\\n \\n Joshimath\\n \\n Junagadh\\n \\n Jwalamukhi\\n \\n Kabini\\n \\n Kadapa\\n \\n Kakinada\\n \\n Kalimpong\\n \\n Kalka\\n \\n Kalpetta\\n \\n Kalutara\\n \\n Kanatal\\n \\n Kanchipuram\\n \\n Kandy\\n \\n Kangra\\n \\n Kanha\\n \\n Kankavli\\n \\n Kannur\\n \\n Kanpur\\n \\n Kanyakumari\\n \\n Karad\\n \\n Karaikudi\\n \\n Karauli\\n \\n Kargil\\n \\n Karimnagar\\n \\n Karjat\\n \\n Karnal\\n \\n Karur\\n \\n Karwar\\n \\n Kasargod\\n \\n Kasauli\\n \\n Kashak\\n \\n Kashid\\n \\n Kashipur\\n \\n Kashmir\\n \\n Kasol\\n \\n Kataragama\\n \\n Kathgodam\\n \\n Kathmandu\\n \\n Katni\\n \\n Katra\\n \\n Kausani\\n \\n Kaza\\n \\n Kaziranga\\n \\n Kedarnath\\n \\n Kemmanagundi\\n \\n Kerala\\n \\n Keylong\\n \\n Khajjair\\n \\n Khajjiar\\n \\n Khajuraho\\n \\n Khalghat\\n \\n Khandala\\n \\n Khanna\\n \\n Khejarla\\n \\n Khejarla Rajasthan\\n \\n Khimsar\\n \\n Khurpatal\\n \\n Kishangarh\\n \\n Kochin\\n \\n Kodad\\n \\n Kodaikanal\\n \\n Kolad\\n \\n Kolhapur\\n \\n Kolkata\\n \\n Kollam\\n \\n Konark\\n \\n Konkan\\n \\n Konni\\n \\n Korba\\n \\n Kosi\\n \\n Kota\\n \\n Kotagiri\\n \\n Kotputli\\n \\n Kottayam\\n \\n Kovalam\\n \\n Krishnagiri\\n \\n Kuchesar\\n \\n Kudal\\n \\n Kufri\\n \\n Kukke Subramanya\\n \\n Kullu\\n \\n Kumarakom\\n \\n Kumbakonam\\n \\n Kumbalgarh\\n \\n Kundapur\\n \\n Kurnool\\n \\n Kurseong\\n \\n Kurukshetra\\n \\n Kushinagar\\n \\n Kutch\\n \\n Kuttikkanam\\n \\n Lachung\\n \\n Lakshadweep\\n \\n Lansdowne\\n \\n Latur\\n \\n Lava\\n \\n Lavasa\\n \\n Leh\\n \\n Loleygaon\\n \\n Lonavala\\n \\n Lothal\\n \\n Lucknow\\n \\n Ludhiana\\n \\n Luni\\n \\n Madgaon\\n \\n Madurai\\n \\n Mahabaleshwar\\n \\n Mahabalipuram\\n \\n Mahad\\n \\n Mahe\\n \\n Maheshwar\\n \\n Maihar\\n \\n Makrana\\n \\n Malappuram\\n \\n Maldah\\n \\n Malpe\\n \\n Malshej Ghat\\n \\n Malvan\\n \\n Mamallapuram\\n \\n Manali\\n \\n Manas\\n \\n Mandarmani\\n \\n Mandavi\\n \\n Mandawa\\n \\n Mandi\\n \\n Mandi Gobindgarh\\n \\n Mandormoni\\n \\n Mandsaur\\n \\n Mandu\\n \\n Manesar\\n \\n Mangalore\\n \\n Mangan\\n \\n Mangan North Sikkim\\n \\n Manipal\\n \\n Manmad\\n \\n Mansa\\n \\n Mantralayam\\n \\n Marari\\n \\n Mararri\\n \\n Marchula\\n \\n Margao\\n \\n Masinagudi\\n \\n Matheran\\n \\n Mathura\\n \\n Mayiladuthurai\\n \\n Mcleodganj\\n \\n Meerut\\n \\n Meghamalai\\n \\n Mettupalayam\\n \\n Mettur\\n \\n Mirik\\n \\n Mirzapur\\n \\n Mohali\\n \\n Moodbidri\\n \\n Moradabad\\n \\n Morbi\\n \\n Mount Abu\\n \\n Mukteshwar\\n \\n Mukundgarh\\n \\n Mukutmanipur\\n \\n Mumbai\\n \\n Mundra\\n \\n Munnar\\n \\n Munsiyari\\n \\n Murshidabad\\n \\n Murud Janjira\\n \\n Murudeshwar\\n \\n Mussoorie\\n \\n Muzaffarnagar\\n \\n Muzaffarpur\\n \\n Mysore\\n \\n Nadiad\\n \\n Nadukani\\n \\n Nagapattinam\\n \\n Nagarhole\\n \\n Nagaur\\n \\n Nagaur Fort\\n \\n Nagercoil\\n \\n Nagothane\\n \\n Nagpur\\n \\n Nahan\\n \\n Nainital\\n \\n Najibabad\\n \\n Nalagarh\\n \\n Naldehra\\n \\n Naldhera\\n \\n Namakkal\\n \\n Nanded\\n \\n Nandurbar\\n \\n Napne\\n \\n Narela\\n \\n Narlai\\n \\n Narnaul\\n \\n Nashik\\n \\n Nasik\\n \\n Nathdwara\\n \\n Naukuchiatal\\n \\n Naukuchiyatal\\n \\n Navi Mumbai\\n \\n Nawalgarh\\n \\n Neemrana\\n \\n Neemuch\\n \\n Negombo\\n \\n Neil\\n \\n Neil Island\\n \\n Nelliyampathy\\n \\n Nellore\\n \\n Nepaljung\\n \\n Neral\\n \\n New Delhi\\n \\n Nilambur\\n \\n Nilgiri\\n \\n Nimaj\\n \\n Nizamabad\\n \\n Noida\\n \\n Nowgoan\\n \\n Nubra Valley\\n \\n Nuwara Eliya\\n \\n Omkareshwar\\n \\n Ongole\\n \\n Ooty\\n \\n Orai\\n \\n Orchha\\n \\n Osian\\n \\n Osmanabad\\n \\n Pachewar\\n \\n Pachmarhi\\n \\n Pahalgam\\n \\n Palakkad\\n \\n Palampur\\n \\n Palani\\n \\n Palanpur\\n \\n Pali\\n \\n Palitana\\n \\n Palwal\\n \\n Panchgani\\n \\n Panchkula\\n \\n Panchmarhi\\n \\n Pandharpur\\n \\n Pangong\\n \\n Panhala\\n \\n Panipat\\n \\n Panjim\\n \\n Panna\\n \\n Pantnagar\\n \\n Panvel\\n \\n Paonta Sahib\\n \\n Paota\\n \\n Paradeep\\n \\n Paradip\\n \\n Parambikulam\\n \\n Parasnath\\n \\n Parwanoo\\n \\n Pataudi\\n \\n Pathanamthitta\\n \\n Pathankot\\n \\n Patiala\\n \\n Patna\\n \\n Patnitop\\n \\n Pelling\\n \\n Pench\\n \\n Perambalur\\n \\n Periyar\\n \\n Phagwara\\n \\n Phalodi\\n \\n Pichavaram\\n \\n Pinjore\\n \\n Pipariya\\n \\n Pipli\\n \\n Pithoragarh\\n \\n Pollachi\\n \\n Polonnaruwa\\n \\n Pondicherry\\n \\n Ponmudi\\n \\n Poompuhar\\n \\n Poovar\\n \\n Porbandar\\n \\n Port Blair\\n \\n Poshina\\n \\n Pragpur\\n \\n Pratapgarh\\n \\n Pudukottai\\n \\n Pune\\n \\n Puri\\n \\n Purulia\\n \\n Pushkar\\n \\n Puttaparthi\\n \\n Raebareli\\n \\n Rai Bareli\\n \\n Raibarely\\n \\n Raichak\\n \\n Raigarh\\n \\n Raipur\\n \\n Rajahmundry\\n \\n Rajaji National Park\\n \\n Rajasthan\\n \\n Rajgir\\n \\n Rajkot\\n \\n Rajpipla\\n \\n Rajsamand\\n \\n Rajula\\n \\n Ram Nagar\\n \\n Rameshwaram\\n \\n Ramgarh\\n \\n Ramnagar\\n \\n Ranakpur\\n \\n Ranchi\\n \\n Ranikhet\\n \\n Ranipet\\n \\n Ranny\\n \\n Ranthambore\\n \\n Ratlam\\n \\n Ratnagiri\\n \\n Ravangla\\n \\n Rewa\\n \\n Rewari\\n \\n Rishikesh\\n \\n Rishyap\\n \\n Rohetgarh\\n \\n Rohtak\\n \\n Rookhad\\n \\n Roorkee\\n \\n Ropar\\n \\n Rourkela\\n \\n Rudraprayag\\n \\n Rudrapur\\n \\n Saharanpur\\n \\n Sajan\\n \\n Sakleshpur\\n \\n Salasar\\n \\n Salem\\n \\n Samalkha\\n \\n Sanasar\\n \\n Sanawar\\n \\n Sanchi\\n \\n Sangla\\n \\n Sangli\\n \\n Saputara\\n \\n Saraswati\\n \\n Sardarshahar\\n \\n Sariska\\n \\n Sarnath\\n \\n Sasan Gir\\n \\n Satara\\n \\n Satna\\n \\n Satpura National Park\\n \\n Sattal\\n \\n Sawai Madhopur\\n \\n Sawantwadi\\n \\n Secunderabad\\n \\n Seoni\\n \\n Shahapur\\n \\n Shahdol\\n \\n Shahjahanpur\\n \\n Shahpura\\n \\n Sharavanbelgola\\n \\n Shekhavati\\n \\n Shekhawati\\n \\n Shillong\\n \\n Shimla\\n \\n Shimlipal\\n \\n Shimoga\\n \\n Shirdi\\n \\n Shivanasamudra\\n \\n Shivpuri\\n \\n Shravana belagola\\n \\n Siana\\n \\n Sibsagar\\n \\n Sigiriya\\n \\n Sikar\\n \\n Sikri\\n \\n Silchar\\n \\n Siliguri\\n \\n Silvassa\\n \\n Similipal\\n \\n Sirmour\\n \\n Sirohi\\n \\n Sirsi\\n \\n Sivaganga\\n \\n Sivaganga District\\n \\n Sivakasi\\n \\n Sohna\\n \\n Sojha\\n \\n Solan\\n \\n Solapur\\n \\n Somnath\\n \\n Sonamarg\\n \\n Sonauli\\n \\n Sonepat\\n \\n Sonmarg\\n \\n Sravasti\\n \\n Sri Ganganagar\\n \\n Sri Kalahasti\\n \\n Srikakulam\\n \\n Srinagar\\n \\n Sriperambudur\\n \\n Sriperumbudur\\n \\n Srirangam\\n \\n Srirangapatna\\n \\n Srungavarapukota\\n \\n Starcruise\\n \\n Sulthan Bathery\\n \\n Sunauli\\n \\n Sundarban\\n \\n Sunderban\\n \\n Surajgarh\\n \\n Surat\\n \\n Tadoba National Park\\n \\n Tajpur\\n \\n Talakad\\n \\n Tamia\\n \\n Tanjore\\n \\n Tanuku\\n \\n Tapola\\n \\n Tarapith\\n \\n Tarkarli\\n \\n Tawa\\n \\n Tawang\\n \\n Tenali\\n \\n Tezpur\\n \\n Thalakadu\\n \\n Thane\\n \\n Thanedar\\n \\n Thattekkad\\n \\n Thekkady\\n \\n Theni\\n \\n Thimphu\\n \\n Thirunallar\\n \\n Thiruvananthapuram\\n \\n Thiruvannamalai\\n \\n Thirvannamalai\\n \\n Thissamaharama\\n \\n Thodupuzha\\n \\n Thrissur\\n \\n Tinsukia\\n \\n Tiruchendur\\n \\n Tirunelveli\\n \\n Tirupati\\n \\n Tirupur\\n \\n Tiruttani\\n \\n Todgarh\\n \\n Tonk\\n \\n Topslip\\n \\n Trichirapalli\\n \\n Trichy\\n \\n Trimbakeshwar\\n \\n Tuljapur\\n \\n Tuticorin\\n \\n Udaipur\\n \\n Udhampur\\n \\n Udupi\\n \\n Ujjain\\n \\n Umaria\\n \\n Una\\n \\n Utelia\\n \\n Uttarkashi\\n \\n Vadodara\\n \\n Vagamon\\n \\n Vaishno Devi\\n \\n Valparai\\n \\n Vapi\\n \\n Varanasi\\n \\n Varkala\\n \\n Vasco\\n \\n Vedaranyam\\n \\n Velankanni\\n \\n Vellore\\n \\n Vengurla\\n \\n Veraval\\n \\n Vijayawada\\n \\n Vikramgadh\\n \\n Visakhapatnam\\n \\n Vizianagaram\\n \\n Vythiri\\n \\n Wadduwa\\n \\n Wankaner\\n \\n Warangal\\n \\n Wayanad\\n \\n West Kemeng\\n \\n Yala\\n \\n Yamunanagar\\n \\n Yamunotri\\n \\n Yavatmal\\n \\n Yelagiri\\n \\n Yercaud\\n \\n Yuksom\\n \\n Zirakpur\\n \\n \\n \\n \\n \\n \\n \\n Month of travel\\n \\n \\n \\n SEND QUERY\\n \\n \\n \\n \\n \\n X\\n \\n Thank you for submitting your holiday request. A Yatra representative will call you within the next 2 hours from 0124-4983560.\\n Alternatively, you can call us on 1860-200-1800.\\n \\n \\n \\n \\n \\n Privacy Secure\\n |\\n we will not spam you.\\n \\n \\n \\n \\n \\n \\n \\n \\n \\n \\n \\n Our Family\\n \\n \\n \\n \\n \\n \\n \\n \\n \\n \\n \\n \\n \\n Company Information\\n \\n \\n More About Us\\n |\\n \\n Leadership Team\\n |\\n \\n Our Products\\n |\\n \\n Awards Won\\n |\\n \\n Customer Testimonials\\n |\\n \\n Press Releases\\n \\n \\n \\n \\n Investor Relations\\n \\n \\n Company Overview\\n |\\n \\n Quarterly Earnings\\n |\\n \\n Press Releases\\n |\\n \\n Reports & Presentations\\n |\\n \\n SEC Filings\\n |\\n \\n Corporate Governance\\n |\\n \\n Social Media Disclosure\\n |\\n \\n Investor FAQs\\n \\n \\n \\n \\n \\n Partner With yatra\\n \\n \\n Travel Agent Sign Up\\n |\\n \\n Become a Cab Vendor\\n |\\n \\n Register Your Hotel\\n |\\n \\n Register Your Homestay\\n |\\n \\n Sell Holiday Packages\\n |\\n \\n Sell Your Activities\\n |\\n \\n List Your Bus Inventory\\n |\\n \\n Advertise With Us\\n \\n \\n \\n \\n Customer Care\\n \\n \\n Support & FAQs\\n |\\n \\n Terms & Conditions\\n |\\n \\n Privacy Policy\\n |\\n \\n User Agreement\\n \\n \\n \\n \\n \\n \\n Product Offerings\\n \\n \\n \\n Flights\\n |\\n \\n Airlines\\n |\\n \\n Domestic Airlines (Indian)\\n |\\n \\n Domestic Flights (Indian)\\n |\\n \\n International Airlines\\n |\\n \\n International Flights\\n |\\n \\n Flight Schedule\\n |\\n \\n Airline Flight status\\n |\\n \\n Cheap Air tickets\\n |\\n \\n Web Checkin\\n |\\n \\n Flight + Hotel Deals\\n |\\n \\n Hotels\\n |\\n \\n Domestic Hotels (In India)\\n |\\n \\n Homestays\\n |\\n \\n Yatra for Business\\n |\\n \\n Yatra for Corporates\\n |\\n \\n Yatra for SMEs\\n |\\n \\n India Tourism\\n |\\n \\n International Tourism\\n |\\n \\n Holidays\\n |\\n \\n Domestic Holiday Packages\\n |\\n \\n International Holiday Packages\\n |\\n \\n Activities\\n |\\n \\n Domestic Activities\\n |\\n \\n International Activities\\n |\\n \\n Bus booking\\n |\\n \\n Bus Ticket\\n |\\n \\n Trains\\n |\\n \\n Indian Railways\\n |\\n \\n IRCTC\\n |\\n \\n Check Train PNR Status\\n |\\n \\n Yatra on Mobile\\n |\\n \\n Yatra Android Mobile App\\n |\\n \\n Yatra iOS Mobile App\\n |\\n \\n Gift Vouchers\\n |\\n \\n Careers\\n |\\n \\n Travel Guide\\n |\\n \\n Blog\\n |\\n \\n Weekend Getaways\\n |\\n \\n VISA Information\\n \\n \\n \\n \\n \\n \\n More\\n \\n \\n Retail Offices\\n |\\n \\n Sitemap\\n |\\n \\n Gift Cards\\n |\\n \\n Visa Information\\n |\\n \\n Bug Bounty\\n \\n \\n \\n \\n Yatra For Corporates\\n |\\n Yatra On Mobiles\\n \\n \\n \\n \\n \\n \\n \\n \\n \\n \\n \\n \\n \\n \\n \\n \\n \\n \\n \\n \\n \\n \\n Connect with us :\\n \\n \\n \\n \\n \\n \\n \\n \\n \\n \\n \\n \\n \\n \\n \\n \\n \\n \\n \\n \\n \\n \\n \\n \\n \\n \\n \\n \\n \\n \\n \\n \\n \\n \\n \\n \\n \\n \\n \\n Copyright Â© 2017 Yatra Online Private Limited, India. All rights reserved\\n \\n \\n \\n \\n \\n \\n \\n \\n \\n \\n \\n \\n \\n \\n \\n \\n \\n \\n Looking for\\n vietnam\\n holiday package?\\n \\n SEND A QUERY\\n \\n \\n Applying changes\\n \\n \\n \\n \\n \\n \\n \\n \\n \\n \\n \\n \\n \\n \\n \\n \\n \\n \\n \\n \\n \\n \\n \\n \\n \\n \\n \\n \\n \"]"
      ]
     },
     "execution_count": 17,
     "metadata": {},
     "output_type": "execute_result"
    }
   ],
   "source": [
    "o"
   ]
  },
  {
   "cell_type": "markdown",
   "metadata": {},
   "source": [
    "## Writing to a file"
   ]
  },
  {
   "cell_type": "code",
   "execution_count": null,
   "metadata": {
    "collapsed": true
   },
   "outputs": [],
   "source": [
    "\n",
    "my_df = pd.DataFrame(data)\n",
    "\n",
    "my_df.to_csv('my_csv.csv', index=False, header=True) #Header = True adds the header to the file. False doesn't add any."
   ]
  },
  {
   "cell_type": "markdown",
   "metadata": {},
   "source": [
    "Once the resutls are written to the file. Need to understand which ones are the best places to see.\n",
    "\n",
    "\n"
   ]
  },
  {
   "cell_type": "markdown",
   "metadata": {},
   "source": [
    "### Atlas Obscura \n",
    "get_atlas_obs - This function reads atlas obscura for locations\n",
    "\n",
    "i/p is country"
   ]
  },
  {
   "cell_type": "code",
   "execution_count": null,
   "metadata": {},
   "outputs": [],
   "source": [
    "# url = 'https://www.lonelyplanet.com/vietnam/ho-chi-minh-city/travel-tips-and-articles/how-to-live-like-a-local-in-ho-chi-minh-city/40625c8c-8a11-5710-a052-1479d276bc91'       \n",
    "\n",
    "def get_atlas_obs(c):\n",
    "    url='https://www.atlasobscura.com/things-to-do/'+c+'/places'\n",
    "\n",
    "    r  = requests.get(url)\n",
    "    soup = bs.BeautifulSoup(r.text,'lxml')\n",
    "\n",
    "    for div in soup.find_all(\"section\", {\"class\": \"geo-places\"}):\n",
    "    #     print(div.get_text())\n",
    "        for link in div.find_all('h3'):\n",
    "            print(link.text)\n",
    "\n",
    "c = input('What is your destination country?')\n",
    "get_atlas_obs(c)\n",
    "\n",
    "\n",
    "        "
   ]
  },
  {
   "cell_type": "markdown",
   "metadata": {
    "collapsed": true
   },
   "source": [
    "# goetext library"
   ]
  },
  {
   "cell_type": "code",
   "execution_count": null,
   "metadata": {
    "collapsed": true
   },
   "outputs": [],
   "source": [
    "from geotext import GeoText"
   ]
  },
  {
   "cell_type": "code",
   "execution_count": null,
   "metadata": {
    "collapsed": true
   },
   "outputs": [],
   "source": [
    "# u = 'https://www.lonelyplanet.com/vietnam/ho-chi-minh-city/travel-tips-and-articles/how-to-live-like-a-local-in-ho-chi-minh-city/40625c8c-8a11-5710-a052-1479d276bc91'\n",
    "# u = 'https://www.tripadvisor.com/Attractions-g293921-Activities-Vietnam.html'\n",
    "u = 'http://www.vietnam-guide.com/attractions/top10-attractions.htm'\n",
    "r  = requests.get(u,headers=USER_AGENT)\n",
    "soup = bs.BeautifulSoup(r.text,'lxml')\n",
    "content=''\n",
    "\n",
    "for div in soup.find_all('p'):\n",
    "    text = div.get_text()\n",
    "#     print(len(text))\n",
    "#     print(text)\n",
    "    if len(text) > 100:\n",
    "        content += str(text)"
   ]
  },
  {
   "cell_type": "code",
   "execution_count": null,
   "metadata": {},
   "outputs": [],
   "source": [
    "content"
   ]
  },
  {
   "cell_type": "code",
   "execution_count": null,
   "metadata": {},
   "outputs": [],
   "source": [
    "places = GeoText(content)\n",
    "print(places.cities)\n",
    "print(places.countries)\n",
    "destination = places.country_mentions\n",
    "print(destination)"
   ]
  },
  {
   "cell_type": "markdown",
   "metadata": {
    "collapsed": true
   },
   "source": [
    "Need to remove the header and footer. \n",
    "    Compare with another page on the same website\n",
    "    "
   ]
  },
  {
   "cell_type": "code",
   "execution_count": null,
   "metadata": {
    "collapsed": true
   },
   "outputs": [],
   "source": [
    "from newspaper import Article"
   ]
  },
  {
   "cell_type": "code",
   "execution_count": null,
   "metadata": {
    "collapsed": true
   },
   "outputs": [],
   "source": [
    "article = Article(u)"
   ]
  },
  {
   "cell_type": "code",
   "execution_count": null,
   "metadata": {},
   "outputs": [],
   "source": [
    "article.download()\n",
    "article.parse()\n",
    "article.text"
   ]
  },
  {
   "cell_type": "code",
   "execution_count": null,
   "metadata": {},
   "outputs": [],
   "source": [
    "places = GeoText(article.text)\n",
    "places.cities"
   ]
  },
  {
   "cell_type": "code",
   "execution_count": null,
   "metadata": {
    "collapsed": true
   },
   "outputs": [],
   "source": []
  }
 ],
 "metadata": {
  "kernelspec": {
   "display_name": "Python 3",
   "language": "python",
   "name": "python3"
  },
  "language_info": {
   "codemirror_mode": {
    "name": "ipython",
    "version": 3
   },
   "file_extension": ".py",
   "mimetype": "text/x-python",
   "name": "python",
   "nbconvert_exporter": "python",
   "pygments_lexer": "ipython3",
   "version": "3.6.4"
  }
 },
 "nbformat": 4,
 "nbformat_minor": 2
}
